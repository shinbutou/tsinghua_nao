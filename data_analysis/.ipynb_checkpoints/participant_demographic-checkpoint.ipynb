{
 "cells": [
  {
   "cell_type": "code",
   "execution_count": 7,
   "id": "2047026b-e9cb-4509-a299-d89f378e6315",
   "metadata": {},
   "outputs": [],
   "source": [
    "import numpy as np\n",
    "import pandas as pd\n",
    "import matplotlib.pyplot as plt\n",
    "import seaborn as sns\n",
    "\n",
    "plt.style.use('seaborn-v0_8-darkgrid')\n",
    "plt.rcParams['font.family'] = 'Times New Roman'\n",
    "\n",
    "df = pd.read_excel(\"./data/participant/participant_background.xlsx\")"
   ]
  },
  {
   "cell_type": "code",
   "execution_count": 131,
   "id": "7d9abce5-1024-4cb5-92ad-4d13de479649",
   "metadata": {},
   "outputs": [],
   "source": [
    "df['sex'] = df['sex'].replace('男' ,'M')\n",
    "df['sex'] = df['sex'].replace('女' ,'F')"
   ]
  },
  {
   "cell_type": "code",
   "execution_count": 133,
   "id": "576cc4ba-e4bc-466d-b2c6-c28f645fbdd1",
   "metadata": {},
   "outputs": [],
   "source": [
    "df['level'] = df['level'].replace('本科生' ,'Bachelor')\n",
    "df['level'] = df['level'].replace('硕士生' ,'Master')\n",
    "df['level'] = df['level'].replace('博士生' ,'Doctor')"
   ]
  },
  {
   "cell_type": "code",
   "execution_count": 58,
   "id": "28c3814d-4472-431c-9ebd-296156a370ee",
   "metadata": {},
   "outputs": [],
   "source": [
    "df['experience'] = df['experience'].replace('是' ,'Y')\n",
    "df['experience'] = df['experience'].replace('否' ,'N')"
   ]
  },
  {
   "cell_type": "code",
   "execution_count": 135,
   "id": "cf655e43-37cb-4407-8386-af259cb3cb54",
   "metadata": {},
   "outputs": [],
   "source": [
    "df.to_csv(\"./data//participant/participant_demographic.csv\")"
   ]
  },
  {
   "cell_type": "markdown",
   "id": "23987271-cef6-4e67-b2a2-f827a7562119",
   "metadata": {},
   "source": [
    "exp_id [4], [11], [40], [44] have some information that I had to infer because it was too long ago"
   ]
  },
  {
   "cell_type": "code",
   "execution_count": 36,
   "id": "df6394b6-c372-45ef-862e-4e1f9b20e4dd",
   "metadata": {},
   "outputs": [],
   "source": [
    "df = pd.read_csv(\"./data/participant/participant_demographic.csv\")"
   ]
  },
  {
   "cell_type": "code",
   "execution_count": 148,
   "id": "2333bea8-9ff8-4e2b-9281-0609962ce7a2",
   "metadata": {},
   "outputs": [
    {
     "data": {
      "text/plain": [
       "Doctor      30\n",
       "Master      19\n",
       "Bachelor    15\n",
       "Name: level, dtype: int64"
      ]
     },
     "execution_count": 148,
     "metadata": {},
     "output_type": "execute_result"
    }
   ],
   "source": [
    "df['level'].value_counts()"
   ]
  },
  {
   "cell_type": "code",
   "execution_count": 150,
   "id": "2e51ebf8-1c49-4b58-af99-023a2aef8f74",
   "metadata": {},
   "outputs": [
    {
     "data": {
      "text/plain": [
       "M    32\n",
       "F    32\n",
       "Name: sex, dtype: int64"
      ]
     },
     "execution_count": 150,
     "metadata": {},
     "output_type": "execute_result"
    }
   ],
   "source": [
    "df['sex'].value_counts()"
   ]
  },
  {
   "cell_type": "code",
   "execution_count": 152,
   "id": "a994d169-109f-4bdd-9f74-ed13586978d4",
   "metadata": {},
   "outputs": [
    {
     "data": {
      "text/plain": [
       "24    14\n",
       "25     9\n",
       "20     6\n",
       "26     6\n",
       "22     6\n",
       "28     4\n",
       "27     4\n",
       "19     4\n",
       "23     3\n",
       "18     2\n",
       "33     2\n",
       "21     1\n",
       "31     1\n",
       "29     1\n",
       "35     1\n",
       "Name: age, dtype: int64"
      ]
     },
     "execution_count": 152,
     "metadata": {},
     "output_type": "execute_result"
    }
   ],
   "source": [
    "df['age'].value_counts()"
   ]
  },
  {
   "cell_type": "code",
   "execution_count": 166,
   "id": "b96a97c5-8231-4138-b789-598ea90080f3",
   "metadata": {},
   "outputs": [
    {
     "data": {
      "text/plain": [
       "(24.25, 3.541141417633944)"
      ]
     },
     "execution_count": 166,
     "metadata": {},
     "output_type": "execute_result"
    }
   ],
   "source": [
    "df['age'].mean(), df['age'].std()"
   ]
  },
  {
   "cell_type": "code",
   "execution_count": 170,
   "id": "43a5af1b-14ca-443d-a1d3-bd85cf8a56fd",
   "metadata": {},
   "outputs": [
    {
     "data": {
      "text/plain": [
       "(0.39859374999999997, 1.4769658593893038)"
      ]
     },
     "execution_count": 170,
     "metadata": {},
     "output_type": "execute_result"
    }
   ],
   "source": [
    "df['length'].mean(), df['length'].std()"
   ]
  },
  {
   "cell_type": "code",
   "execution_count": 180,
   "id": "8cefdbc4-f951-48dd-b681-4e9880c555d3",
   "metadata": {},
   "outputs": [
    {
     "data": {
      "text/plain": [
       "否    53\n",
       "是    11\n",
       "Name: experience, dtype: int64"
      ]
     },
     "execution_count": 180,
     "metadata": {},
     "output_type": "execute_result"
    }
   ],
   "source": [
    "df['experience'].value_counts()"
   ]
  },
  {
   "cell_type": "code",
   "execution_count": 183,
   "id": "f56f525c-1410-4dbe-ad6e-394638ced602",
   "metadata": {},
   "outputs": [
    {
     "data": {
      "text/plain": [
       "0.828125"
      ]
     },
     "execution_count": 183,
     "metadata": {},
     "output_type": "execute_result"
    }
   ],
   "source": [
    "53 / 64"
   ]
  },
  {
   "cell_type": "code",
   "execution_count": 187,
   "id": "7579245d-18b6-4363-b905-add0b29db440",
   "metadata": {},
   "outputs": [
    {
     "data": {
      "text/plain": [
       "0.00     53\n",
       "3.00      2\n",
       "1.00      2\n",
       "0.10      1\n",
       "10.00     1\n",
       "1.50      1\n",
       "5.00      1\n",
       "0.50      1\n",
       "0.25      1\n",
       "0.16      1\n",
       "Name: length, dtype: int64"
      ]
     },
     "execution_count": 187,
     "metadata": {},
     "output_type": "execute_result"
    }
   ],
   "source": [
    "df['length'].value_counts()"
   ]
  },
  {
   "cell_type": "code",
   "execution_count": 16,
   "id": "d080e5e3-889b-44a1-b3d0-d801880c5b99",
   "metadata": {},
   "outputs": [],
   "source": [
    "length_list = df['length'].tolist()"
   ]
  },
  {
   "cell_type": "code",
   "execution_count": 27,
   "id": "834e9c32-28ef-4579-bc58-268eca9255e7",
   "metadata": {},
   "outputs": [
    {
     "name": "stdout",
     "output_type": "stream",
     "text": [
      "53 6 3 2\n"
     ]
    }
   ],
   "source": [
    "first_count, second_count, third_count, fourth_count = 0, 0, 0, 0\n",
    "\n",
    "for i in range(len(length_list)):\n",
    "    if length_list[i] > 0.0 and length_list[i] <= 1.0:\n",
    "        second_count += 1\n",
    "    elif length_list[i] > 1.0 and length_list[i] <= 3.0:\n",
    "        third_count += 1 \n",
    "    elif length_list[i] >= 3.0:\n",
    "        fourth_count += 1\n",
    "    else:\n",
    "        first_count += 1\n",
    "\n",
    "print(first_count, second_count, third_count, fourth_count)"
   ]
  },
  {
   "cell_type": "code",
   "execution_count": 40,
   "id": "a411af32-17fb-441f-a717-78cdd1312b2a",
   "metadata": {},
   "outputs": [
    {
     "name": "stdout",
     "output_type": "stream",
     "text": [
      "4 3 2 3\n",
      "8 10 9 12\n",
      "4 3 5 1\n"
     ]
    }
   ],
   "source": [
    "I_1, N_1, E_1, B_1 = 0, 0, 0, 0\n",
    "I_2, N_2, E_2, B_2 = 0, 0, 0, 0\n",
    "I_3, N_3, E_3, B_3 = 0, 0, 0, 0\n",
    "\n",
    "for i in range(len(df)):\n",
    "    age = df['age'][i]\n",
    "    if i in range(0, 8) or i in range(32, 40):\n",
    "        if age <= 20:\n",
    "            I_1 += 1\n",
    "        elif age >= 27:\n",
    "            I_3 += 1\n",
    "        else:\n",
    "            I_2 += 1\n",
    "    elif i in range(8, 16) or i in range(40, 48):\n",
    "        if age <= 20:\n",
    "            N_1 += 1\n",
    "        elif age >= 27:\n",
    "            N_3 += 1\n",
    "        else:\n",
    "            N_2 += 1\n",
    "    elif i in range(16, 24) or i in range(48, 56):\n",
    "        if age <= 20:\n",
    "            E_1 += 1\n",
    "        elif age >= 27:\n",
    "            E_3 += 1\n",
    "        else:\n",
    "            E_2 += 1\n",
    "    else:\n",
    "        if age <= 20:\n",
    "            B_1 += 1\n",
    "        elif age >= 27:\n",
    "            B_3 += 1\n",
    "        else:\n",
    "            B_2 += 1\n",
    "\n",
    "print(I_1, N_1, E_1, B_1)\n",
    "print(I_2, N_2, E_2, B_2)\n",
    "print(I_3, N_3, E_3, B_3)"
   ]
  },
  {
   "cell_type": "code",
   "execution_count": 42,
   "id": "ff94b716-a244-4966-8071-9c86c6817d84",
   "metadata": {},
   "outputs": [
    {
     "name": "stdout",
     "output_type": "stream",
     "text": [
      "4 4 3 4\n",
      "6 6 7 11\n",
      "6 6 6 1\n"
     ]
    }
   ],
   "source": [
    "I_1, N_1, E_1, B_1 = 0, 0, 0, 0\n",
    "I_2, N_2, E_2, B_2 = 0, 0, 0, 0\n",
    "I_3, N_3, E_3, B_3 = 0, 0, 0, 0\n",
    "\n",
    "for i in range(len(df)):\n",
    "    level = df['level'][i]\n",
    "    if i in range(0, 8) or i in range(32, 40):\n",
    "        if level == 'Bachelor':\n",
    "            I_1 += 1\n",
    "        elif level == 'Master':\n",
    "            I_3 += 1\n",
    "        else:\n",
    "            I_2 += 1\n",
    "    elif i in range(8, 16) or i in range(40, 48):\n",
    "        if level == 'Bachelor':\n",
    "            N_1 += 1\n",
    "        elif level == 'Master':\n",
    "            N_3 += 1\n",
    "        else:\n",
    "            N_2 += 1\n",
    "    elif i in range(16, 24) or i in range(48, 56):\n",
    "        if level == 'Bachelor':\n",
    "            E_1 += 1\n",
    "        elif level == 'Master':\n",
    "            E_3 += 1\n",
    "        else:\n",
    "            E_2 += 1\n",
    "    else:\n",
    "        if level == 'Bachelor':\n",
    "            B_1 += 1\n",
    "        elif level == 'Master':\n",
    "            B_3 += 1\n",
    "        else:\n",
    "            B_2 += 1\n",
    "\n",
    "print(I_1, N_1, E_1, B_1)\n",
    "print(I_2, N_2, E_2, B_2)\n",
    "print(I_3, N_3, E_3, B_3)"
   ]
  },
  {
   "cell_type": "code",
   "execution_count": 49,
   "id": "20a06175-ed16-4618-9d1b-d70fb6a923f4",
   "metadata": {},
   "outputs": [
    {
     "name": "stdout",
     "output_type": "stream",
     "text": [
      "14 11 13 15\n",
      "2 0 3 1\n",
      "0 3 0 0\n",
      "0 2 0 0\n"
     ]
    }
   ],
   "source": [
    "I_1, N_1, E_1, B_1 = 0, 0, 0, 0\n",
    "I_2, N_2, E_2, B_2 = 0, 0, 0, 0\n",
    "I_3, N_3, E_3, B_3 = 0, 0, 0, 0\n",
    "I_4, N_4, E_4, B_4 = 0, 0, 0, 0\n",
    "\n",
    "for i in range(len(df)):\n",
    "    exp = df['length'][i]\n",
    "    if i in range(0, 8) or i in range(32, 40):\n",
    "        if exp == 0:\n",
    "            I_1 += 1\n",
    "        elif exp >= 5:\n",
    "            I_4 += 1\n",
    "        elif exp > 0 and exp <= 1:\n",
    "            I_2 += 1\n",
    "        else:\n",
    "            I_3 += 1\n",
    "    elif i in range(8, 16) or i in range(40, 48):\n",
    "        if exp == 0:\n",
    "            N_1 += 1\n",
    "        elif exp >= 5:\n",
    "            N_4 += 1\n",
    "        elif exp > 0 and exp <= 1:\n",
    "            N_2 += 1\n",
    "        else:\n",
    "            N_3 += 1\n",
    "    elif i in range(16, 24) or i in range(48, 56):\n",
    "        if exp == 0:\n",
    "            E_1 += 1\n",
    "        elif exp >= 5:\n",
    "            E_4 += 1\n",
    "        elif exp > 0 and exp <= 1:\n",
    "            E_2 += 1\n",
    "        else:\n",
    "            E_3 += 1\n",
    "    else:\n",
    "        if exp == 0:\n",
    "            B_1 += 1\n",
    "        elif exp >= 5:\n",
    "            B_4 += 1\n",
    "        elif exp > 0 and exp <= 1:\n",
    "            B_2 += 1\n",
    "        else:\n",
    "            B_3 += 1\n",
    "\n",
    "print(I_1, N_1, E_1, B_1)\n",
    "print(I_2, N_2, E_2, B_2)\n",
    "print(I_3, N_3, E_3, B_3)\n",
    "print(I_4, N_4, E_4, B_4)"
   ]
  }
 ],
 "metadata": {
  "kernelspec": {
   "display_name": "Python 3 (ipykernel)",
   "language": "python",
   "name": "python3"
  },
  "language_info": {
   "codemirror_mode": {
    "name": "ipython",
    "version": 3
   },
   "file_extension": ".py",
   "mimetype": "text/x-python",
   "name": "python",
   "nbconvert_exporter": "python",
   "pygments_lexer": "ipython3",
   "version": "3.10.16"
  }
 },
 "nbformat": 4,
 "nbformat_minor": 5
}
