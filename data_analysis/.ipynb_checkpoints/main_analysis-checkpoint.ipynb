{
 "cells": [
  {
   "cell_type": "code",
   "execution_count": 35,
   "id": "56c8196b-09ce-4802-a4f0-e0b3e6f30867",
   "metadata": {},
   "outputs": [
    {
     "data": {
      "text/html": [
       "<div>\n",
       "<style scoped>\n",
       "    .dataframe tbody tr th:only-of-type {\n",
       "        vertical-align: middle;\n",
       "    }\n",
       "\n",
       "    .dataframe tbody tr th {\n",
       "        vertical-align: top;\n",
       "    }\n",
       "\n",
       "    .dataframe thead th {\n",
       "        text-align: right;\n",
       "    }\n",
       "</style>\n",
       "<table border=\"1\" class=\"dataframe\">\n",
       "  <thead>\n",
       "    <tr style=\"text-align: right;\">\n",
       "      <th></th>\n",
       "      <th>時間戳記</th>\n",
       "      <th>1. 您的实验编号？</th>\n",
       "      <th>2. 我能够感受到机器人的正面评价，如「你真厉害」、「做得很好」</th>\n",
       "      <th>3. 我能够感受到机器人把好的结果归因到了</th>\n",
       "      <th>4. 我能够感受到机器人的负面评价，如「做得不对」、「完成得不好」</th>\n",
       "      <th>5. 我能够感受到机器人把不好的结果归因到了</th>\n",
       "      <th>6. 我能够感受到机器人给我的评价</th>\n",
       "      <th>7. 我认同NAO对我的正面评价，我认为自己确实表现得不错</th>\n",
       "      <th>8. 我认为，在刚刚的实验任务中，动作完成得好主要是依赖于</th>\n",
       "      <th>9. 我认为，动作完成得好主要是______的功劳</th>\n",
       "      <th>...</th>\n",
       "      <th>75. 机器人只能做人类指示它去做的事情</th>\n",
       "      <th>76. 机器人永远不会做任何运行程序以外的事情</th>\n",
       "      <th>77. 我希望在本次实验中表现出色</th>\n",
       "      <th>78. 我相信我可以掌握本次实验中机器人教授的基本动作</th>\n",
       "      <th>79. 我相信我将在本次实验中取得优异的成绩</th>\n",
       "      <th>80. 我相信我可以掌握本次实验中机器人教授的动作</th>\n",
       "      <th>81. 我有信心在本次实验中表现出色</th>\n",
       "      <th>82. 我相信我能理解本次实验中机器人教授的困难动作</th>\n",
       "      <th>83. 我相信我能理解本次实验中机器人教授的复杂动作</th>\n",
       "      <th>84. 我相信我将在本次实验中出色地完成动作</th>\n",
       "    </tr>\n",
       "  </thead>\n",
       "  <tbody>\n",
       "    <tr>\n",
       "      <th>0</th>\n",
       "      <td>2022-07-23 19:08:40.435</td>\n",
       "      <td>17</td>\n",
       "      <td>5</td>\n",
       "      <td>3</td>\n",
       "      <td>5</td>\n",
       "      <td>3</td>\n",
       "      <td>正面评价和负面评价相当</td>\n",
       "      <td>5</td>\n",
       "      <td>3</td>\n",
       "      <td>4</td>\n",
       "      <td>...</td>\n",
       "      <td>7</td>\n",
       "      <td>7</td>\n",
       "      <td>5</td>\n",
       "      <td>5</td>\n",
       "      <td>5</td>\n",
       "      <td>5</td>\n",
       "      <td>5</td>\n",
       "      <td>3</td>\n",
       "      <td>3</td>\n",
       "      <td>6</td>\n",
       "    </tr>\n",
       "    <tr>\n",
       "      <th>1</th>\n",
       "      <td>2022-07-24 10:42:36.312</td>\n",
       "      <td>25</td>\n",
       "      <td>7</td>\n",
       "      <td>2</td>\n",
       "      <td>7</td>\n",
       "      <td>6</td>\n",
       "      <td>正面评价更多</td>\n",
       "      <td>4</td>\n",
       "      <td>5</td>\n",
       "      <td>5</td>\n",
       "      <td>...</td>\n",
       "      <td>6</td>\n",
       "      <td>7</td>\n",
       "      <td>7</td>\n",
       "      <td>5</td>\n",
       "      <td>5</td>\n",
       "      <td>4</td>\n",
       "      <td>4</td>\n",
       "      <td>5</td>\n",
       "      <td>5</td>\n",
       "      <td>3</td>\n",
       "    </tr>\n",
       "    <tr>\n",
       "      <th>2</th>\n",
       "      <td>2022-07-24 11:30:04.161</td>\n",
       "      <td>49</td>\n",
       "      <td>6</td>\n",
       "      <td>3</td>\n",
       "      <td>6</td>\n",
       "      <td>2</td>\n",
       "      <td>正面评价和负面评价相当</td>\n",
       "      <td>4</td>\n",
       "      <td>4</td>\n",
       "      <td>3</td>\n",
       "      <td>...</td>\n",
       "      <td>5</td>\n",
       "      <td>3</td>\n",
       "      <td>6</td>\n",
       "      <td>5</td>\n",
       "      <td>3</td>\n",
       "      <td>4</td>\n",
       "      <td>3</td>\n",
       "      <td>4</td>\n",
       "      <td>3</td>\n",
       "      <td>3</td>\n",
       "    </tr>\n",
       "    <tr>\n",
       "      <th>3</th>\n",
       "      <td>2022-07-24 13:41:12.631</td>\n",
       "      <td>9</td>\n",
       "      <td>7</td>\n",
       "      <td>5</td>\n",
       "      <td>6</td>\n",
       "      <td>4</td>\n",
       "      <td>正面评价更多</td>\n",
       "      <td>4</td>\n",
       "      <td>5</td>\n",
       "      <td>4</td>\n",
       "      <td>...</td>\n",
       "      <td>7</td>\n",
       "      <td>7</td>\n",
       "      <td>7</td>\n",
       "      <td>4</td>\n",
       "      <td>4</td>\n",
       "      <td>4</td>\n",
       "      <td>2</td>\n",
       "      <td>1</td>\n",
       "      <td>1</td>\n",
       "      <td>1</td>\n",
       "    </tr>\n",
       "    <tr>\n",
       "      <th>4</th>\n",
       "      <td>2022-07-24 14:22:01.431</td>\n",
       "      <td>1</td>\n",
       "      <td>6</td>\n",
       "      <td>6</td>\n",
       "      <td>5</td>\n",
       "      <td>6</td>\n",
       "      <td>正面评价更多</td>\n",
       "      <td>4</td>\n",
       "      <td>4</td>\n",
       "      <td>3</td>\n",
       "      <td>...</td>\n",
       "      <td>4</td>\n",
       "      <td>3</td>\n",
       "      <td>6</td>\n",
       "      <td>5</td>\n",
       "      <td>6</td>\n",
       "      <td>5</td>\n",
       "      <td>5</td>\n",
       "      <td>5</td>\n",
       "      <td>5</td>\n",
       "      <td>5</td>\n",
       "    </tr>\n",
       "    <tr>\n",
       "      <th>...</th>\n",
       "      <td>...</td>\n",
       "      <td>...</td>\n",
       "      <td>...</td>\n",
       "      <td>...</td>\n",
       "      <td>...</td>\n",
       "      <td>...</td>\n",
       "      <td>...</td>\n",
       "      <td>...</td>\n",
       "      <td>...</td>\n",
       "      <td>...</td>\n",
       "      <td>...</td>\n",
       "      <td>...</td>\n",
       "      <td>...</td>\n",
       "      <td>...</td>\n",
       "      <td>...</td>\n",
       "      <td>...</td>\n",
       "      <td>...</td>\n",
       "      <td>...</td>\n",
       "      <td>...</td>\n",
       "      <td>...</td>\n",
       "      <td>...</td>\n",
       "    </tr>\n",
       "    <tr>\n",
       "      <th>59</th>\n",
       "      <td>2022-07-31 10:44:46.640</td>\n",
       "      <td>56</td>\n",
       "      <td>7</td>\n",
       "      <td>1</td>\n",
       "      <td>7</td>\n",
       "      <td>1</td>\n",
       "      <td>正面评价和负面评价相当</td>\n",
       "      <td>5</td>\n",
       "      <td>2</td>\n",
       "      <td>2</td>\n",
       "      <td>...</td>\n",
       "      <td>7</td>\n",
       "      <td>7</td>\n",
       "      <td>4</td>\n",
       "      <td>7</td>\n",
       "      <td>7</td>\n",
       "      <td>7</td>\n",
       "      <td>7</td>\n",
       "      <td>7</td>\n",
       "      <td>7</td>\n",
       "      <td>6</td>\n",
       "    </tr>\n",
       "    <tr>\n",
       "      <th>60</th>\n",
       "      <td>2022-07-31 11:30:54.182</td>\n",
       "      <td>24</td>\n",
       "      <td>5</td>\n",
       "      <td>5</td>\n",
       "      <td>6</td>\n",
       "      <td>3</td>\n",
       "      <td>正面评价和负面评价相当</td>\n",
       "      <td>5</td>\n",
       "      <td>3</td>\n",
       "      <td>3</td>\n",
       "      <td>...</td>\n",
       "      <td>5</td>\n",
       "      <td>4</td>\n",
       "      <td>6</td>\n",
       "      <td>5</td>\n",
       "      <td>5</td>\n",
       "      <td>5</td>\n",
       "      <td>5</td>\n",
       "      <td>5</td>\n",
       "      <td>6</td>\n",
       "      <td>5</td>\n",
       "    </tr>\n",
       "    <tr>\n",
       "      <th>61</th>\n",
       "      <td>2022-07-31 12:42:42.503</td>\n",
       "      <td>32</td>\n",
       "      <td>7</td>\n",
       "      <td>2</td>\n",
       "      <td>5</td>\n",
       "      <td>7</td>\n",
       "      <td>正面评价更多</td>\n",
       "      <td>4</td>\n",
       "      <td>5</td>\n",
       "      <td>4</td>\n",
       "      <td>...</td>\n",
       "      <td>7</td>\n",
       "      <td>2</td>\n",
       "      <td>6</td>\n",
       "      <td>6</td>\n",
       "      <td>5</td>\n",
       "      <td>6</td>\n",
       "      <td>6</td>\n",
       "      <td>6</td>\n",
       "      <td>6</td>\n",
       "      <td>5</td>\n",
       "    </tr>\n",
       "    <tr>\n",
       "      <th>62</th>\n",
       "      <td>2022-08-01 10:20:24.240</td>\n",
       "      <td>14</td>\n",
       "      <td>5</td>\n",
       "      <td>3</td>\n",
       "      <td>5</td>\n",
       "      <td>4</td>\n",
       "      <td>正面评价更多</td>\n",
       "      <td>6</td>\n",
       "      <td>2</td>\n",
       "      <td>3</td>\n",
       "      <td>...</td>\n",
       "      <td>5</td>\n",
       "      <td>5</td>\n",
       "      <td>6</td>\n",
       "      <td>6</td>\n",
       "      <td>6</td>\n",
       "      <td>6</td>\n",
       "      <td>6</td>\n",
       "      <td>6</td>\n",
       "      <td>6</td>\n",
       "      <td>6</td>\n",
       "    </tr>\n",
       "    <tr>\n",
       "      <th>63</th>\n",
       "      <td>2022-08-01 11:20:49.457</td>\n",
       "      <td>64</td>\n",
       "      <td>5</td>\n",
       "      <td>3</td>\n",
       "      <td>5</td>\n",
       "      <td>6</td>\n",
       "      <td>正面评价和负面评价相当</td>\n",
       "      <td>2</td>\n",
       "      <td>4</td>\n",
       "      <td>4</td>\n",
       "      <td>...</td>\n",
       "      <td>4</td>\n",
       "      <td>4</td>\n",
       "      <td>6</td>\n",
       "      <td>5</td>\n",
       "      <td>2</td>\n",
       "      <td>2</td>\n",
       "      <td>2</td>\n",
       "      <td>2</td>\n",
       "      <td>2</td>\n",
       "      <td>2</td>\n",
       "    </tr>\n",
       "  </tbody>\n",
       "</table>\n",
       "<p>64 rows × 85 columns</p>\n",
       "</div>"
      ],
      "text/plain": [
       "                       時間戳記  1. 您的实验编号？  2. 我能够感受到机器人的正面评价，如「你真厉害」、「做得很好」  \\\n",
       "0   2022-07-23 19:08:40.435          17                                 5   \n",
       "1   2022-07-24 10:42:36.312          25                                 7   \n",
       "2   2022-07-24 11:30:04.161          49                                 6   \n",
       "3   2022-07-24 13:41:12.631           9                                 7   \n",
       "4   2022-07-24 14:22:01.431           1                                 6   \n",
       "..                      ...         ...                               ...   \n",
       "59  2022-07-31 10:44:46.640          56                                 7   \n",
       "60  2022-07-31 11:30:54.182          24                                 5   \n",
       "61  2022-07-31 12:42:42.503          32                                 7   \n",
       "62  2022-08-01 10:20:24.240          14                                 5   \n",
       "63  2022-08-01 11:20:49.457          64                                 5   \n",
       "\n",
       "    3. 我能够感受到机器人把好的结果归因到了  4. 我能够感受到机器人的负面评价，如「做得不对」、「完成得不好」  \\\n",
       "0                       3                                  5   \n",
       "1                       2                                  7   \n",
       "2                       3                                  6   \n",
       "3                       5                                  6   \n",
       "4                       6                                  5   \n",
       "..                    ...                                ...   \n",
       "59                      1                                  7   \n",
       "60                      5                                  6   \n",
       "61                      2                                  5   \n",
       "62                      3                                  5   \n",
       "63                      3                                  5   \n",
       "\n",
       "    5. 我能够感受到机器人把不好的结果归因到了 6. 我能够感受到机器人给我的评价  7. 我认同NAO对我的正面评价，我认为自己确实表现得不错  \\\n",
       "0                        3       正面评价和负面评价相当                              5   \n",
       "1                        6            正面评价更多                              4   \n",
       "2                        2       正面评价和负面评价相当                              4   \n",
       "3                        4            正面评价更多                              4   \n",
       "4                        6            正面评价更多                              4   \n",
       "..                     ...               ...                            ...   \n",
       "59                       1       正面评价和负面评价相当                              5   \n",
       "60                       3       正面评价和负面评价相当                              5   \n",
       "61                       7            正面评价更多                              4   \n",
       "62                       4            正面评价更多                              6   \n",
       "63                       6       正面评价和负面评价相当                              2   \n",
       "\n",
       "    8. 我认为，在刚刚的实验任务中，动作完成得好主要是依赖于  9. 我认为，动作完成得好主要是______的功劳  ...  \\\n",
       "0                               3                          4  ...   \n",
       "1                               5                          5  ...   \n",
       "2                               4                          3  ...   \n",
       "3                               5                          4  ...   \n",
       "4                               4                          3  ...   \n",
       "..                            ...                        ...  ...   \n",
       "59                              2                          2  ...   \n",
       "60                              3                          3  ...   \n",
       "61                              5                          4  ...   \n",
       "62                              2                          3  ...   \n",
       "63                              4                          4  ...   \n",
       "\n",
       "    75. 机器人只能做人类指示它去做的事情  76. 机器人永远不会做任何运行程序以外的事情  77. 我希望在本次实验中表现出色  \\\n",
       "0                      7                        7                  5   \n",
       "1                      6                        7                  7   \n",
       "2                      5                        3                  6   \n",
       "3                      7                        7                  7   \n",
       "4                      4                        3                  6   \n",
       "..                   ...                      ...                ...   \n",
       "59                     7                        7                  4   \n",
       "60                     5                        4                  6   \n",
       "61                     7                        2                  6   \n",
       "62                     5                        5                  6   \n",
       "63                     4                        4                  6   \n",
       "\n",
       "    78. 我相信我可以掌握本次实验中机器人教授的基本动作  79. 我相信我将在本次实验中取得优异的成绩  \\\n",
       "0                             5                       5   \n",
       "1                             5                       5   \n",
       "2                             5                       3   \n",
       "3                             4                       4   \n",
       "4                             5                       6   \n",
       "..                          ...                     ...   \n",
       "59                            7                       7   \n",
       "60                            5                       5   \n",
       "61                            6                       5   \n",
       "62                            6                       6   \n",
       "63                            5                       2   \n",
       "\n",
       "    80. 我相信我可以掌握本次实验中机器人教授的动作  81. 我有信心在本次实验中表现出色  82. 我相信我能理解本次实验中机器人教授的困难动作  \\\n",
       "0                           5                   5                           3   \n",
       "1                           4                   4                           5   \n",
       "2                           4                   3                           4   \n",
       "3                           4                   2                           1   \n",
       "4                           5                   5                           5   \n",
       "..                        ...                 ...                         ...   \n",
       "59                          7                   7                           7   \n",
       "60                          5                   5                           5   \n",
       "61                          6                   6                           6   \n",
       "62                          6                   6                           6   \n",
       "63                          2                   2                           2   \n",
       "\n",
       "    83. 我相信我能理解本次实验中机器人教授的复杂动作  84. 我相信我将在本次实验中出色地完成动作  \n",
       "0                            3                       6  \n",
       "1                            5                       3  \n",
       "2                            3                       3  \n",
       "3                            1                       1  \n",
       "4                            5                       5  \n",
       "..                         ...                     ...  \n",
       "59                           7                       6  \n",
       "60                           6                       5  \n",
       "61                           6                       5  \n",
       "62                           6                       6  \n",
       "63                           2                       2  \n",
       "\n",
       "[64 rows x 85 columns]"
      ]
     },
     "execution_count": 35,
     "metadata": {},
     "output_type": "execute_result"
    }
   ],
   "source": [
    "import numpy as np\n",
    "import pandas as pd\n",
    "import matplotlib.pyplot as plt\n",
    "\n",
    "from scipy.stats import wilcoxon\n",
    "from scipy.stats import kruskal\n",
    "from scikit_posthocs import posthoc_dunn\n",
    "\n",
    "from pandas.api.types import CategoricalDtype\n",
    "order = ['Internal', 'Narcissistic', 'External', 'Benevolent'] # Define the custom order\n",
    "cat_type = CategoricalDtype(categories=order, ordered=True) # Set it as a CategoricalDtype\n",
    "\n",
    "plt.style.use('seaborn-v0_8-darkgrid')\n",
    "plt.rcParams['font.family'] = 'Times New Roman'\n",
    "\n",
    "import pingouin as pg\n",
    "\n",
    "df = pd.read_csv('./data/after.csv')\n",
    "df.drop(df.columns[0], axis=1, inplace=True)\n",
    "df"
   ]
  },
  {
   "cell_type": "code",
   "execution_count": 2,
   "id": "91674e0d-ff57-43e4-a321-e0595ed2847a",
   "metadata": {},
   "outputs": [
    {
     "data": {
      "text/html": [
       "<div>\n",
       "<style scoped>\n",
       "    .dataframe tbody tr th:only-of-type {\n",
       "        vertical-align: middle;\n",
       "    }\n",
       "\n",
       "    .dataframe tbody tr th {\n",
       "        vertical-align: top;\n",
       "    }\n",
       "\n",
       "    .dataframe thead th {\n",
       "        text-align: right;\n",
       "    }\n",
       "</style>\n",
       "<table border=\"1\" class=\"dataframe\">\n",
       "  <thead>\n",
       "    <tr style=\"text-align: right;\">\n",
       "      <th></th>\n",
       "      <th>33. 听到机器人的正面评价，我会认为自己受到了表扬</th>\n",
       "      <th>34. 我认为机器人有资格对我提出表扬</th>\n",
       "      <th>35. 我认可和接受机器人对我表扬</th>\n",
       "    </tr>\n",
       "  </thead>\n",
       "  <tbody>\n",
       "    <tr>\n",
       "      <th>0</th>\n",
       "      <td>5</td>\n",
       "      <td>5</td>\n",
       "      <td>4</td>\n",
       "    </tr>\n",
       "    <tr>\n",
       "      <th>1</th>\n",
       "      <td>6</td>\n",
       "      <td>5</td>\n",
       "      <td>5</td>\n",
       "    </tr>\n",
       "    <tr>\n",
       "      <th>2</th>\n",
       "      <td>5</td>\n",
       "      <td>5</td>\n",
       "      <td>5</td>\n",
       "    </tr>\n",
       "    <tr>\n",
       "      <th>3</th>\n",
       "      <td>7</td>\n",
       "      <td>7</td>\n",
       "      <td>7</td>\n",
       "    </tr>\n",
       "    <tr>\n",
       "      <th>4</th>\n",
       "      <td>6</td>\n",
       "      <td>5</td>\n",
       "      <td>6</td>\n",
       "    </tr>\n",
       "    <tr>\n",
       "      <th>...</th>\n",
       "      <td>...</td>\n",
       "      <td>...</td>\n",
       "      <td>...</td>\n",
       "    </tr>\n",
       "    <tr>\n",
       "      <th>59</th>\n",
       "      <td>1</td>\n",
       "      <td>7</td>\n",
       "      <td>1</td>\n",
       "    </tr>\n",
       "    <tr>\n",
       "      <th>60</th>\n",
       "      <td>4</td>\n",
       "      <td>5</td>\n",
       "      <td>4</td>\n",
       "    </tr>\n",
       "    <tr>\n",
       "      <th>61</th>\n",
       "      <td>6</td>\n",
       "      <td>6</td>\n",
       "      <td>7</td>\n",
       "    </tr>\n",
       "    <tr>\n",
       "      <th>62</th>\n",
       "      <td>6</td>\n",
       "      <td>6</td>\n",
       "      <td>6</td>\n",
       "    </tr>\n",
       "    <tr>\n",
       "      <th>63</th>\n",
       "      <td>3</td>\n",
       "      <td>4</td>\n",
       "      <td>4</td>\n",
       "    </tr>\n",
       "  </tbody>\n",
       "</table>\n",
       "<p>64 rows × 3 columns</p>\n",
       "</div>"
      ],
      "text/plain": [
       "    33. 听到机器人的正面评价，我会认为自己受到了表扬  34. 我认为机器人有资格对我提出表扬  35. 我认可和接受机器人对我表扬\n",
       "0                            5                    5                  4\n",
       "1                            6                    5                  5\n",
       "2                            5                    5                  5\n",
       "3                            7                    7                  7\n",
       "4                            6                    5                  6\n",
       "..                         ...                  ...                ...\n",
       "59                           1                    7                  1\n",
       "60                           4                    5                  4\n",
       "61                           6                    6                  7\n",
       "62                           6                    6                  6\n",
       "63                           3                    4                  4\n",
       "\n",
       "[64 rows x 3 columns]"
      ]
     },
     "execution_count": 2,
     "metadata": {},
     "output_type": "execute_result"
    }
   ],
   "source": [
    "df.iloc[:, 33:36]"
   ]
  },
  {
   "cell_type": "code",
   "execution_count": 49,
   "id": "781f64f5-6c5c-47e7-a5c7-7121f98dd2c3",
   "metadata": {},
   "outputs": [
    {
     "data": {
      "text/plain": [
       "(5.333333333333333,\n",
       " np.float64(4.916666666666667),\n",
       " np.float64(6.083333333333333))"
      ]
     },
     "execution_count": 49,
     "metadata": {},
     "output_type": "execute_result"
    }
   ],
   "source": [
    "temp_df = pd.concat([df[df.columns[[33, 34, 35]]].iloc[0:8,], df[df.columns[[33, 34, 35]]].iloc[32:40,]])\n",
    "temp_data, tracker = [], 0\n",
    "\n",
    "for i in range(len(temp_df)):\n",
    "    tracker = (temp_df.iloc[i, 0] + temp_df.iloc[i, 1] + temp_df.iloc[i, 2]) / 3\n",
    "    temp_data.append(tracker)\n",
    "\n",
    "pd.Series(temp_data).median(), pd.Series(temp_data).quantile(0.25), pd.Series(temp_data).quantile(0.75)"
   ]
  },
  {
   "cell_type": "code",
   "execution_count": 50,
   "id": "23ae1b49-7ac9-45fe-9507-5ac26f5231f7",
   "metadata": {},
   "outputs": [
    {
     "data": {
      "text/plain": [
       "(5.5, np.float64(4.583333333333334), np.float64(6.0))"
      ]
     },
     "execution_count": 50,
     "metadata": {},
     "output_type": "execute_result"
    }
   ],
   "source": [
    "temp_df = pd.concat([df[df.columns[[33, 34, 35]]].iloc[8:16,], df[df.columns[[33, 34, 35]]].iloc[40:48,]])\n",
    "temp_data, tracker = [], 0\n",
    "\n",
    "for i in range(len(temp_df)):\n",
    "    tracker = (temp_df.iloc[i, 0] + temp_df.iloc[i, 1] + temp_df.iloc[i, 2]) / 3\n",
    "    temp_data.append(tracker)\n",
    "\n",
    "pd.Series(temp_data).median(), pd.Series(temp_data).quantile(0.25), pd.Series(temp_data).quantile(0.75)"
   ]
  },
  {
   "cell_type": "code",
   "execution_count": 51,
   "id": "7e3b6e12-1d53-4b5a-a73c-fc1b5cadd896",
   "metadata": {},
   "outputs": [
    {
     "data": {
      "text/plain": [
       "(5.166666666666666, np.float64(4.666666666666667), np.float64(5.75))"
      ]
     },
     "execution_count": 51,
     "metadata": {},
     "output_type": "execute_result"
    }
   ],
   "source": [
    "temp_df = pd.concat([df[df.columns[[33, 34, 35]]].iloc[16:24,], df[df.columns[[33, 34, 35]]].iloc[48:56,]])\n",
    "temp_data, tracker = [], 0\n",
    "\n",
    "for i in range(len(temp_df)):\n",
    "    tracker = (temp_df.iloc[i, 0] + temp_df.iloc[i, 1] + temp_df.iloc[i, 2]) / 3\n",
    "    temp_data.append(tracker)\n",
    "\n",
    "pd.Series(temp_data).median(), pd.Series(temp_data).quantile(0.25), pd.Series(temp_data).quantile(0.75)"
   ]
  },
  {
   "cell_type": "code",
   "execution_count": 52,
   "id": "f25acbb7-1abf-434b-ac82-1fc603f12d5d",
   "metadata": {},
   "outputs": [
    {
     "data": {
      "text/plain": [
       "(5.333333333333333,\n",
       " np.float64(4.583333333333334),\n",
       " np.float64(6.083333333333333))"
      ]
     },
     "execution_count": 52,
     "metadata": {},
     "output_type": "execute_result"
    }
   ],
   "source": [
    "temp_df = pd.concat([df[df.columns[[33, 34, 35]]].iloc[24:32,], df[df.columns[[33, 34, 35]]].iloc[56:64,]])\n",
    "temp_data, tracker = [], 0\n",
    "\n",
    "for i in range(len(temp_df)):\n",
    "    tracker = (temp_df.iloc[i, 0] + temp_df.iloc[i, 1] + temp_df.iloc[i, 2]) / 3\n",
    "    temp_data.append(tracker)\n",
    "\n",
    "pd.Series(temp_data).median(), pd.Series(temp_data).quantile(0.25), pd.Series(temp_data).quantile(0.75)"
   ]
  },
  {
   "cell_type": "code",
   "execution_count": 2,
   "id": "56946487-c099-4073-a266-d1140e2b1073",
   "metadata": {},
   "outputs": [
    {
     "data": {
      "text/html": [
       "<div>\n",
       "<style scoped>\n",
       "    .dataframe tbody tr th:only-of-type {\n",
       "        vertical-align: middle;\n",
       "    }\n",
       "\n",
       "    .dataframe tbody tr th {\n",
       "        vertical-align: top;\n",
       "    }\n",
       "\n",
       "    .dataframe thead th {\n",
       "        text-align: right;\n",
       "    }\n",
       "</style>\n",
       "<table border=\"1\" class=\"dataframe\">\n",
       "  <thead>\n",
       "    <tr style=\"text-align: right;\">\n",
       "      <th></th>\n",
       "      <th>36. 听到机器人的负面评价，我会认为自己受到了批评</th>\n",
       "      <th>37. 我认为机器人有资格对我提出批评</th>\n",
       "      <th>38. 我认可和接受机器人对我的批评</th>\n",
       "    </tr>\n",
       "  </thead>\n",
       "  <tbody>\n",
       "    <tr>\n",
       "      <th>0</th>\n",
       "      <td>6</td>\n",
       "      <td>4</td>\n",
       "      <td>4</td>\n",
       "    </tr>\n",
       "    <tr>\n",
       "      <th>1</th>\n",
       "      <td>7</td>\n",
       "      <td>4</td>\n",
       "      <td>4</td>\n",
       "    </tr>\n",
       "    <tr>\n",
       "      <th>2</th>\n",
       "      <td>5</td>\n",
       "      <td>5</td>\n",
       "      <td>5</td>\n",
       "    </tr>\n",
       "    <tr>\n",
       "      <th>3</th>\n",
       "      <td>4</td>\n",
       "      <td>4</td>\n",
       "      <td>5</td>\n",
       "    </tr>\n",
       "    <tr>\n",
       "      <th>4</th>\n",
       "      <td>5</td>\n",
       "      <td>4</td>\n",
       "      <td>4</td>\n",
       "    </tr>\n",
       "    <tr>\n",
       "      <th>...</th>\n",
       "      <td>...</td>\n",
       "      <td>...</td>\n",
       "      <td>...</td>\n",
       "    </tr>\n",
       "    <tr>\n",
       "      <th>59</th>\n",
       "      <td>1</td>\n",
       "      <td>7</td>\n",
       "      <td>1</td>\n",
       "    </tr>\n",
       "    <tr>\n",
       "      <th>60</th>\n",
       "      <td>5</td>\n",
       "      <td>5</td>\n",
       "      <td>5</td>\n",
       "    </tr>\n",
       "    <tr>\n",
       "      <th>61</th>\n",
       "      <td>3</td>\n",
       "      <td>6</td>\n",
       "      <td>5</td>\n",
       "    </tr>\n",
       "    <tr>\n",
       "      <th>62</th>\n",
       "      <td>4</td>\n",
       "      <td>5</td>\n",
       "      <td>5</td>\n",
       "    </tr>\n",
       "    <tr>\n",
       "      <th>63</th>\n",
       "      <td>3</td>\n",
       "      <td>4</td>\n",
       "      <td>4</td>\n",
       "    </tr>\n",
       "  </tbody>\n",
       "</table>\n",
       "<p>64 rows × 3 columns</p>\n",
       "</div>"
      ],
      "text/plain": [
       "    36. 听到机器人的负面评价，我会认为自己受到了批评  37. 我认为机器人有资格对我提出批评  38. 我认可和接受机器人对我的批评\n",
       "0                            6                    4                   4\n",
       "1                            7                    4                   4\n",
       "2                            5                    5                   5\n",
       "3                            4                    4                   5\n",
       "4                            5                    4                   4\n",
       "..                         ...                  ...                 ...\n",
       "59                           1                    7                   1\n",
       "60                           5                    5                   5\n",
       "61                           3                    6                   5\n",
       "62                           4                    5                   5\n",
       "63                           3                    4                   4\n",
       "\n",
       "[64 rows x 3 columns]"
      ]
     },
     "execution_count": 2,
     "metadata": {},
     "output_type": "execute_result"
    }
   ],
   "source": [
    "df.iloc[:, 36:39]"
   ]
  },
  {
   "cell_type": "code",
   "execution_count": 53,
   "id": "83d65e57-68cd-4eb5-b039-1a0201b7449f",
   "metadata": {},
   "outputs": [
    {
     "data": {
      "text/plain": [
       "(4.833333333333334,\n",
       " np.float64(3.9166666666666665),\n",
       " np.float64(5.083333333333333))"
      ]
     },
     "execution_count": 53,
     "metadata": {},
     "output_type": "execute_result"
    }
   ],
   "source": [
    "temp_df = pd.concat([df[df.columns[[36, 37, 38]]].iloc[0:8,], df[df.columns[[36, 37, 38]]].iloc[32:40,]])\n",
    "temp_data, tracker = [], 0\n",
    "\n",
    "for i in range(len(temp_df)):\n",
    "    tracker = (temp_df.iloc[i, 0] + temp_df.iloc[i, 1] + temp_df.iloc[i, 2]) / 3\n",
    "    temp_data.append(tracker)\n",
    "\n",
    "pd.Series(temp_data).median(), pd.Series(temp_data).quantile(0.25), pd.Series(temp_data).quantile(0.75)"
   ]
  },
  {
   "cell_type": "code",
   "execution_count": 54,
   "id": "06bfccfb-1d95-4e28-9b44-fe37972b31da",
   "metadata": {},
   "outputs": [
    {
     "data": {
      "text/plain": [
       "(5.0, np.float64(3.3333333333333335), np.float64(5.416666666666666))"
      ]
     },
     "execution_count": 54,
     "metadata": {},
     "output_type": "execute_result"
    }
   ],
   "source": [
    "temp_df = pd.concat([df[df.columns[[36, 37, 38]]].iloc[8:16,], df[df.columns[[36, 37, 38]]].iloc[40:48,]])\n",
    "temp_data, tracker = [], 0\n",
    "\n",
    "for i in range(len(temp_df)):\n",
    "    tracker = (temp_df.iloc[i, 0] + temp_df.iloc[i, 1] + temp_df.iloc[i, 2]) / 3\n",
    "    temp_data.append(tracker)\n",
    "\n",
    "pd.Series(temp_data).median(), pd.Series(temp_data).quantile(0.25), pd.Series(temp_data).quantile(0.75)"
   ]
  },
  {
   "cell_type": "code",
   "execution_count": 55,
   "id": "4d520493-0e8b-4eaf-ac1f-4e3304f9746b",
   "metadata": {},
   "outputs": [
    {
     "data": {
      "text/plain": [
       "(4.333333333333333, np.float64(4.25), np.float64(5.333333333333333))"
      ]
     },
     "execution_count": 55,
     "metadata": {},
     "output_type": "execute_result"
    }
   ],
   "source": [
    "temp_df = pd.concat([df[df.columns[[36, 37, 38]]].iloc[16:24,], df[df.columns[[36, 37, 38]]].iloc[48:56,]])\n",
    "temp_data, tracker = [], 0\n",
    "\n",
    "for i in range(len(temp_df)):\n",
    "    tracker = (temp_df.iloc[i, 0] + temp_df.iloc[i, 1] + temp_df.iloc[i, 2]) / 3\n",
    "    temp_data.append(tracker)\n",
    "\n",
    "pd.Series(temp_data).median(), pd.Series(temp_data).quantile(0.25), pd.Series(temp_data).quantile(0.75)"
   ]
  },
  {
   "cell_type": "code",
   "execution_count": 56,
   "id": "8f9eefaf-8916-42f9-99e9-ecf20e1ee539",
   "metadata": {},
   "outputs": [
    {
     "data": {
      "text/plain": [
       "(4.666666666666667, np.float64(4.25), np.float64(5.416666666666666))"
      ]
     },
     "execution_count": 56,
     "metadata": {},
     "output_type": "execute_result"
    }
   ],
   "source": [
    "temp_df = pd.concat([df[df.columns[[36, 37, 38]]].iloc[24:32,], df[df.columns[[36, 37, 38]]].iloc[56:64,]])\n",
    "temp_data, tracker = [], 0\n",
    "\n",
    "for i in range(len(temp_df)):\n",
    "    tracker = (temp_df.iloc[i, 0] + temp_df.iloc[i, 1] + temp_df.iloc[i, 2]) / 3\n",
    "    temp_data.append(tracker)\n",
    "\n",
    "pd.Series(temp_data).median(), pd.Series(temp_data).quantile(0.25), pd.Series(temp_data).quantile(0.75)"
   ]
  },
  {
   "cell_type": "code",
   "execution_count": 168,
   "id": "eedbe567-d85c-4ee2-b12e-e76095a2fdc5",
   "metadata": {},
   "outputs": [
    {
     "data": {
      "image/png": "[encoded data removed]",
      "text/plain": [
       "<Figure size 800x1000 with 1 Axes>"
      ]
     },
     "metadata": {},
     "output_type": "display_data"
    }
   ],
   "source": [
    "plt.rc('font', size=14)\n",
    "\n",
    "# Example data: 4 groups × 2 values\n",
    "group_names = ['Internal', 'Narcissistic', 'External', 'Benevolent']\n",
    "valence_labels = ['Positive', 'Negative']\n",
    "\n",
    "# Replace these with your actual values\n",
    "positive_values = [5.33, 5.5, 5.16, 5.33]\n",
    "negative_values = [4.83, 5, 4.33, 4.66]\n",
    "\n",
    "# Prepare bar positions\n",
    "x = np.arange(len(group_names))  # group positions\n",
    "width = 0.35  # bar width\n",
    "\n",
    "# Create the plot\n",
    "fig, ax = plt.subplots(figsize=(8, 10))\n",
    "\n",
    "# Plot bars\n",
    "bars1 = ax.bar(x - width/2, positive_values, width, label='Positive', color='sandybrown')\n",
    "bars2 = ax.bar(x + width/2, negative_values, width, label='Negative', color='cornflowerblue')\n",
    "\n",
    "# Axis labeling\n",
    "ax.set_ylim(0, 7)\n",
    "ax.set_xticks(x)\n",
    "ax.tick_params(axis='x', pad=8)\n",
    "ax.tick_params(axis='y', pad=10)\n",
    "ax.set_xticklabels(group_names)\n",
    "ax.legend()\n",
    "plt.legend(loc=(0.72, 0.88))\n",
    "\n",
    "# Optional: add value labels on top of bars\n",
    "for bars in [bars1, bars2]:\n",
    "    for bar in bars:\n",
    "        yval = bar.get_height()\n",
    "        ax.text(bar.get_x() + bar.get_width()/2, yval + 0.1, f'{yval}', ha='center', va='bottom')\n",
    "\n",
    "plt.savefig(\n",
    "    \"./plot/fig_02.png\",      # File name and extension\n",
    "    dpi=300,            # Resolution (300+ for print quality)\n",
    "    bbox_inches='tight',# Trims whitespace around the figure\n",
    "    transparent=False   # Set to True if saving over transparent background (for PNG)\n",
    ")\n",
    "\n",
    "#Levels of feedback acceptance for positive/negative feedback across all attribution styles"
   ]
  },
  {
   "cell_type": "code",
   "execution_count": 52,
   "id": "cc9dde64-e34e-4754-a18a-6b0d5a4d8efe",
   "metadata": {},
   "outputs": [
    {
     "name": "stdout",
     "output_type": "stream",
     "text": [
      "Kruskal-Wallis H Test Statistic: 0.1531194135537543\n",
      "P-value: 0.9847769389409932\n"
     ]
    }
   ],
   "source": [
    "#H2a: Participants demonstrate higher levels of acceptance toward attribution styles that are more considerate of the learner’s effort and avoid self-serving explanations when the feedback is positive.\n",
    "\n",
    "i_df = pd.concat([df[df.columns[[33, 34, 35]]].iloc[0:8,], df[df.columns[[33, 34, 35]]].iloc[32:40,]])\n",
    "n_df = pd.concat([df[df.columns[[33, 34, 35]]].iloc[8:16,], df[df.columns[[33, 34, 35]]].iloc[40:48,]])\n",
    "e_df = pd.concat([df[df.columns[[33, 34, 35]]].iloc[16:24,], df[df.columns[[33, 34, 35]]].iloc[48:56,]])\n",
    "b_df = pd.concat([df[df.columns[[33, 34, 35]]].iloc[24:32,], df[df.columns[[33, 34, 35]]].iloc[56:64,]])\n",
    "\n",
    "temp_data, tracker = [], 0\n",
    "\n",
    "for i in range(len(i_df)):\n",
    "    tracker = (i_df.iloc[i, 0] + i_df.iloc[i, 1] + i_df.iloc[i, 2]) / 3\n",
    "    temp_data.append(tracker)\n",
    "\n",
    "i_data = temp_data\n",
    "temp_data, tracker = [], 0\n",
    "\n",
    "for i in range(len(n_df)):\n",
    "    tracker = (n_df.iloc[i, 0] + n_df.iloc[i, 1] + n_df.iloc[i, 2]) / 3\n",
    "    temp_data.append(tracker)\n",
    "\n",
    "n_data = temp_data\n",
    "temp_data, tracker = [], 0\n",
    "\n",
    "for i in range(len(e_df)):\n",
    "    tracker = (e_df.iloc[i, 0] + e_df.iloc[i, 1] + e_df.iloc[i, 2]) / 3\n",
    "    temp_data.append(tracker)\n",
    "\n",
    "e_data = temp_data\n",
    "temp_data, tracker = [], 0\n",
    "\n",
    "for i in range(len(b_df)):\n",
    "    tracker = (b_df.iloc[i, 0] + b_df.iloc[i, 1] + b_df.iloc[i, 2]) / 3\n",
    "    temp_data.append(tracker)\n",
    "\n",
    "b_data = temp_data\n",
    "\n",
    "# Kruskal-Wallis H Test\n",
    "stat, p = kruskal(i_data, n_data, e_data, b_data)\n",
    "print(f\"Kruskal-Wallis H Test Statistic: {stat}\")\n",
    "print(f\"P-value: {p}\")"
   ]
  },
  {
   "cell_type": "code",
   "execution_count": 53,
   "id": "e2c8e505-f652-4044-bedd-6abe86ad067c",
   "metadata": {},
   "outputs": [
    {
     "name": "stdout",
     "output_type": "stream",
     "text": [
      "              Internal  Narcissistic  External  Benevolent\n",
      "Internal      1.000000      0.912447  0.705681    0.840868\n",
      "Narcissistic  0.912447      1.000000  0.788922    0.927627\n",
      "External      0.705681      0.788922  1.000000    0.859602\n",
      "Benevolent    0.840868      0.927627  0.859602    1.000000\n"
     ]
    }
   ],
   "source": [
    "dunn_data = {\n",
    "    'Data': i_data + n_data + e_data + b_data,\n",
    "    'Group': ['Internal'] * 16 + ['Narcissistic'] * 16 + ['External'] * 16 + ['Benevolent'] * 16\n",
    "}\n",
    "\n",
    "dunn_df = pd.DataFrame(dunn_data)\n",
    "dunn_df['Group'] = dunn_df['Group'].astype(cat_type)\n",
    "\n",
    "# Perform Dunn's Test\n",
    "posthoc = posthoc_dunn(dunn_df, val_col='Data', group_col='Group', p_adjust=None)\n",
    "print(posthoc)"
   ]
  },
  {
   "cell_type": "code",
   "execution_count": 54,
   "id": "11d8647f-efd9-4e9b-8172-fbd59323fd18",
   "metadata": {},
   "outputs": [
    {
     "name": "stdout",
     "output_type": "stream",
     "text": [
      "Kruskal-Wallis H Test Statistic: 0.26542993224114503\n",
      "P-value: 0.9663934064352583\n"
     ]
    }
   ],
   "source": [
    "#H2b: Participants demonstrate higher levels of acceptance toward attribution styles that are more considerate of the learner’s effort and avoid self-serving explanations when the feedback is negative.\n",
    "\n",
    "i_df = pd.concat([df[df.columns[[36, 37, 38]]].iloc[0:8,], df[df.columns[[36, 37, 38]]].iloc[32:40,]])\n",
    "n_df = pd.concat([df[df.columns[[36, 37, 38]]].iloc[8:16,], df[df.columns[[36, 37, 38]]].iloc[40:48,]])\n",
    "e_df = pd.concat([df[df.columns[[36, 37, 38]]].iloc[16:24,], df[df.columns[[36, 37, 38]]].iloc[48:56,]])\n",
    "b_df = pd.concat([df[df.columns[[36, 37, 38]]].iloc[24:32,], df[df.columns[[36, 37, 38]]].iloc[56:64,]])\n",
    "\n",
    "temp_data, tracker = [], 0\n",
    "\n",
    "for i in range(len(i_df)):\n",
    "    tracker = (i_df.iloc[i, 0] + i_df.iloc[i, 1] + i_df.iloc[i, 2]) / 3\n",
    "    temp_data.append(tracker)\n",
    "\n",
    "i_data = temp_data\n",
    "temp_data, tracker = [], 0\n",
    "\n",
    "for i in range(len(n_df)):\n",
    "    tracker = (n_df.iloc[i, 0] + n_df.iloc[i, 1] + n_df.iloc[i, 2]) / 3\n",
    "    temp_data.append(tracker)\n",
    "\n",
    "n_data = temp_data\n",
    "temp_data, tracker = [], 0\n",
    "\n",
    "for i in range(len(e_df)):\n",
    "    tracker = (e_df.iloc[i, 0] + e_df.iloc[i, 1] + e_df.iloc[i, 2]) / 3\n",
    "    temp_data.append(tracker)\n",
    "\n",
    "e_data = temp_data\n",
    "temp_data, tracker = [], 0\n",
    "\n",
    "for i in range(len(b_df)):\n",
    "    tracker = (b_df.iloc[i, 0] + b_df.iloc[i, 1] + b_df.iloc[i, 2]) / 3\n",
    "    temp_data.append(tracker)\n",
    "\n",
    "b_data = temp_data\n",
    "\n",
    "# Kruskal-Wallis H Test\n",
    "stat, p = kruskal(i_data, n_data, e_data, b_data)\n",
    "print(f\"Kruskal-Wallis H Test Statistic: {stat}\")\n",
    "print(f\"P-value: {p}\")"
   ]
  },
  {
   "cell_type": "code",
   "execution_count": 55,
   "id": "84d3c534-985e-4d6f-9b0c-979837d13324",
   "metadata": {},
   "outputs": [
    {
     "name": "stdout",
     "output_type": "stream",
     "text": [
      "              Internal  Narcissistic  External  Benevolent\n",
      "Internal      1.000000      0.859636  0.939045    0.691597\n",
      "Narcissistic  0.859636      1.000000  0.800031    0.825987\n",
      "External      0.939045      0.800031  1.000000    0.636100\n",
      "Benevolent    0.691597      0.825987  0.636100    1.000000\n"
     ]
    }
   ],
   "source": [
    "dunn_data = {\n",
    "    'Data': i_data + n_data + e_data + b_data,\n",
    "    'Group': ['Internal'] * 16 + ['Narcissistic'] * 16 + ['External'] * 16 + ['Benevolent'] * 16\n",
    "}\n",
    "\n",
    "dunn_df = pd.DataFrame(dunn_data)\n",
    "dunn_df['Group'] = dunn_df['Group'].astype(cat_type)\n",
    "\n",
    "# Perform Dunn's Test\n",
    "posthoc = posthoc_dunn(dunn_df, val_col='Data', group_col='Group', p_adjust=None)\n",
    "print(posthoc)"
   ]
  },
  {
   "cell_type": "code",
   "execution_count": 14,
   "id": "1c62acb6-04a2-4c8a-ad9a-76be96e519ab",
   "metadata": {},
   "outputs": [
    {
     "name": "stdout",
     "output_type": "stream",
     "text": [
      "Wilcoxon Signed-Rank Test:\n",
      "Statistic = 2.0\n",
      "p-value = 0.0053\n"
     ]
    }
   ],
   "source": [
    "# H1: Participants have higher acceptance for positive feedback than negative feedback.\n",
    "\n",
    "positive = pd.concat([df[df.columns[[33, 34, 35]]].iloc[0:8,], df[df.columns[[33, 34, 35]]].iloc[32:40,]]).sum(axis=1)\n",
    "negative = pd.concat([df[df.columns[[36, 37, 38]]].iloc[0:8,], df[df.columns[[36, 37, 38]]].iloc[32:40,]]).sum(axis=1)\n",
    "\n",
    "stat, p = wilcoxon(positive, negative)\n",
    "\n",
    "print(f\"Wilcoxon Signed-Rank Test:\")\n",
    "print(f\"Statistic = {stat}\")\n",
    "print(f\"p-value = {p:.4f}\")"
   ]
  },
  {
   "cell_type": "code",
   "execution_count": 40,
   "id": "b2ee2f0e-85a7-42f8-bf8f-68e4c561c31f",
   "metadata": {},
   "outputs": [
    {
     "name": "stdout",
     "output_type": "stream",
     "text": [
      "Estimated effect size (r) ≈ 0.853\n"
     ]
    }
   ],
   "source": [
    "n = 16\n",
    "z = (stat - (n * (n + 1)) / 4) / np.sqrt(n * (n + 1) * (2 * n + 1) / 24)\n",
    "r = abs(z) / np.sqrt(n)\n",
    "\n",
    "print(f\"Estimated effect size (r) ≈ {r:.3f}\")"
   ]
  },
  {
   "cell_type": "code",
   "execution_count": 33,
   "id": "b7cd7dac-7d63-4882-bfee-70aded2b990c",
   "metadata": {},
   "outputs": [
    {
     "name": "stdout",
     "output_type": "stream",
     "text": [
      "Wilcoxon Signed-Rank Test:\n",
      "Statistic = 13.0\n",
      "p-value = 0.0126\n"
     ]
    }
   ],
   "source": [
    "positive = pd.concat([df[df.columns[[33, 34, 35]]].iloc[8:16,], df[df.columns[[33, 34, 35]]].iloc[40:48,]]).sum(axis=1)\n",
    "negative = pd.concat([df[df.columns[[36, 37, 38]]].iloc[8:16,], df[df.columns[[36, 37, 38]]].iloc[40:48,]]).sum(axis=1)\n",
    "\n",
    "stat, p = wilcoxon(positive, negative)\n",
    "\n",
    "print(f\"Wilcoxon Signed-Rank Test:\")\n",
    "print(f\"Statistic = {stat}\")\n",
    "print(f\"p-value = {p:.4f}\")"
   ]
  },
  {
   "cell_type": "code",
   "execution_count": 34,
   "id": "1d1d4799-14ce-46c5-b1c5-fdae5b29c4dc",
   "metadata": {},
   "outputs": [
    {
     "name": "stdout",
     "output_type": "stream",
     "text": [
      "Estimated effect size (r) ≈ 0.711\n"
     ]
    }
   ],
   "source": [
    "n = 16\n",
    "z = (stat - (n * (n + 1)) / 4) / np.sqrt(n * (n + 1) * (2 * n + 1) / 24)\n",
    "r = abs(z) / np.sqrt(n)\n",
    "\n",
    "print(f\"Estimated effect size (r) ≈ {r:.3f}\")"
   ]
  },
  {
   "cell_type": "code",
   "execution_count": 35,
   "id": "3fb0ec36-e09b-42ee-a269-1bd2f2826b69",
   "metadata": {},
   "outputs": [
    {
     "name": "stdout",
     "output_type": "stream",
     "text": [
      "Wilcoxon Signed-Rank Test:\n",
      "Statistic = 12.0\n",
      "p-value = 0.0108\n"
     ]
    }
   ],
   "source": [
    "positive = pd.concat([df[df.columns[[33, 34, 35]]].iloc[16:24,], df[df.columns[[33, 34, 35]]].iloc[48:56,]]).sum(axis=1)\n",
    "negative = pd.concat([df[df.columns[[36, 37, 38]]].iloc[16:24,], df[df.columns[[36, 37, 38]]].iloc[48:56,]]).sum(axis=1)\n",
    "\n",
    "stat, p = wilcoxon(positive, negative)\n",
    "\n",
    "print(f\"Wilcoxon Signed-Rank Test:\")\n",
    "print(f\"Statistic = {stat}\")\n",
    "print(f\"p-value = {p:.4f}\")"
   ]
  },
  {
   "cell_type": "code",
   "execution_count": 36,
   "id": "56bffe45-d172-4752-89bb-e739cb28626b",
   "metadata": {},
   "outputs": [
    {
     "name": "stdout",
     "output_type": "stream",
     "text": [
      "Estimated effect size (r) ≈ 0.724\n"
     ]
    }
   ],
   "source": [
    "n = 16\n",
    "z = (stat - (n * (n + 1)) / 4) / np.sqrt(n * (n + 1) * (2 * n + 1) / 24)\n",
    "r = abs(z) / np.sqrt(n)\n",
    "\n",
    "print(f\"Estimated effect size (r) ≈ {r:.3f}\")"
   ]
  },
  {
   "cell_type": "code",
   "execution_count": 37,
   "id": "a5151d42-5698-478b-b1d8-9b4cfd4f509f",
   "metadata": {},
   "outputs": [
    {
     "name": "stdout",
     "output_type": "stream",
     "text": [
      "Wilcoxon Signed-Rank Test:\n",
      "Statistic = 22.0\n",
      "p-value = 0.0995\n"
     ]
    }
   ],
   "source": [
    "positive = pd.concat([df[df.columns[[33, 34, 35]]].iloc[24:32,], df[df.columns[[33, 34, 35]]].iloc[56:64,]]).sum(axis=1)\n",
    "negative = pd.concat([df[df.columns[[36, 37, 38]]].iloc[24:32,], df[df.columns[[36, 37, 38]]].iloc[56:64,]]).sum(axis=1)\n",
    "\n",
    "stat, p = wilcoxon(positive, negative)\n",
    "\n",
    "print(f\"Wilcoxon Signed-Rank Test:\")\n",
    "print(f\"Statistic = {stat}\")\n",
    "print(f\"p-value = {p:.4f}\")"
   ]
  },
  {
   "cell_type": "code",
   "execution_count": 38,
   "id": "fc4424ea-06fa-4c79-9bb3-8f7f3fe68770",
   "metadata": {},
   "outputs": [
    {
     "name": "stdout",
     "output_type": "stream",
     "text": [
      "Estimated effect size (r) ≈ 0.595\n"
     ]
    }
   ],
   "source": [
    "n = 16\n",
    "z = (stat - (n * (n + 1)) / 4) / np.sqrt(n * (n + 1) * (2 * n + 1) / 24)\n",
    "r = abs(z) / np.sqrt(n)\n",
    "\n",
    "print(f\"Estimated effect size (r) ≈ {r:.3f}\")"
   ]
  },
  {
   "cell_type": "code",
   "execution_count": 107,
   "id": "e1a93f93-6aae-4518-9124-92db0087dd1a",
   "metadata": {},
   "outputs": [
    {
     "data": {
      "text/html": [
       "<div>\n",
       "<style scoped>\n",
       "    .dataframe tbody tr th:only-of-type {\n",
       "        vertical-align: middle;\n",
       "    }\n",
       "\n",
       "    .dataframe tbody tr th {\n",
       "        vertical-align: top;\n",
       "    }\n",
       "\n",
       "    .dataframe thead th {\n",
       "        text-align: right;\n",
       "    }\n",
       "</style>\n",
       "<table border=\"1\" class=\"dataframe\">\n",
       "  <thead>\n",
       "    <tr style=\"text-align: right;\">\n",
       "      <th></th>\n",
       "      <th>39. 机器人的正面评价让我感到</th>\n",
       "      <th>40. 机器人的正面反馈让我感到</th>\n",
       "      <th>41. 机器人的正面反馈能够______我学习的热情</th>\n",
       "      <th>42. 机器人的正面反馈______了我的自信</th>\n",
       "      <th>43. 机器人的正面反馈______了我的学习动力</th>\n",
       "    </tr>\n",
       "  </thead>\n",
       "  <tbody>\n",
       "    <tr>\n",
       "      <th>0</th>\n",
       "      <td>6</td>\n",
       "      <td>6</td>\n",
       "      <td>5</td>\n",
       "      <td>5</td>\n",
       "      <td>5</td>\n",
       "    </tr>\n",
       "    <tr>\n",
       "      <th>1</th>\n",
       "      <td>7</td>\n",
       "      <td>6</td>\n",
       "      <td>7</td>\n",
       "      <td>6</td>\n",
       "      <td>6</td>\n",
       "    </tr>\n",
       "    <tr>\n",
       "      <th>2</th>\n",
       "      <td>6</td>\n",
       "      <td>6</td>\n",
       "      <td>5</td>\n",
       "      <td>5</td>\n",
       "      <td>5</td>\n",
       "    </tr>\n",
       "    <tr>\n",
       "      <th>3</th>\n",
       "      <td>5</td>\n",
       "      <td>5</td>\n",
       "      <td>6</td>\n",
       "      <td>7</td>\n",
       "      <td>7</td>\n",
       "    </tr>\n",
       "    <tr>\n",
       "      <th>4</th>\n",
       "      <td>5</td>\n",
       "      <td>3</td>\n",
       "      <td>6</td>\n",
       "      <td>6</td>\n",
       "      <td>6</td>\n",
       "    </tr>\n",
       "    <tr>\n",
       "      <th>...</th>\n",
       "      <td>...</td>\n",
       "      <td>...</td>\n",
       "      <td>...</td>\n",
       "      <td>...</td>\n",
       "      <td>...</td>\n",
       "    </tr>\n",
       "    <tr>\n",
       "      <th>59</th>\n",
       "      <td>4</td>\n",
       "      <td>7</td>\n",
       "      <td>4</td>\n",
       "      <td>4</td>\n",
       "      <td>4</td>\n",
       "    </tr>\n",
       "    <tr>\n",
       "      <th>60</th>\n",
       "      <td>4</td>\n",
       "      <td>5</td>\n",
       "      <td>5</td>\n",
       "      <td>5</td>\n",
       "      <td>5</td>\n",
       "    </tr>\n",
       "    <tr>\n",
       "      <th>61</th>\n",
       "      <td>6</td>\n",
       "      <td>7</td>\n",
       "      <td>4</td>\n",
       "      <td>4</td>\n",
       "      <td>5</td>\n",
       "    </tr>\n",
       "    <tr>\n",
       "      <th>62</th>\n",
       "      <td>5</td>\n",
       "      <td>5</td>\n",
       "      <td>6</td>\n",
       "      <td>6</td>\n",
       "      <td>6</td>\n",
       "    </tr>\n",
       "    <tr>\n",
       "      <th>63</th>\n",
       "      <td>5</td>\n",
       "      <td>3</td>\n",
       "      <td>5</td>\n",
       "      <td>5</td>\n",
       "      <td>5</td>\n",
       "    </tr>\n",
       "  </tbody>\n",
       "</table>\n",
       "<p>64 rows × 5 columns</p>\n",
       "</div>"
      ],
      "text/plain": [
       "    39. 机器人的正面评价让我感到  40. 机器人的正面反馈让我感到  41. 机器人的正面反馈能够______我学习的热情  \\\n",
       "0                  6                 6                           5   \n",
       "1                  7                 6                           7   \n",
       "2                  6                 6                           5   \n",
       "3                  5                 5                           6   \n",
       "4                  5                 3                           6   \n",
       "..               ...               ...                         ...   \n",
       "59                 4                 7                           4   \n",
       "60                 4                 5                           5   \n",
       "61                 6                 7                           4   \n",
       "62                 5                 5                           6   \n",
       "63                 5                 3                           5   \n",
       "\n",
       "    42. 机器人的正面反馈______了我的自信  43. 机器人的正面反馈______了我的学习动力  \n",
       "0                         5                          5  \n",
       "1                         6                          6  \n",
       "2                         5                          5  \n",
       "3                         7                          7  \n",
       "4                         6                          6  \n",
       "..                      ...                        ...  \n",
       "59                        4                          4  \n",
       "60                        5                          5  \n",
       "61                        4                          5  \n",
       "62                        6                          6  \n",
       "63                        5                          5  \n",
       "\n",
       "[64 rows x 5 columns]"
      ]
     },
     "execution_count": 107,
     "metadata": {},
     "output_type": "execute_result"
    }
   ],
   "source": [
    "df.iloc[:, 39:44]"
   ]
  },
  {
   "cell_type": "code",
   "execution_count": 121,
   "id": "f5306620-0b86-483f-bcd7-4e68a965b9f5",
   "metadata": {},
   "outputs": [
    {
     "data": {
      "text/plain": [
       "(5.7, np.float64(5.0), np.float64(6.0))"
      ]
     },
     "execution_count": 121,
     "metadata": {},
     "output_type": "execute_result"
    }
   ],
   "source": [
    "temp_df = pd.concat([df[df.columns[[39, 40, 41, 42, 43]]].iloc[0:8,], df[df.columns[[39, 40, 41, 42, 43]]].iloc[32:40,]])\n",
    "temp_data, tracker = [], 0\n",
    "\n",
    "for i in range(len(temp_df)):\n",
    "    tracker = (temp_df.iloc[i, 0] + temp_df.iloc[i, 1] + temp_df.iloc[i, 2] + temp_df.iloc[i, 3] + temp_df.iloc[i, 4]) / 5\n",
    "    temp_data.append(tracker)\n",
    "\n",
    "pd.Series(temp_data).median(), pd.Series(temp_data).quantile(0.25), pd.Series(temp_data).quantile(0.75)"
   ]
  },
  {
   "cell_type": "code",
   "execution_count": 122,
   "id": "bcb0d890-b7df-4a24-a651-99ad2def8584",
   "metadata": {},
   "outputs": [
    {
     "data": {
      "text/plain": [
       "(5.2, np.float64(4.75), np.float64(6.4))"
      ]
     },
     "execution_count": 122,
     "metadata": {},
     "output_type": "execute_result"
    }
   ],
   "source": [
    "temp_df = pd.concat([df[df.columns[[39, 40, 41, 42, 43]]].iloc[8:16,], df[df.columns[[39, 40, 41, 42, 43]]].iloc[40:48,]])\n",
    "temp_data, tracker = [], 0\n",
    "\n",
    "for i in range(len(temp_df)):\n",
    "    tracker = (temp_df.iloc[i, 0] + temp_df.iloc[i, 1] + temp_df.iloc[i, 2] + temp_df.iloc[i, 3] + temp_df.iloc[i, 4]) / 5\n",
    "    temp_data.append(tracker)\n",
    "\n",
    "pd.Series(temp_data).median(), pd.Series(temp_data).quantile(0.25), pd.Series(temp_data).quantile(0.75)"
   ]
  },
  {
   "cell_type": "code",
   "execution_count": 123,
   "id": "f4293cb4-37c6-46ea-97dc-0cceca83fccd",
   "metadata": {},
   "outputs": [
    {
     "data": {
      "text/plain": [
       "(5.9, np.float64(4.95), np.float64(6.3))"
      ]
     },
     "execution_count": 123,
     "metadata": {},
     "output_type": "execute_result"
    }
   ],
   "source": [
    "temp_df = pd.concat([df[df.columns[[39, 40, 41, 42, 43]]].iloc[16:24,], df[df.columns[[39, 40, 41, 42, 43]]].iloc[48:56,]])\n",
    "temp_data, tracker = [], 0\n",
    "\n",
    "for i in range(len(temp_df)):\n",
    "    tracker = (temp_df.iloc[i, 0] + temp_df.iloc[i, 1] + temp_df.iloc[i, 2] + temp_df.iloc[i, 3] + temp_df.iloc[i, 4]) / 5\n",
    "    temp_data.append(tracker)\n",
    "\n",
    "pd.Series(temp_data).median(), pd.Series(temp_data).quantile(0.25), pd.Series(temp_data).quantile(0.75)"
   ]
  },
  {
   "cell_type": "code",
   "execution_count": 124,
   "id": "8bc1051a-9823-4c69-99d3-26aa3a913e99",
   "metadata": {},
   "outputs": [
    {
     "data": {
      "text/plain": [
       "(5.4, np.float64(4.95), np.float64(6.0))"
      ]
     },
     "execution_count": 124,
     "metadata": {},
     "output_type": "execute_result"
    }
   ],
   "source": [
    "temp_df = pd.concat([df[df.columns[[39, 40, 41, 42, 43]]].iloc[24:32,], df[df.columns[[39, 40, 41, 42, 43]]].iloc[56:64,]])\n",
    "temp_data, tracker = [], 0\n",
    "\n",
    "for i in range(len(temp_df)):\n",
    "    tracker = (temp_df.iloc[i, 0] + temp_df.iloc[i, 1] + temp_df.iloc[i, 2] + temp_df.iloc[i, 3] + temp_df.iloc[i, 4]) / 5\n",
    "    temp_data.append(tracker)\n",
    "\n",
    "pd.Series(temp_data).median(), pd.Series(temp_data).quantile(0.25), pd.Series(temp_data).quantile(0.75)"
   ]
  },
  {
   "cell_type": "code",
   "execution_count": 109,
   "id": "f90c070b-da92-437d-9e5d-28e68bfc3030",
   "metadata": {},
   "outputs": [
    {
     "data": {
      "text/html": [
       "<div>\n",
       "<style scoped>\n",
       "    .dataframe tbody tr th:only-of-type {\n",
       "        vertical-align: middle;\n",
       "    }\n",
       "\n",
       "    .dataframe tbody tr th {\n",
       "        vertical-align: top;\n",
       "    }\n",
       "\n",
       "    .dataframe thead th {\n",
       "        text-align: right;\n",
       "    }\n",
       "</style>\n",
       "<table border=\"1\" class=\"dataframe\">\n",
       "  <thead>\n",
       "    <tr style=\"text-align: right;\">\n",
       "      <th></th>\n",
       "      <th>45. 机器人的负面评价让我感到</th>\n",
       "      <th>46. 机器人的负面反馈让我感到</th>\n",
       "      <th>47. 机器人的负面反馈能够______我学习的热情</th>\n",
       "      <th>48. 机器人的负面反馈______了我的自信</th>\n",
       "      <th>49. 机器人的负面反馈______了我的学习动力</th>\n",
       "    </tr>\n",
       "  </thead>\n",
       "  <tbody>\n",
       "    <tr>\n",
       "      <th>0</th>\n",
       "      <td>3</td>\n",
       "      <td>2</td>\n",
       "      <td>2</td>\n",
       "      <td>2</td>\n",
       "      <td>2</td>\n",
       "    </tr>\n",
       "    <tr>\n",
       "      <th>1</th>\n",
       "      <td>1</td>\n",
       "      <td>1</td>\n",
       "      <td>2</td>\n",
       "      <td>1</td>\n",
       "      <td>1</td>\n",
       "    </tr>\n",
       "    <tr>\n",
       "      <th>2</th>\n",
       "      <td>3</td>\n",
       "      <td>3</td>\n",
       "      <td>3</td>\n",
       "      <td>3</td>\n",
       "      <td>3</td>\n",
       "    </tr>\n",
       "    <tr>\n",
       "      <th>3</th>\n",
       "      <td>4</td>\n",
       "      <td>4</td>\n",
       "      <td>4</td>\n",
       "      <td>4</td>\n",
       "      <td>4</td>\n",
       "    </tr>\n",
       "    <tr>\n",
       "      <th>4</th>\n",
       "      <td>3</td>\n",
       "      <td>3</td>\n",
       "      <td>3</td>\n",
       "      <td>4</td>\n",
       "      <td>3</td>\n",
       "    </tr>\n",
       "    <tr>\n",
       "      <th>...</th>\n",
       "      <td>...</td>\n",
       "      <td>...</td>\n",
       "      <td>...</td>\n",
       "      <td>...</td>\n",
       "      <td>...</td>\n",
       "    </tr>\n",
       "    <tr>\n",
       "      <th>59</th>\n",
       "      <td>1</td>\n",
       "      <td>3</td>\n",
       "      <td>5</td>\n",
       "      <td>6</td>\n",
       "      <td>6</td>\n",
       "    </tr>\n",
       "    <tr>\n",
       "      <th>60</th>\n",
       "      <td>2</td>\n",
       "      <td>2</td>\n",
       "      <td>2</td>\n",
       "      <td>3</td>\n",
       "      <td>2</td>\n",
       "    </tr>\n",
       "    <tr>\n",
       "      <th>61</th>\n",
       "      <td>3</td>\n",
       "      <td>4</td>\n",
       "      <td>5</td>\n",
       "      <td>5</td>\n",
       "      <td>6</td>\n",
       "    </tr>\n",
       "    <tr>\n",
       "      <th>62</th>\n",
       "      <td>3</td>\n",
       "      <td>3</td>\n",
       "      <td>4</td>\n",
       "      <td>4</td>\n",
       "      <td>5</td>\n",
       "    </tr>\n",
       "    <tr>\n",
       "      <th>63</th>\n",
       "      <td>4</td>\n",
       "      <td>4</td>\n",
       "      <td>4</td>\n",
       "      <td>4</td>\n",
       "      <td>4</td>\n",
       "    </tr>\n",
       "  </tbody>\n",
       "</table>\n",
       "<p>64 rows × 5 columns</p>\n",
       "</div>"
      ],
      "text/plain": [
       "    45. 机器人的负面评价让我感到  46. 机器人的负面反馈让我感到  47. 机器人的负面反馈能够______我学习的热情  \\\n",
       "0                  3                 2                           2   \n",
       "1                  1                 1                           2   \n",
       "2                  3                 3                           3   \n",
       "3                  4                 4                           4   \n",
       "4                  3                 3                           3   \n",
       "..               ...               ...                         ...   \n",
       "59                 1                 3                           5   \n",
       "60                 2                 2                           2   \n",
       "61                 3                 4                           5   \n",
       "62                 3                 3                           4   \n",
       "63                 4                 4                           4   \n",
       "\n",
       "    48. 机器人的负面反馈______了我的自信  49. 机器人的负面反馈______了我的学习动力  \n",
       "0                         2                          2  \n",
       "1                         1                          1  \n",
       "2                         3                          3  \n",
       "3                         4                          4  \n",
       "4                         4                          3  \n",
       "..                      ...                        ...  \n",
       "59                        6                          6  \n",
       "60                        3                          2  \n",
       "61                        5                          6  \n",
       "62                        4                          5  \n",
       "63                        4                          4  \n",
       "\n",
       "[64 rows x 5 columns]"
      ]
     },
     "execution_count": 109,
     "metadata": {},
     "output_type": "execute_result"
    }
   ],
   "source": [
    "df.iloc[:, 45:50]"
   ]
  },
  {
   "cell_type": "code",
   "execution_count": 125,
   "id": "7bee6e94-7dfc-424b-8825-d8ce9bf9ffe2",
   "metadata": {},
   "outputs": [
    {
     "data": {
      "text/plain": [
       "(3.6, np.float64(3.1500000000000004), np.float64(4.0))"
      ]
     },
     "execution_count": 125,
     "metadata": {},
     "output_type": "execute_result"
    }
   ],
   "source": [
    "temp_df = pd.concat([df[df.columns[[45, 46, 47, 48, 49]]].iloc[0:8,], df[df.columns[[45, 46, 47, 48, 49]]].iloc[32:40,]])\n",
    "temp_data, tracker = [], 0\n",
    "\n",
    "for i in range(len(temp_df)):\n",
    "    tracker = (temp_df.iloc[i, 0] + temp_df.iloc[i, 1] + temp_df.iloc[i, 2] + temp_df.iloc[i, 3] + temp_df.iloc[i, 4]) / 5\n",
    "    temp_data.append(tracker)\n",
    "\n",
    "pd.Series(temp_data).median(), pd.Series(temp_data).quantile(0.25), pd.Series(temp_data).quantile(0.75)"
   ]
  },
  {
   "cell_type": "code",
   "execution_count": 126,
   "id": "a214db6c-8547-41a2-84c8-4e6f494a448e",
   "metadata": {},
   "outputs": [
    {
     "data": {
      "text/plain": [
       "(3.7, np.float64(3.0), np.float64(4.05))"
      ]
     },
     "execution_count": 126,
     "metadata": {},
     "output_type": "execute_result"
    }
   ],
   "source": [
    "temp_df = pd.concat([df[df.columns[[45, 46, 47, 48, 49]]].iloc[8:16,], df[df.columns[[45, 46, 47, 48, 49]]].iloc[40:48,]])\n",
    "temp_data, tracker = [], 0\n",
    "\n",
    "for i in range(len(temp_df)):\n",
    "    tracker = (temp_df.iloc[i, 0] + temp_df.iloc[i, 1] + temp_df.iloc[i, 2] + temp_df.iloc[i, 3] + temp_df.iloc[i, 4]) / 5\n",
    "    temp_data.append(tracker)\n",
    "\n",
    "pd.Series(temp_data).median(), pd.Series(temp_data).quantile(0.25), pd.Series(temp_data).quantile(0.75)"
   ]
  },
  {
   "cell_type": "code",
   "execution_count": 127,
   "id": "c7a64935-c456-4687-a38c-bbb60c35d5c4",
   "metadata": {},
   "outputs": [
    {
     "data": {
      "text/plain": [
       "(3.1, np.float64(2.4), np.float64(3.8499999999999996))"
      ]
     },
     "execution_count": 127,
     "metadata": {},
     "output_type": "execute_result"
    }
   ],
   "source": [
    "temp_df = pd.concat([df[df.columns[[45, 46, 47, 48, 49]]].iloc[16:24,], df[df.columns[[45, 46, 47, 48, 49]]].iloc[48:56,]])\n",
    "temp_data, tracker = [], 0\n",
    "\n",
    "for i in range(len(temp_df)):\n",
    "    tracker = (temp_df.iloc[i, 0] + temp_df.iloc[i, 1] + temp_df.iloc[i, 2] + temp_df.iloc[i, 3] + temp_df.iloc[i, 4]) / 5\n",
    "    temp_data.append(tracker)\n",
    "\n",
    "pd.Series(temp_data).median(), pd.Series(temp_data).quantile(0.25), pd.Series(temp_data).quantile(0.75)"
   ]
  },
  {
   "cell_type": "code",
   "execution_count": 128,
   "id": "f141b569-ea60-4435-b139-9d7a5675f5c7",
   "metadata": {},
   "outputs": [
    {
     "data": {
      "text/plain": [
       "(3.5, np.float64(3.0), np.float64(4.0))"
      ]
     },
     "execution_count": 128,
     "metadata": {},
     "output_type": "execute_result"
    }
   ],
   "source": [
    "temp_df = pd.concat([df[df.columns[[45, 46, 47, 48, 49]]].iloc[24:32,], df[df.columns[[45, 46, 47, 48, 49]]].iloc[56:64,]])\n",
    "temp_data, tracker = [], 0\n",
    "\n",
    "for i in range(len(temp_df)):\n",
    "    tracker = (temp_df.iloc[i, 0] + temp_df.iloc[i, 1] + temp_df.iloc[i, 2] + temp_df.iloc[i, 3] + temp_df.iloc[i, 4]) / 5\n",
    "    temp_data.append(tracker)\n",
    "\n",
    "pd.Series(temp_data).median(), pd.Series(temp_data).quantile(0.25), pd.Series(temp_data).quantile(0.75)"
   ]
  },
  {
   "cell_type": "code",
   "execution_count": 167,
   "id": "0f48d3d9-5f12-4692-a5c0-532579cf5e15",
   "metadata": {},
   "outputs": [
    {
     "data": {
      "image/png": "[encoded data removed]",
      "text/plain": [
       "<Figure size 800x1000 with 1 Axes>"
      ]
     },
     "metadata": {},
     "output_type": "display_data"
    }
   ],
   "source": [
    "plt.rc('font', size=14)\n",
    "\n",
    "# Example data: 4 groups × 2 values\n",
    "group_names = ['Internal', 'Narcissistic', 'External', 'Benevolent']\n",
    "valence_labels = ['Positive', 'Negative']\n",
    "\n",
    "# Replace these with your actual values\n",
    "positive_values = [5.7, 5.2, 5.9, 5.4]\n",
    "negative_values = [3.6, 3.7, 3.1, 3.5]\n",
    "\n",
    "# Prepare bar positions\n",
    "x = np.arange(len(group_names))  # group positions\n",
    "width = 0.35  # bar width\n",
    "\n",
    "# Create the plot\n",
    "fig, ax = plt.subplots(figsize=(8, 10))\n",
    "\n",
    "# Plot bars\n",
    "bars1 = ax.bar(x - width/2, positive_values, width, label='Positive', color='sandybrown')\n",
    "bars2 = ax.bar(x + width/2, negative_values, width, label='Negative', color='cornflowerblue')\n",
    "\n",
    "# Axis labeling\n",
    "ax.set_ylim(0, 7)\n",
    "ax.set_xticks(x)\n",
    "ax.tick_params(axis='x', pad=8)\n",
    "ax.tick_params(axis='y', pad=10)\n",
    "ax.set_xticklabels(group_names)\n",
    "ax.legend()\n",
    "plt.legend(loc=(0.72, 0.88))\n",
    "\n",
    "# Optional: add value labels on top of bars\n",
    "for bars in [bars1, bars2]:\n",
    "    for bar in bars:\n",
    "        yval = bar.get_height()\n",
    "        ax.text(bar.get_x() + bar.get_width()/2, yval + 0.1, f'{yval}', ha='center', va='bottom')\n",
    "\n",
    "plt.savefig(\n",
    "    \"./plot/fig_03.png\",      # File name and extension\n",
    "    dpi=300,            # Resolution (300+ for print quality)\n",
    "    bbox_inches='tight',# Trims whitespace around the figure\n",
    "    transparent=False   # Set to True if saving over transparent background (for PNG)\n",
    ")\n",
    "\n",
    "#Levels of feedback influence for positive/negative feedback across all attribution styles"
   ]
  },
  {
   "cell_type": "code",
   "execution_count": 48,
   "id": "6491526e-d395-4192-bc08-989030cb5b19",
   "metadata": {},
   "outputs": [
    {
     "name": "stdout",
     "output_type": "stream",
     "text": [
      "Kruskal-Wallis H Test Statistic: 1.9457279582366593\n",
      "P-value: 0.583747126598569\n"
     ]
    }
   ],
   "source": [
    "#H4a: Positive feedback from a robot tutor influences learners more effectively when the attribution style is more considerate of the learner’s effort and avoids self-serving explanations.\n",
    "\n",
    "i_df = pd.concat([df[df.columns[[39, 40, 41, 42, 43]]].iloc[0:8,], df[df.columns[[39, 40, 41, 42, 43]]].iloc[32:40,]])\n",
    "n_df = pd.concat([df[df.columns[[39, 40, 41, 42, 43]]].iloc[8:16,], df[df.columns[[39, 40, 41, 42, 43]]].iloc[40:48,]])\n",
    "e_df = pd.concat([df[df.columns[[39, 40, 41, 42, 43]]].iloc[16:24,], df[df.columns[[39, 40, 41, 42, 43]]].iloc[48:56,]])\n",
    "b_df = pd.concat([df[df.columns[[39, 40, 41, 42, 43]]].iloc[24:32,], df[df.columns[[39, 40, 41, 42, 43]]].iloc[56:64,]])\n",
    "\n",
    "temp_data, tracker = [], 0\n",
    "\n",
    "for i in range(len(i_df)):\n",
    "    tracker = (i_df.iloc[i, 0] + i_df.iloc[i, 1] + i_df.iloc[i, 2] + i_df.iloc[i, 3] + i_df.iloc[i, 4]) / 5\n",
    "    temp_data.append(tracker)\n",
    "\n",
    "i_data = temp_data\n",
    "temp_data, tracker = [], 0\n",
    "\n",
    "for i in range(len(n_df)):\n",
    "    tracker = (n_df.iloc[i, 0] + n_df.iloc[i, 1] + n_df.iloc[i, 2] + n_df.iloc[i, 3] + n_df.iloc[i, 4]) / 5\n",
    "    temp_data.append(tracker)\n",
    "\n",
    "n_data = temp_data\n",
    "temp_data, tracker = [], 0\n",
    "\n",
    "for i in range(len(e_df)):\n",
    "    tracker = (e_df.iloc[i, 0] + e_df.iloc[i, 1] + e_df.iloc[i, 2] + e_df.iloc[i, 3] + e_df.iloc[i, 4]) / 5\n",
    "    temp_data.append(tracker)\n",
    "\n",
    "e_data = temp_data\n",
    "temp_data, tracker = [], 0\n",
    "\n",
    "for i in range(len(b_df)):\n",
    "    tracker = (b_df.iloc[i, 0] + b_df.iloc[i, 1] + b_df.iloc[i, 2] + b_df.iloc[i, 3] + b_df.iloc[i, 4]) / 5\n",
    "    temp_data.append(tracker)\n",
    "\n",
    "b_data = temp_data\n",
    "\n",
    "# Kruskal-Wallis H Test\n",
    "stat, p = kruskal(i_data, n_data, e_data, b_data)\n",
    "print(f\"Kruskal-Wallis H Test Statistic: {stat}\")\n",
    "print(f\"P-value: {p}\")"
   ]
  },
  {
   "cell_type": "code",
   "execution_count": 49,
   "id": "2d9776b4-fd12-4974-9ee0-e2884ab3e7e3",
   "metadata": {},
   "outputs": [
    {
     "name": "stdout",
     "output_type": "stream",
     "text": [
      "              Internal  Narcissistic  External  Benevolent\n",
      "Internal      1.000000      0.639536  0.619174    0.416540\n",
      "Narcissistic  0.639536      1.000000  0.334360    0.730777\n",
      "External      0.619174      0.334360  1.000000    0.190379\n",
      "Benevolent    0.416540      0.730777  0.190379    1.000000\n"
     ]
    }
   ],
   "source": [
    "dunn_data = {\n",
    "    'Data': i_data + n_data + e_data + b_data,\n",
    "    'Group': ['Internal'] * 16 + ['Narcissistic'] * 16 + ['External'] * 16 + ['Benevolent'] * 16\n",
    "}\n",
    "\n",
    "dunn_df = pd.DataFrame(dunn_data)\n",
    "dunn_df['Group'] = dunn_df['Group'].astype(cat_type)\n",
    "\n",
    "# Perform Dunn's Test\n",
    "posthoc = posthoc_dunn(dunn_df, val_col='Data', group_col='Group', p_adjust=None)\n",
    "print(posthoc)"
   ]
  },
  {
   "cell_type": "code",
   "execution_count": 50,
   "id": "a929da46-e0c2-4a5e-8f34-3a4d78cb5f5a",
   "metadata": {},
   "outputs": [
    {
     "name": "stdout",
     "output_type": "stream",
     "text": [
      "Kruskal-Wallis H Test Statistic: 1.9457279582366593\n",
      "P-value: 0.583747126598569\n"
     ]
    }
   ],
   "source": [
    "#H4b: Negative feedback from a robot tutor influences learners more effectively when the attribution style is more considerate of the learner’s effort and avoids self-serving explanations.\n",
    "\n",
    "i_df = pd.concat([df[df.columns[[39, 40, 41, 42, 43]]].iloc[0:8,], df[df.columns[[39, 40, 41, 42, 43]]].iloc[32:40,]])\n",
    "n_df = pd.concat([df[df.columns[[39, 40, 41, 42, 43]]].iloc[8:16,], df[df.columns[[39, 40, 41, 42, 43]]].iloc[40:48,]])\n",
    "e_df = pd.concat([df[df.columns[[39, 40, 41, 42, 43]]].iloc[16:24,], df[df.columns[[39, 40, 41, 42, 43]]].iloc[48:56,]])\n",
    "b_df = pd.concat([df[df.columns[[39, 40, 41, 42, 43]]].iloc[24:32,], df[df.columns[[39, 40, 41, 42, 43]]].iloc[56:64,]])\n",
    "\n",
    "temp_data, tracker = [], 0\n",
    "\n",
    "for i in range(len(i_df)):\n",
    "    tracker = (i_df.iloc[i, 0] + i_df.iloc[i, 1] + i_df.iloc[i, 2] + i_df.iloc[i, 3] + i_df.iloc[i, 4]) / 5\n",
    "    temp_data.append(tracker)\n",
    "\n",
    "i_data = temp_data\n",
    "temp_data, tracker = [], 0\n",
    "\n",
    "for i in range(len(n_df)):\n",
    "    tracker = (n_df.iloc[i, 0] + n_df.iloc[i, 1] + n_df.iloc[i, 2] + n_df.iloc[i, 3] + n_df.iloc[i, 4]) / 5\n",
    "    temp_data.append(tracker)\n",
    "\n",
    "n_data = temp_data\n",
    "temp_data, tracker = [], 0\n",
    "\n",
    "for i in range(len(e_df)):\n",
    "    tracker = (e_df.iloc[i, 0] + e_df.iloc[i, 1] + e_df.iloc[i, 2] + e_df.iloc[i, 3] + e_df.iloc[i, 4]) / 5\n",
    "    temp_data.append(tracker)\n",
    "\n",
    "e_data = temp_data\n",
    "temp_data, tracker = [], 0\n",
    "\n",
    "for i in range(len(b_df)):\n",
    "    tracker = (b_df.iloc[i, 0] + b_df.iloc[i, 1] + b_df.iloc[i, 2] + b_df.iloc[i, 3] + b_df.iloc[i, 4]) / 5\n",
    "    temp_data.append(tracker)\n",
    "\n",
    "b_data = temp_data\n",
    "\n",
    "# Kruskal-Wallis H Test\n",
    "stat, p = kruskal(i_data, n_data, e_data, b_data)\n",
    "print(f\"Kruskal-Wallis H Test Statistic: {stat}\")\n",
    "print(f\"P-value: {p}\")"
   ]
  },
  {
   "cell_type": "code",
   "execution_count": 51,
   "id": "fc7ea0aa-aaca-4ade-99d4-2ed571c6138e",
   "metadata": {},
   "outputs": [
    {
     "name": "stdout",
     "output_type": "stream",
     "text": [
      "              Internal  Narcissistic  External  Benevolent\n",
      "Internal      1.000000      0.639536  0.619174    0.416540\n",
      "Narcissistic  0.639536      1.000000  0.334360    0.730777\n",
      "External      0.619174      0.334360  1.000000    0.190379\n",
      "Benevolent    0.416540      0.730777  0.190379    1.000000\n"
     ]
    }
   ],
   "source": [
    "dunn_data = {\n",
    "    'Data': i_data + n_data + e_data + b_data,\n",
    "    'Group': ['Internal'] * 16 + ['Narcissistic'] * 16 + ['External'] * 16 + ['Benevolent'] * 16\n",
    "}\n",
    "\n",
    "dunn_df = pd.DataFrame(dunn_data)\n",
    "dunn_df['Group'] = dunn_df['Group'].astype(cat_type)\n",
    "\n",
    "# Perform Dunn's Test\n",
    "posthoc = posthoc_dunn(dunn_df, val_col='Data', group_col='Group', p_adjust=None)\n",
    "print(posthoc)"
   ]
  },
  {
   "cell_type": "code",
   "execution_count": 2,
   "id": "e37937e2-7cf8-4585-a75d-888c015d6aab",
   "metadata": {},
   "outputs": [
    {
     "name": "stdout",
     "output_type": "stream",
     "text": [
      "Wilcoxon Signed-Rank Test:\n",
      "Statistic = 0.0\n",
      "p-value = 0.0004\n"
     ]
    }
   ],
   "source": [
    "# H3: Positive feedback from a robot tutor has a greater influence on learners than negative feedback.\n",
    "\n",
    "positive = pd.concat([df[df.columns[[39, 40, 41, 42, 43]]].iloc[0:8,], df[df.columns[[39, 40, 41, 42, 43]]].iloc[32:40,]]).sum(axis=1)\n",
    "negative = pd.concat([df[df.columns[[45, 46, 47, 48, 49]]].iloc[0:8,], df[df.columns[[45, 46, 47, 48, 49]]].iloc[32:40,]]).sum(axis=1)\n",
    "\n",
    "stat, p = wilcoxon(positive, negative)\n",
    "\n",
    "print(f\"Wilcoxon Signed-Rank Test:\")\n",
    "print(f\"Statistic = {stat}\")\n",
    "print(f\"p-value = {p:.4f}\")"
   ]
  },
  {
   "cell_type": "code",
   "execution_count": 3,
   "id": "b31f1f9a-665e-4e7e-8521-0e04c285672a",
   "metadata": {},
   "outputs": [
    {
     "name": "stdout",
     "output_type": "stream",
     "text": [
      "Estimated effect size (r) ≈ 0.879\n"
     ]
    }
   ],
   "source": [
    "n = 16\n",
    "z = (stat - (n * (n + 1)) / 4) / np.sqrt(n * (n + 1) * (2 * n + 1) / 24)\n",
    "r = abs(z) / np.sqrt(n)\n",
    "\n",
    "print(f\"Estimated effect size (r) ≈ {r:.3f}\")"
   ]
  },
  {
   "cell_type": "code",
   "execution_count": 44,
   "id": "bcfb2bf3-0e8e-4ea3-b54c-ce1bba015246",
   "metadata": {},
   "outputs": [
    {
     "name": "stdout",
     "output_type": "stream",
     "text": [
      "Wilcoxon Signed-Rank Test:\n",
      "Statistic = 0.0\n",
      "p-value = 0.0004\n"
     ]
    }
   ],
   "source": [
    "positive = pd.concat([df[df.columns[[39, 40, 41, 42, 43]]].iloc[8:16,], df[df.columns[[39, 40, 41, 42, 43]]].iloc[40:48,]]).sum(axis=1)\n",
    "negative = pd.concat([df[df.columns[[45, 46, 47, 48, 49]]].iloc[8:16,], df[df.columns[[45, 46, 47, 48, 49]]].iloc[40:48,]]).sum(axis=1)\n",
    "\n",
    "stat, p = wilcoxon(positive, negative)\n",
    "\n",
    "print(f\"Wilcoxon Signed-Rank Test:\")\n",
    "print(f\"Statistic = {stat}\")\n",
    "print(f\"p-value = {p:.4f}\")"
   ]
  },
  {
   "cell_type": "code",
   "execution_count": 45,
   "id": "2e1cd57f-e130-4d05-be98-f88344f0784d",
   "metadata": {},
   "outputs": [
    {
     "name": "stdout",
     "output_type": "stream",
     "text": [
      "Estimated effect size (r) ≈ 0.879\n"
     ]
    }
   ],
   "source": [
    "n = 16\n",
    "z = (stat - (n * (n + 1)) / 4) / np.sqrt(n * (n + 1) * (2 * n + 1) / 24)\n",
    "r = abs(z) / np.sqrt(n)\n",
    "\n",
    "print(f\"Estimated effect size (r) ≈ {r:.3f}\")"
   ]
  },
  {
   "cell_type": "code",
   "execution_count": 46,
   "id": "2e35b224-2cd3-4e01-a189-0747343755cb",
   "metadata": {},
   "outputs": [
    {
     "name": "stdout",
     "output_type": "stream",
     "text": [
      "Wilcoxon Signed-Rank Test:\n",
      "Statistic = 0.0\n",
      "p-value = 0.0004\n"
     ]
    }
   ],
   "source": [
    "positive = pd.concat([df[df.columns[[39, 40, 41, 42, 43]]].iloc[16:24,], df[df.columns[[39, 40, 41, 42, 43]]].iloc[48:56,]]).sum(axis=1)\n",
    "negative = pd.concat([df[df.columns[[45, 46, 47, 48, 49]]].iloc[16:24,], df[df.columns[[45, 46, 47, 48, 49]]].iloc[48:56,]]).sum(axis=1)\n",
    "\n",
    "stat, p = wilcoxon(positive, negative)\n",
    "\n",
    "print(f\"Wilcoxon Signed-Rank Test:\")\n",
    "print(f\"Statistic = {stat}\")\n",
    "print(f\"p-value = {p:.4f}\")"
   ]
  },
  {
   "cell_type": "code",
   "execution_count": 47,
   "id": "465e0ef9-c0b7-44df-8e88-e40a181c2818",
   "metadata": {},
   "outputs": [
    {
     "name": "stdout",
     "output_type": "stream",
     "text": [
      "Estimated effect size (r) ≈ 0.879\n"
     ]
    }
   ],
   "source": [
    "n = 16\n",
    "z = (stat - (n * (n + 1)) / 4) / np.sqrt(n * (n + 1) * (2 * n + 1) / 24)\n",
    "r = abs(z) / np.sqrt(n)\n",
    "\n",
    "print(f\"Estimated effect size (r) ≈ {r:.3f}\")"
   ]
  },
  {
   "cell_type": "code",
   "execution_count": 48,
   "id": "01fe1fb4-22dc-43d0-9ab2-4c893b27940b",
   "metadata": {},
   "outputs": [
    {
     "name": "stdout",
     "output_type": "stream",
     "text": [
      "Wilcoxon Signed-Rank Test:\n",
      "Statistic = 0.0\n",
      "p-value = 0.0007\n"
     ]
    }
   ],
   "source": [
    "positive = pd.concat([df[df.columns[[39, 40, 41, 42, 43]]].iloc[24:32,], df[df.columns[[39, 40, 41, 42, 43]]].iloc[56:64,]]).sum(axis=1)\n",
    "negative = pd.concat([df[df.columns[[45, 46, 47, 48, 49]]].iloc[24:32,], df[df.columns[[45, 46, 47, 48, 49]]].iloc[56:64,]]).sum(axis=1)\n",
    "\n",
    "stat, p = wilcoxon(positive, negative)\n",
    "\n",
    "print(f\"Wilcoxon Signed-Rank Test:\")\n",
    "print(f\"Statistic = {stat}\")\n",
    "print(f\"p-value = {p:.4f}\")"
   ]
  },
  {
   "cell_type": "code",
   "execution_count": 49,
   "id": "e158c9fa-159a-44b2-ad22-2a82cfaf3bc0",
   "metadata": {},
   "outputs": [
    {
     "name": "stdout",
     "output_type": "stream",
     "text": [
      "Estimated effect size (r) ≈ 0.879\n"
     ]
    }
   ],
   "source": [
    "n = 16\n",
    "z = (stat - (n * (n + 1)) / 4) / np.sqrt(n * (n + 1) * (2 * n + 1) / 24)\n",
    "r = abs(z) / np.sqrt(n)\n",
    "\n",
    "print(f\"Estimated effect size (r) ≈ {r:.3f}\")"
   ]
  },
  {
   "cell_type": "code",
   "execution_count": 132,
   "id": "94170d85-c2ab-434f-b0ed-a4f118f92390",
   "metadata": {},
   "outputs": [
    {
     "data": {
      "text/html": [
       "<div>\n",
       "<style scoped>\n",
       "    .dataframe tbody tr th:only-of-type {\n",
       "        vertical-align: middle;\n",
       "    }\n",
       "\n",
       "    .dataframe tbody tr th {\n",
       "        vertical-align: top;\n",
       "    }\n",
       "\n",
       "    .dataframe thead th {\n",
       "        text-align: right;\n",
       "    }\n",
       "</style>\n",
       "<table border=\"1\" class=\"dataframe\">\n",
       "  <thead>\n",
       "    <tr style=\"text-align: right;\">\n",
       "      <th></th>\n",
       "      <th>51. 我喜欢这个机器人</th>\n",
       "      <th>52. 如果不能再次使用这个机器人，我会有种失落感</th>\n",
       "      <th>53. 我认为这个机器人适合我的风格</th>\n",
       "      <th>55. 我认为与这个机器人的互动是令人愉快的</th>\n",
       "    </tr>\n",
       "  </thead>\n",
       "  <tbody>\n",
       "    <tr>\n",
       "      <th>0</th>\n",
       "      <td>4</td>\n",
       "      <td>4</td>\n",
       "      <td>1</td>\n",
       "      <td>3</td>\n",
       "    </tr>\n",
       "    <tr>\n",
       "      <th>1</th>\n",
       "      <td>6</td>\n",
       "      <td>6</td>\n",
       "      <td>5</td>\n",
       "      <td>7</td>\n",
       "    </tr>\n",
       "    <tr>\n",
       "      <th>2</th>\n",
       "      <td>4</td>\n",
       "      <td>3</td>\n",
       "      <td>3</td>\n",
       "      <td>4</td>\n",
       "    </tr>\n",
       "    <tr>\n",
       "      <th>3</th>\n",
       "      <td>5</td>\n",
       "      <td>1</td>\n",
       "      <td>4</td>\n",
       "      <td>4</td>\n",
       "    </tr>\n",
       "    <tr>\n",
       "      <th>4</th>\n",
       "      <td>6</td>\n",
       "      <td>3</td>\n",
       "      <td>4</td>\n",
       "      <td>6</td>\n",
       "    </tr>\n",
       "    <tr>\n",
       "      <th>...</th>\n",
       "      <td>...</td>\n",
       "      <td>...</td>\n",
       "      <td>...</td>\n",
       "      <td>...</td>\n",
       "    </tr>\n",
       "    <tr>\n",
       "      <th>59</th>\n",
       "      <td>3</td>\n",
       "      <td>3</td>\n",
       "      <td>2</td>\n",
       "      <td>1</td>\n",
       "    </tr>\n",
       "    <tr>\n",
       "      <th>60</th>\n",
       "      <td>6</td>\n",
       "      <td>5</td>\n",
       "      <td>4</td>\n",
       "      <td>5</td>\n",
       "    </tr>\n",
       "    <tr>\n",
       "      <th>61</th>\n",
       "      <td>7</td>\n",
       "      <td>6</td>\n",
       "      <td>6</td>\n",
       "      <td>7</td>\n",
       "    </tr>\n",
       "    <tr>\n",
       "      <th>62</th>\n",
       "      <td>5</td>\n",
       "      <td>4</td>\n",
       "      <td>4</td>\n",
       "      <td>6</td>\n",
       "    </tr>\n",
       "    <tr>\n",
       "      <th>63</th>\n",
       "      <td>7</td>\n",
       "      <td>4</td>\n",
       "      <td>4</td>\n",
       "      <td>4</td>\n",
       "    </tr>\n",
       "  </tbody>\n",
       "</table>\n",
       "<p>64 rows × 4 columns</p>\n",
       "</div>"
      ],
      "text/plain": [
       "    51. 我喜欢这个机器人  52. 如果不能再次使用这个机器人，我会有种失落感  53. 我认为这个机器人适合我的风格  \\\n",
       "0              4                          4                   1   \n",
       "1              6                          6                   5   \n",
       "2              4                          3                   3   \n",
       "3              5                          1                   4   \n",
       "4              6                          3                   4   \n",
       "..           ...                        ...                 ...   \n",
       "59             3                          3                   2   \n",
       "60             6                          5                   4   \n",
       "61             7                          6                   6   \n",
       "62             5                          4                   4   \n",
       "63             7                          4                   4   \n",
       "\n",
       "    55. 我认为与这个机器人的互动是令人愉快的  \n",
       "0                        3  \n",
       "1                        7  \n",
       "2                        4  \n",
       "3                        4  \n",
       "4                        6  \n",
       "..                     ...  \n",
       "59                       1  \n",
       "60                       5  \n",
       "61                       7  \n",
       "62                       6  \n",
       "63                       4  \n",
       "\n",
       "[64 rows x 4 columns]"
      ]
     },
     "execution_count": 132,
     "metadata": {},
     "output_type": "execute_result"
    }
   ],
   "source": [
    "df[df.columns[[51, 52, 53, 55]]]"
   ]
  },
  {
   "cell_type": "code",
   "execution_count": 133,
   "id": "5d913812-0a44-40de-9238-d41e13add0c9",
   "metadata": {},
   "outputs": [
    {
     "data": {
      "text/plain": [
       "(4.75, np.float64(4.0625), np.float64(5.5))"
      ]
     },
     "execution_count": 133,
     "metadata": {},
     "output_type": "execute_result"
    }
   ],
   "source": [
    "temp_df = pd.concat([df[df.columns[[51, 52, 53, 55]]].iloc[0:8,], df[df.columns[[51, 52, 53, 55]]].iloc[32:40,]])\n",
    "temp_data, tracker = [], 0\n",
    "\n",
    "for i in range(len(temp_df)):\n",
    "    tracker = (temp_df.iloc[i, 0] + temp_df.iloc[i, 1] + temp_df.iloc[i, 2] + temp_df.iloc[i, 3]) / 4\n",
    "    temp_data.append(tracker)\n",
    "\n",
    "pd.Series(temp_data).median(), pd.Series(temp_data).quantile(0.25), pd.Series(temp_data).quantile(0.75)"
   ]
  },
  {
   "cell_type": "code",
   "execution_count": 134,
   "id": "33888eb4-474d-4f43-9a0f-2d34afac5465",
   "metadata": {},
   "outputs": [
    {
     "data": {
      "text/plain": [
       "(4.875, np.float64(3.75), np.float64(5.5))"
      ]
     },
     "execution_count": 134,
     "metadata": {},
     "output_type": "execute_result"
    }
   ],
   "source": [
    "temp_df = pd.concat([df[df.columns[[51, 52, 53, 55]]].iloc[8:16,], df[df.columns[[51, 52, 53, 55]]].iloc[40:48,]])\n",
    "temp_data, tracker = [], 0\n",
    "\n",
    "for i in range(len(temp_df)):\n",
    "    tracker = (temp_df.iloc[i, 0] + temp_df.iloc[i, 1] + temp_df.iloc[i, 2] + temp_df.iloc[i, 3]) / 4\n",
    "    temp_data.append(tracker)\n",
    "\n",
    "pd.Series(temp_data).median(), pd.Series(temp_data).quantile(0.25), pd.Series(temp_data).quantile(0.75)"
   ]
  },
  {
   "cell_type": "code",
   "execution_count": 135,
   "id": "1b648674-6cbd-43a5-825d-5c1fe202aa35",
   "metadata": {},
   "outputs": [
    {
     "data": {
      "text/plain": [
       "(4.875, np.float64(4.25), np.float64(5.4375))"
      ]
     },
     "execution_count": 135,
     "metadata": {},
     "output_type": "execute_result"
    }
   ],
   "source": [
    "temp_df = pd.concat([df[df.columns[[51, 52, 53, 55]]].iloc[16:24,], df[df.columns[[51, 52, 53, 55]]].iloc[48:56,]])\n",
    "temp_data, tracker = [], 0\n",
    "\n",
    "for i in range(len(temp_df)):\n",
    "    tracker = (temp_df.iloc[i, 0] + temp_df.iloc[i, 1] + temp_df.iloc[i, 2] + temp_df.iloc[i, 3]) / 4\n",
    "    temp_data.append(tracker)\n",
    "\n",
    "pd.Series(temp_data).median(), pd.Series(temp_data).quantile(0.25), pd.Series(temp_data).quantile(0.75)"
   ]
  },
  {
   "cell_type": "code",
   "execution_count": 137,
   "id": "0bcd0624-12bc-415c-bb01-b536b3f3d4f1",
   "metadata": {},
   "outputs": [
    {
     "data": {
      "text/plain": [
       "(4.75, np.float64(4.0), np.float64(5.375))"
      ]
     },
     "execution_count": 137,
     "metadata": {},
     "output_type": "execute_result"
    }
   ],
   "source": [
    "temp_df = pd.concat([df[df.columns[[51, 52, 53, 55]]].iloc[24:32,], df[df.columns[[51, 52, 53, 55]]].iloc[56:64,]])\n",
    "temp_data, tracker = [], 0\n",
    "\n",
    "for i in range(len(temp_df)):\n",
    "    tracker = (temp_df.iloc[i, 0] + temp_df.iloc[i, 1] + temp_df.iloc[i, 2] + temp_df.iloc[i, 3]) / 4\n",
    "    temp_data.append(tracker)\n",
    "\n",
    "pd.Series(temp_data).median(), pd.Series(temp_data).quantile(0.25), pd.Series(temp_data).quantile(0.75)"
   ]
  },
  {
   "cell_type": "code",
   "execution_count": null,
   "id": "58e1c3bd-c946-401e-84f8-b742c751e11d",
   "metadata": {},
   "outputs": [],
   "source": [
    "temp_df = pd.concat([df[df.columns[[64]]].iloc[0:8,], df[df.columns[[64]]].iloc[32:40,]])\n",
    "\n",
    "pd.Series(temp_data).median(), pd.Series(temp_data).quantile(0.25), pd.Series(temp_data).quantile(0.75)"
   ]
  },
  {
   "cell_type": "code",
   "execution_count": 153,
   "id": "c4981bfd-105c-421b-ae57-5fee2171755d",
   "metadata": {},
   "outputs": [
    {
     "name": "stdout",
     "output_type": "stream",
     "text": [
      "64. 我认为机器人是我的______    5.0\n",
      "dtype: float64 64. 我认为机器人是我的______    2.75\n",
      "Name: 0.25, dtype: float64 64. 我认为机器人是我的______    5.0\n",
      "Name: 0.75, dtype: float64\n"
     ]
    }
   ],
   "source": [
    "temp_df = pd.concat([df[df.columns[[64]]].iloc[0:8,], df[df.columns[[64]]].iloc[32:40,]])\n",
    "print(temp_df.median(), temp_df.quantile(0.25), temp_df.quantile(0.75))"
   ]
  },
  {
   "cell_type": "code",
   "execution_count": 155,
   "id": "d6a1deb4-95e2-4fbe-a583-ce68aa305b6b",
   "metadata": {},
   "outputs": [
    {
     "name": "stdout",
     "output_type": "stream",
     "text": [
      "64. 我认为机器人是我的______    4.5\n",
      "dtype: float64 64. 我认为机器人是我的______    2.0\n",
      "Name: 0.25, dtype: float64 64. 我认为机器人是我的______    6.0\n",
      "Name: 0.75, dtype: float64\n"
     ]
    }
   ],
   "source": [
    "temp_df = pd.concat([df[df.columns[[64]]].iloc[8:16,], df[df.columns[[64]]].iloc[40:48,]])\n",
    "print(temp_df.median(), temp_df.quantile(0.25), temp_df.quantile(0.75))"
   ]
  },
  {
   "cell_type": "code",
   "execution_count": 156,
   "id": "45d6f03b-357c-4907-90b3-3fc558b46335",
   "metadata": {},
   "outputs": [
    {
     "name": "stdout",
     "output_type": "stream",
     "text": [
      "64. 我认为机器人是我的______    4.5\n",
      "dtype: float64 64. 我认为机器人是我的______    3.75\n",
      "Name: 0.25, dtype: float64 64. 我认为机器人是我的______    6.0\n",
      "Name: 0.75, dtype: float64\n"
     ]
    }
   ],
   "source": [
    "temp_df = pd.concat([df[df.columns[[64]]].iloc[16:24,], df[df.columns[[64]]].iloc[48:56,]])\n",
    "print(temp_df.median(), temp_df.quantile(0.25), temp_df.quantile(0.75))"
   ]
  },
  {
   "cell_type": "code",
   "execution_count": 157,
   "id": "d1d9e639-198d-4a62-bebd-ca89ead692be",
   "metadata": {},
   "outputs": [
    {
     "name": "stdout",
     "output_type": "stream",
     "text": [
      "64. 我认为机器人是我的______    5.0\n",
      "dtype: float64 64. 我认为机器人是我的______    3.5\n",
      "Name: 0.25, dtype: float64 64. 我认为机器人是我的______    5.25\n",
      "Name: 0.75, dtype: float64\n"
     ]
    }
   ],
   "source": [
    "temp_df = pd.concat([df[df.columns[[64]]].iloc[24:32,], df[df.columns[[64]]].iloc[56:64,]])\n",
    "print(temp_df.median(), temp_df.quantile(0.25), temp_df.quantile(0.75))"
   ]
  },
  {
   "cell_type": "code",
   "execution_count": 158,
   "id": "649d1806-ddcd-4231-b207-d812c4bdf342",
   "metadata": {},
   "outputs": [
    {
     "name": "stdout",
     "output_type": "stream",
     "text": [
      "66. 请评价您和机器人的关系亲密度    4.5\n",
      "dtype: float64 66. 请评价您和机器人的关系亲密度    4.0\n",
      "Name: 0.25, dtype: float64 66. 请评价您和机器人的关系亲密度    5.0\n",
      "Name: 0.75, dtype: float64\n"
     ]
    }
   ],
   "source": [
    "temp_df = pd.concat([df[df.columns[[66]]].iloc[0:8,], df[df.columns[[66]]].iloc[32:40,]])\n",
    "print(temp_df.median(), temp_df.quantile(0.25), temp_df.quantile(0.75))"
   ]
  },
  {
   "cell_type": "code",
   "execution_count": 161,
   "id": "e2207962-8317-4df7-9b65-56a532511a5b",
   "metadata": {},
   "outputs": [
    {
     "name": "stdout",
     "output_type": "stream",
     "text": [
      "66. 请评价您和机器人的关系亲密度    4.5\n",
      "dtype: float64 66. 请评价您和机器人的关系亲密度    3.75\n",
      "Name: 0.25, dtype: float64 66. 请评价您和机器人的关系亲密度    5.25\n",
      "Name: 0.75, dtype: float64\n"
     ]
    }
   ],
   "source": [
    "temp_df = pd.concat([df[df.columns[[66]]].iloc[8:16,], df[df.columns[[66]]].iloc[40:48,]])\n",
    "print(temp_df.median(), temp_df.quantile(0.25), temp_df.quantile(0.75))"
   ]
  },
  {
   "cell_type": "code",
   "execution_count": 160,
   "id": "7b5d8578-4b0f-46b6-8e20-aa3c59c5319d",
   "metadata": {},
   "outputs": [
    {
     "name": "stdout",
     "output_type": "stream",
     "text": [
      "66. 请评价您和机器人的关系亲密度    4.0\n",
      "dtype: float64 66. 请评价您和机器人的关系亲密度    3.0\n",
      "Name: 0.25, dtype: float64 66. 请评价您和机器人的关系亲密度    5.0\n",
      "Name: 0.75, dtype: float64\n"
     ]
    }
   ],
   "source": [
    "temp_df = pd.concat([df[df.columns[[66]]].iloc[16:24,], df[df.columns[[66]]].iloc[48:56,]])\n",
    "print(temp_df.median(), temp_df.quantile(0.25), temp_df.quantile(0.75))"
   ]
  },
  {
   "cell_type": "code",
   "execution_count": 162,
   "id": "d805fbf0-18e4-47a5-8655-7b456addde6d",
   "metadata": {},
   "outputs": [
    {
     "name": "stdout",
     "output_type": "stream",
     "text": [
      "66. 请评价您和机器人的关系亲密度    4.0\n",
      "dtype: float64 66. 请评价您和机器人的关系亲密度    3.0\n",
      "Name: 0.25, dtype: float64 66. 请评价您和机器人的关系亲密度    5.0\n",
      "Name: 0.75, dtype: float64\n"
     ]
    }
   ],
   "source": [
    "temp_df = pd.concat([df[df.columns[[66]]].iloc[24:32,], df[df.columns[[66]]].iloc[56:64,]])\n",
    "print(temp_df.median(), temp_df.quantile(0.25), temp_df.quantile(0.75))"
   ]
  },
  {
   "cell_type": "code",
   "execution_count": 197,
   "id": "19f4de2b-7d5c-4091-b518-21b427a5ce76",
   "metadata": {},
   "outputs": [
    {
     "data": {
      "image/png": "[encoded data removed]",
      "text/plain": [
       "<Figure size 1000x600 with 1 Axes>"
      ]
     },
     "metadata": {},
     "output_type": "display_data"
    }
   ],
   "source": [
    "'''# Labels for each group\n",
    "group_labels = ['Attractiveness', 'Tool/Coach', 'Closeness']\n",
    "\n",
    "# Labels for each condition\n",
    "condition_labels = ['Internal', 'Narcissistic', 'External', 'Benevolent']\n",
    "\n",
    "data = [\n",
    "    [4.75, 4.875, 4.875, 4.75],  # Group A\n",
    "    [5.0, 4.5, 4.5, 5.0],  # Group B\n",
    "    [4.5, 4.5, 4.0, 4.0],  # Group C\n",
    "]\n",
    "data = np.array(data)\n",
    "num_groups, num_conditions = data.shape\n",
    "\n",
    "colors = ['cornflowerblue', 'darkseagreen', 'purple', 'sandybrown']  # 1 per condition\n",
    "\n",
    "\n",
    "x = np.arange(num_groups)  # positions for each group\n",
    "bar_width = 0.18           # narrow bars so they fit\n",
    "offsets = np.linspace(-bar_width*1.5, bar_width*1.5, num_conditions)  # for 4 bars per group\n",
    "fig, ax = plt.subplots(figsize=(10, 6))\n",
    "\n",
    "# Plot each condition as a separate bar series\n",
    "for i in range(num_conditions):\n",
    "    ax.bar(\n",
    "        x + offsets[i],\n",
    "        data[:, i],\n",
    "        width=bar_width,\n",
    "        label=condition_labels[i],\n",
    "        color=colors[i]\n",
    "    )\n",
    "\n",
    "# Aesthetics\n",
    "ax.set_ylabel('Response')\n",
    "ax.set_ylim(0, 7)\n",
    "ax.set_xticks(x)\n",
    "ax.set_xticklabels(group_labels)\n",
    "ax.tick_params(axis='x', pad=8)\n",
    "ax.tick_params(axis='y', pad=10)\n",
    "ax.legend(loc=(0.78, 0.74))\n",
    "\n",
    "\n",
    "# Optional: add bar labels\n",
    "for i in range(num_conditions):\n",
    "    for j in range(num_groups):\n",
    "        height = data[j, i]\n",
    "        ax.text(x[j] + offsets[i], height + 0.1, f'{height:.1f}', ha='center', va='bottom')\n",
    "\n",
    "plt.tight_layout()\n",
    "plt.savefig('./plot/fig_04.png', dpi=300)\n",
    "plt.show()\n",
    "'''"
   ]
  },
  {
   "cell_type": "code",
   "execution_count": 299,
   "id": "1647393d-88dd-43f1-b52b-f7e01fe6cb14",
   "metadata": {},
   "outputs": [
    {
     "data": {
      "image/png": "[encoded data removed]",
      "text/plain": [
       "<Figure size 1000x600 with 1 Axes>"
      ]
     },
     "metadata": {},
     "output_type": "display_data"
    }
   ],
   "source": [
    "# Labels\n",
    "group_labels = ['Attractiveness', 'Tool/Coach', 'Closeness']\n",
    "condition_labels = ['Internal', 'Narcissistic', 'External', 'Benevolent']\n",
    "colors = ['cornflowerblue', 'darkseagreen', 'purple', 'sandybrown']\n",
    "\n",
    "# Box stats: [Q1, Median, Q3] for each condition per group\n",
    "data = [\n",
    "    [  # Attractiveness\n",
    "        [4.5, 4.75, 5.0],\n",
    "        [4.7, 4.875, 5.0],\n",
    "        [4.6, 4.875, 5.1],\n",
    "        [4.4, 4.75, 5.1],\n",
    "    ],\n",
    "    [  # Tool/Coach\n",
    "        [4.8, 5.0, 5.2],\n",
    "        [4.2, 4.5, 4.8],\n",
    "        [4.3, 4.5, 4.7],\n",
    "        [4.8, 5.0, 5.2],\n",
    "    ],\n",
    "    [  # Closeness\n",
    "        [4.2, 4.5, 4.8],\n",
    "        [4.2, 4.5, 4.8],\n",
    "        [3.8, 4.0, 4.3],\n",
    "        [3.7, 4.0, 4.3],\n",
    "    ]\n",
    "]\n",
    "\n",
    "data = np.array(data)  # shape: (3 groups, 4 conditions, 3 stats)\n",
    "\n",
    "x = np.arange(len(group_labels))\n",
    "bar_width = 0.18\n",
    "offsets = np.linspace(-bar_width*1.5, bar_width*1.5, len(condition_labels))\n",
    "\n",
    "fig, ax = plt.subplots(figsize=(10, 6))\n",
    "\n",
    "# Helper function to draw pseudo-boxes\n",
    "def draw_box(ax, x_pos, q1, median, q3, color, label=None):\n",
    "    # Draw box (Q1 to Q3)\n",
    "    ax.add_patch(plt.Rectangle(\n",
    "        (x_pos - bar_width/2, q1), bar_width, q3 - q1,\n",
    "        facecolor=color, edgecolor='black', label=label\n",
    "    ))\n",
    "    # Draw median line\n",
    "    ax.plot([x_pos - bar_width/2, x_pos + bar_width/2], [median, median],\n",
    "            color='black', linewidth=4)\n",
    "\n",
    "# Draw all pseudo-boxes\n",
    "for g in range(len(group_labels)):\n",
    "    for c in range(len(condition_labels)):\n",
    "        q1, med, q3 = data[g, c]\n",
    "        label = condition_labels[c] if g == 0 else None  # Only label once\n",
    "        draw_box(ax, x[g] + offsets[c], q1, med, q3, color=colors[c], label=label)\n",
    "\n",
    "# Aesthetics\n",
    "ax.set_xticks(x)\n",
    "ax.set_xticklabels(group_labels)\n",
    "ax.set_ylim(3, 6)\n",
    "ax.set_ylabel('Response', labelpad=10)\n",
    "ax.tick_params(axis='x', pad=8)\n",
    "ax.tick_params(axis='y', pad=10)\n",
    "ax.legend(loc=(0.78, 0.72))\n",
    "\n",
    "plt.tight_layout()\n",
    "plt.savefig('./plot/fig_04.png', dpi=300)\n",
    "plt.show()\n",
    "\n",
    "#Box chart of perception attributes across all attribution styles"
   ]
  },
  {
   "cell_type": "code",
   "execution_count": 198,
   "id": "5caa6192-fb52-4c00-8506-5fd91a820e91",
   "metadata": {},
   "outputs": [
    {
     "data": {
      "text/html": [
       "<div>\n",
       "<style scoped>\n",
       "    .dataframe tbody tr th:only-of-type {\n",
       "        vertical-align: middle;\n",
       "    }\n",
       "\n",
       "    .dataframe tbody tr th {\n",
       "        vertical-align: top;\n",
       "    }\n",
       "\n",
       "    .dataframe thead th {\n",
       "        text-align: right;\n",
       "    }\n",
       "</style>\n",
       "<table border=\"1\" class=\"dataframe\">\n",
       "  <thead>\n",
       "    <tr style=\"text-align: right;\">\n",
       "      <th></th>\n",
       "      <th>時間戳記</th>\n",
       "      <th>1. 您的实验编号？</th>\n",
       "      <th>2. 我能够感受到机器人的正面评价，如「你真厉害」、「做得很好」</th>\n",
       "      <th>3. 我能够感受到机器人把好的结果归因到了</th>\n",
       "      <th>4. 我能够感受到机器人的负面评价，如「做得不对」、「完成得不好」</th>\n",
       "      <th>5. 我能够感受到机器人把不好的结果归因到了</th>\n",
       "      <th>6. 我能够感受到机器人给我的评价</th>\n",
       "      <th>7. 我认同NAO对我的正面评价，我认为自己确实表现得不错</th>\n",
       "      <th>8. 我认为，在刚刚的实验任务中，动作完成得好主要是依赖于</th>\n",
       "      <th>9. 我认为，动作完成得好主要是______的功劳</th>\n",
       "      <th>...</th>\n",
       "      <th>75. 机器人只能做人类指示它去做的事情</th>\n",
       "      <th>76. 机器人永远不会做任何运行程序以外的事情</th>\n",
       "      <th>77. 我希望在本次实验中表现出色</th>\n",
       "      <th>78. 我相信我可以掌握本次实验中机器人教授的基本动作</th>\n",
       "      <th>79. 我相信我将在本次实验中取得优异的成绩</th>\n",
       "      <th>80. 我相信我可以掌握本次实验中机器人教授的动作</th>\n",
       "      <th>81. 我有信心在本次实验中表现出色</th>\n",
       "      <th>82. 我相信我能理解本次实验中机器人教授的困难动作</th>\n",
       "      <th>83. 我相信我能理解本次实验中机器人教授的复杂动作</th>\n",
       "      <th>84. 我相信我将在本次实验中出色地完成动作</th>\n",
       "    </tr>\n",
       "  </thead>\n",
       "  <tbody>\n",
       "    <tr>\n",
       "      <th>0</th>\n",
       "      <td>2022-07-23 19:08:40.435</td>\n",
       "      <td>17</td>\n",
       "      <td>5</td>\n",
       "      <td>3</td>\n",
       "      <td>5</td>\n",
       "      <td>3</td>\n",
       "      <td>正面评价和负面评价相当</td>\n",
       "      <td>5</td>\n",
       "      <td>3</td>\n",
       "      <td>4</td>\n",
       "      <td>...</td>\n",
       "      <td>7</td>\n",
       "      <td>7</td>\n",
       "      <td>5</td>\n",
       "      <td>5</td>\n",
       "      <td>5</td>\n",
       "      <td>5</td>\n",
       "      <td>5</td>\n",
       "      <td>3</td>\n",
       "      <td>3</td>\n",
       "      <td>6</td>\n",
       "    </tr>\n",
       "    <tr>\n",
       "      <th>1</th>\n",
       "      <td>2022-07-24 10:42:36.312</td>\n",
       "      <td>25</td>\n",
       "      <td>7</td>\n",
       "      <td>2</td>\n",
       "      <td>7</td>\n",
       "      <td>6</td>\n",
       "      <td>正面评价更多</td>\n",
       "      <td>4</td>\n",
       "      <td>5</td>\n",
       "      <td>5</td>\n",
       "      <td>...</td>\n",
       "      <td>6</td>\n",
       "      <td>7</td>\n",
       "      <td>7</td>\n",
       "      <td>5</td>\n",
       "      <td>5</td>\n",
       "      <td>4</td>\n",
       "      <td>4</td>\n",
       "      <td>5</td>\n",
       "      <td>5</td>\n",
       "      <td>3</td>\n",
       "    </tr>\n",
       "    <tr>\n",
       "      <th>2</th>\n",
       "      <td>2022-07-24 11:30:04.161</td>\n",
       "      <td>49</td>\n",
       "      <td>6</td>\n",
       "      <td>3</td>\n",
       "      <td>6</td>\n",
       "      <td>2</td>\n",
       "      <td>正面评价和负面评价相当</td>\n",
       "      <td>4</td>\n",
       "      <td>4</td>\n",
       "      <td>3</td>\n",
       "      <td>...</td>\n",
       "      <td>5</td>\n",
       "      <td>3</td>\n",
       "      <td>6</td>\n",
       "      <td>5</td>\n",
       "      <td>3</td>\n",
       "      <td>4</td>\n",
       "      <td>3</td>\n",
       "      <td>4</td>\n",
       "      <td>3</td>\n",
       "      <td>3</td>\n",
       "    </tr>\n",
       "    <tr>\n",
       "      <th>3</th>\n",
       "      <td>2022-07-24 13:41:12.631</td>\n",
       "      <td>9</td>\n",
       "      <td>7</td>\n",
       "      <td>5</td>\n",
       "      <td>6</td>\n",
       "      <td>4</td>\n",
       "      <td>正面评价更多</td>\n",
       "      <td>4</td>\n",
       "      <td>5</td>\n",
       "      <td>4</td>\n",
       "      <td>...</td>\n",
       "      <td>7</td>\n",
       "      <td>7</td>\n",
       "      <td>7</td>\n",
       "      <td>4</td>\n",
       "      <td>4</td>\n",
       "      <td>4</td>\n",
       "      <td>2</td>\n",
       "      <td>1</td>\n",
       "      <td>1</td>\n",
       "      <td>1</td>\n",
       "    </tr>\n",
       "    <tr>\n",
       "      <th>4</th>\n",
       "      <td>2022-07-24 14:22:01.431</td>\n",
       "      <td>1</td>\n",
       "      <td>6</td>\n",
       "      <td>6</td>\n",
       "      <td>5</td>\n",
       "      <td>6</td>\n",
       "      <td>正面评价更多</td>\n",
       "      <td>4</td>\n",
       "      <td>4</td>\n",
       "      <td>3</td>\n",
       "      <td>...</td>\n",
       "      <td>4</td>\n",
       "      <td>3</td>\n",
       "      <td>6</td>\n",
       "      <td>5</td>\n",
       "      <td>6</td>\n",
       "      <td>5</td>\n",
       "      <td>5</td>\n",
       "      <td>5</td>\n",
       "      <td>5</td>\n",
       "      <td>5</td>\n",
       "    </tr>\n",
       "    <tr>\n",
       "      <th>...</th>\n",
       "      <td>...</td>\n",
       "      <td>...</td>\n",
       "      <td>...</td>\n",
       "      <td>...</td>\n",
       "      <td>...</td>\n",
       "      <td>...</td>\n",
       "      <td>...</td>\n",
       "      <td>...</td>\n",
       "      <td>...</td>\n",
       "      <td>...</td>\n",
       "      <td>...</td>\n",
       "      <td>...</td>\n",
       "      <td>...</td>\n",
       "      <td>...</td>\n",
       "      <td>...</td>\n",
       "      <td>...</td>\n",
       "      <td>...</td>\n",
       "      <td>...</td>\n",
       "      <td>...</td>\n",
       "      <td>...</td>\n",
       "      <td>...</td>\n",
       "    </tr>\n",
       "    <tr>\n",
       "      <th>59</th>\n",
       "      <td>2022-07-31 10:44:46.640</td>\n",
       "      <td>56</td>\n",
       "      <td>7</td>\n",
       "      <td>1</td>\n",
       "      <td>7</td>\n",
       "      <td>1</td>\n",
       "      <td>正面评价和负面评价相当</td>\n",
       "      <td>5</td>\n",
       "      <td>2</td>\n",
       "      <td>2</td>\n",
       "      <td>...</td>\n",
       "      <td>7</td>\n",
       "      <td>7</td>\n",
       "      <td>4</td>\n",
       "      <td>7</td>\n",
       "      <td>7</td>\n",
       "      <td>7</td>\n",
       "      <td>7</td>\n",
       "      <td>7</td>\n",
       "      <td>7</td>\n",
       "      <td>6</td>\n",
       "    </tr>\n",
       "    <tr>\n",
       "      <th>60</th>\n",
       "      <td>2022-07-31 11:30:54.182</td>\n",
       "      <td>24</td>\n",
       "      <td>5</td>\n",
       "      <td>5</td>\n",
       "      <td>6</td>\n",
       "      <td>3</td>\n",
       "      <td>正面评价和负面评价相当</td>\n",
       "      <td>5</td>\n",
       "      <td>3</td>\n",
       "      <td>3</td>\n",
       "      <td>...</td>\n",
       "      <td>5</td>\n",
       "      <td>4</td>\n",
       "      <td>6</td>\n",
       "      <td>5</td>\n",
       "      <td>5</td>\n",
       "      <td>5</td>\n",
       "      <td>5</td>\n",
       "      <td>5</td>\n",
       "      <td>6</td>\n",
       "      <td>5</td>\n",
       "    </tr>\n",
       "    <tr>\n",
       "      <th>61</th>\n",
       "      <td>2022-07-31 12:42:42.503</td>\n",
       "      <td>32</td>\n",
       "      <td>7</td>\n",
       "      <td>2</td>\n",
       "      <td>5</td>\n",
       "      <td>7</td>\n",
       "      <td>正面评价更多</td>\n",
       "      <td>4</td>\n",
       "      <td>5</td>\n",
       "      <td>4</td>\n",
       "      <td>...</td>\n",
       "      <td>7</td>\n",
       "      <td>2</td>\n",
       "      <td>6</td>\n",
       "      <td>6</td>\n",
       "      <td>5</td>\n",
       "      <td>6</td>\n",
       "      <td>6</td>\n",
       "      <td>6</td>\n",
       "      <td>6</td>\n",
       "      <td>5</td>\n",
       "    </tr>\n",
       "    <tr>\n",
       "      <th>62</th>\n",
       "      <td>2022-08-01 10:20:24.240</td>\n",
       "      <td>14</td>\n",
       "      <td>5</td>\n",
       "      <td>3</td>\n",
       "      <td>5</td>\n",
       "      <td>4</td>\n",
       "      <td>正面评价更多</td>\n",
       "      <td>6</td>\n",
       "      <td>2</td>\n",
       "      <td>3</td>\n",
       "      <td>...</td>\n",
       "      <td>5</td>\n",
       "      <td>5</td>\n",
       "      <td>6</td>\n",
       "      <td>6</td>\n",
       "      <td>6</td>\n",
       "      <td>6</td>\n",
       "      <td>6</td>\n",
       "      <td>6</td>\n",
       "      <td>6</td>\n",
       "      <td>6</td>\n",
       "    </tr>\n",
       "    <tr>\n",
       "      <th>63</th>\n",
       "      <td>2022-08-01 11:20:49.457</td>\n",
       "      <td>64</td>\n",
       "      <td>5</td>\n",
       "      <td>3</td>\n",
       "      <td>5</td>\n",
       "      <td>6</td>\n",
       "      <td>正面评价和负面评价相当</td>\n",
       "      <td>2</td>\n",
       "      <td>4</td>\n",
       "      <td>4</td>\n",
       "      <td>...</td>\n",
       "      <td>4</td>\n",
       "      <td>4</td>\n",
       "      <td>6</td>\n",
       "      <td>5</td>\n",
       "      <td>2</td>\n",
       "      <td>2</td>\n",
       "      <td>2</td>\n",
       "      <td>2</td>\n",
       "      <td>2</td>\n",
       "      <td>2</td>\n",
       "    </tr>\n",
       "  </tbody>\n",
       "</table>\n",
       "<p>64 rows × 85 columns</p>\n",
       "</div>"
      ],
      "text/plain": [
       "                       時間戳記  1. 您的实验编号？  2. 我能够感受到机器人的正面评价，如「你真厉害」、「做得很好」  \\\n",
       "0   2022-07-23 19:08:40.435          17                                 5   \n",
       "1   2022-07-24 10:42:36.312          25                                 7   \n",
       "2   2022-07-24 11:30:04.161          49                                 6   \n",
       "3   2022-07-24 13:41:12.631           9                                 7   \n",
       "4   2022-07-24 14:22:01.431           1                                 6   \n",
       "..                      ...         ...                               ...   \n",
       "59  2022-07-31 10:44:46.640          56                                 7   \n",
       "60  2022-07-31 11:30:54.182          24                                 5   \n",
       "61  2022-07-31 12:42:42.503          32                                 7   \n",
       "62  2022-08-01 10:20:24.240          14                                 5   \n",
       "63  2022-08-01 11:20:49.457          64                                 5   \n",
       "\n",
       "    3. 我能够感受到机器人把好的结果归因到了  4. 我能够感受到机器人的负面评价，如「做得不对」、「完成得不好」  \\\n",
       "0                       3                                  5   \n",
       "1                       2                                  7   \n",
       "2                       3                                  6   \n",
       "3                       5                                  6   \n",
       "4                       6                                  5   \n",
       "..                    ...                                ...   \n",
       "59                      1                                  7   \n",
       "60                      5                                  6   \n",
       "61                      2                                  5   \n",
       "62                      3                                  5   \n",
       "63                      3                                  5   \n",
       "\n",
       "    5. 我能够感受到机器人把不好的结果归因到了 6. 我能够感受到机器人给我的评价  7. 我认同NAO对我的正面评价，我认为自己确实表现得不错  \\\n",
       "0                        3       正面评价和负面评价相当                              5   \n",
       "1                        6            正面评价更多                              4   \n",
       "2                        2       正面评价和负面评价相当                              4   \n",
       "3                        4            正面评价更多                              4   \n",
       "4                        6            正面评价更多                              4   \n",
       "..                     ...               ...                            ...   \n",
       "59                       1       正面评价和负面评价相当                              5   \n",
       "60                       3       正面评价和负面评价相当                              5   \n",
       "61                       7            正面评价更多                              4   \n",
       "62                       4            正面评价更多                              6   \n",
       "63                       6       正面评价和负面评价相当                              2   \n",
       "\n",
       "    8. 我认为，在刚刚的实验任务中，动作完成得好主要是依赖于  9. 我认为，动作完成得好主要是______的功劳  ...  \\\n",
       "0                               3                          4  ...   \n",
       "1                               5                          5  ...   \n",
       "2                               4                          3  ...   \n",
       "3                               5                          4  ...   \n",
       "4                               4                          3  ...   \n",
       "..                            ...                        ...  ...   \n",
       "59                              2                          2  ...   \n",
       "60                              3                          3  ...   \n",
       "61                              5                          4  ...   \n",
       "62                              2                          3  ...   \n",
       "63                              4                          4  ...   \n",
       "\n",
       "    75. 机器人只能做人类指示它去做的事情  76. 机器人永远不会做任何运行程序以外的事情  77. 我希望在本次实验中表现出色  \\\n",
       "0                      7                        7                  5   \n",
       "1                      6                        7                  7   \n",
       "2                      5                        3                  6   \n",
       "3                      7                        7                  7   \n",
       "4                      4                        3                  6   \n",
       "..                   ...                      ...                ...   \n",
       "59                     7                        7                  4   \n",
       "60                     5                        4                  6   \n",
       "61                     7                        2                  6   \n",
       "62                     5                        5                  6   \n",
       "63                     4                        4                  6   \n",
       "\n",
       "    78. 我相信我可以掌握本次实验中机器人教授的基本动作  79. 我相信我将在本次实验中取得优异的成绩  \\\n",
       "0                             5                       5   \n",
       "1                             5                       5   \n",
       "2                             5                       3   \n",
       "3                             4                       4   \n",
       "4                             5                       6   \n",
       "..                          ...                     ...   \n",
       "59                            7                       7   \n",
       "60                            5                       5   \n",
       "61                            6                       5   \n",
       "62                            6                       6   \n",
       "63                            5                       2   \n",
       "\n",
       "    80. 我相信我可以掌握本次实验中机器人教授的动作  81. 我有信心在本次实验中表现出色  82. 我相信我能理解本次实验中机器人教授的困难动作  \\\n",
       "0                           5                   5                           3   \n",
       "1                           4                   4                           5   \n",
       "2                           4                   3                           4   \n",
       "3                           4                   2                           1   \n",
       "4                           5                   5                           5   \n",
       "..                        ...                 ...                         ...   \n",
       "59                          7                   7                           7   \n",
       "60                          5                   5                           5   \n",
       "61                          6                   6                           6   \n",
       "62                          6                   6                           6   \n",
       "63                          2                   2                           2   \n",
       "\n",
       "    83. 我相信我能理解本次实验中机器人教授的复杂动作  84. 我相信我将在本次实验中出色地完成动作  \n",
       "0                            3                       6  \n",
       "1                            5                       3  \n",
       "2                            3                       3  \n",
       "3                            1                       1  \n",
       "4                            5                       5  \n",
       "..                         ...                     ...  \n",
       "59                           7                       6  \n",
       "60                           6                       5  \n",
       "61                           6                       5  \n",
       "62                           6                       6  \n",
       "63                           2                       2  \n",
       "\n",
       "[64 rows x 85 columns]"
      ]
     },
     "execution_count": 198,
     "metadata": {},
     "output_type": "execute_result"
    }
   ],
   "source": [
    "df"
   ]
  },
  {
   "cell_type": "code",
   "execution_count": 237,
   "id": "6817ce7b-2206-48a5-b933-4bfa9b74e4bc",
   "metadata": {},
   "outputs": [
    {
     "data": {
      "text/plain": [
       "(   7. 我认同NAO对我的正面评价，我认为自己确实表现得不错\n",
       " 0                              5\n",
       " 1                              4\n",
       " 2                              4\n",
       " 3                              4\n",
       " 4                              4\n",
       " 5                              3\n",
       " 6                              4\n",
       " 7                              5,\n",
       "     7. 我认同NAO对我的正面评价，我认为自己确实表现得不错\n",
       " 32                              6\n",
       " 33                              5\n",
       " 34                              2\n",
       " 35                              2\n",
       " 36                              4\n",
       " 37                              5\n",
       " 38                              3\n",
       " 39                              4)"
      ]
     },
     "execution_count": 237,
     "metadata": {},
     "output_type": "execute_result"
    }
   ],
   "source": [
    "df[df.columns[[7]]].iloc[0:8,], df[df.columns[[7]]].iloc[32:40,]"
   ]
  },
  {
   "cell_type": "code",
   "execution_count": 254,
   "id": "8e34dd34-76a7-451a-8c82-58f9d5adfd2f",
   "metadata": {},
   "outputs": [
    {
     "data": {
      "text/plain": [
       "(np.float64(6.0), np.float64(5.0), np.float64(7.0))"
      ]
     },
     "execution_count": 254,
     "metadata": {},
     "output_type": "execute_result"
    }
   ],
   "source": [
    "temp_df.median().iloc[0], temp_df.quantile(0.25).iloc[0], temp_df.quantile(0.75).iloc[0]"
   ]
  },
  {
   "cell_type": "code",
   "execution_count": 60,
   "id": "d81f36b4-fe6e-4cb0-8163-1c9541752337",
   "metadata": {},
   "outputs": [
    {
     "data": {
      "image/png": "[encoded data removed]",
      "text/plain": [
       "<Figure size 800x600 with 1 Axes>"
      ]
     },
     "metadata": {},
     "output_type": "display_data"
    }
   ],
   "source": [
    "temp_df = pd.concat([df[df.columns[[10]]].iloc[0:8,], df[df.columns[[10]]].iloc[32:40,]])\n",
    "I_M, I_QL, I_QH = temp_df.median().iloc[0], temp_df.quantile(0.25).iloc[0], temp_df.quantile(0.75).iloc[0]\n",
    "\n",
    "temp_df = pd.concat([df[df.columns[[10]]].iloc[8:16,], df[df.columns[[10]]].iloc[40:48,]])\n",
    "N_M, N_QL, N_QH = temp_df.median().iloc[0], temp_df.quantile(0.25).iloc[0], temp_df.quantile(0.75).iloc[0]\n",
    "\n",
    "temp_df = pd.concat([df[df.columns[[10]]].iloc[16:24,], df[df.columns[[10]]].iloc[48:56,]])\n",
    "E_M, E_QL, E_QH = temp_df.median().iloc[0], temp_df.quantile(0.25).iloc[0], temp_df.quantile(0.75).iloc[0]\n",
    "\n",
    "temp_df = pd.concat([df[df.columns[[10]]].iloc[24:32,], df[df.columns[[10]]].iloc[56:64,]])\n",
    "B_M, B_QL, B_QH = temp_df.median().iloc[0], temp_df.quantile(0.25).iloc[0], temp_df.quantile(0.75).iloc[0]\n",
    "\n",
    "temp_df = pd.concat([df[df.columns[[14]]].iloc[0:8,], df[df.columns[[14]]].iloc[32:40,]])\n",
    "I_M1, I_QL1, I_QH1 = temp_df.median().iloc[0], temp_df.quantile(0.25).iloc[0], temp_df.quantile(0.75).iloc[0]\n",
    "\n",
    "temp_df = pd.concat([df[df.columns[[14]]].iloc[8:16,], df[df.columns[[14]]].iloc[40:48,]])\n",
    "N_M1, N_QL1, N_QH1 = temp_df.median().iloc[0], temp_df.quantile(0.25).iloc[0], temp_df.quantile(0.75).iloc[0]\n",
    "\n",
    "temp_df = pd.concat([df[df.columns[[14]]].iloc[16:24,], df[df.columns[[14]]].iloc[48:56,]])\n",
    "E_M1, E_QL1, E_QH1 = temp_df.median().iloc[0], temp_df.quantile(0.25).iloc[0], temp_df.quantile(0.75).iloc[0]\n",
    "\n",
    "temp_df = pd.concat([df[df.columns[[14]]].iloc[24:32,], df[df.columns[[14]]].iloc[56:64,]])\n",
    "B_M1, B_QL1, B_QH1 = temp_df.median().iloc[0], temp_df.quantile(0.25).iloc[0], temp_df.quantile(0.75).iloc[0]\n",
    "\n",
    "group_names = ['Internal', 'Narcissistic', 'External', 'Benevolent']\n",
    "\n",
    "positive_stats = [\n",
    "    [I_QL, I_M, I_QH],\n",
    "    [N_QL, N_M, N_QH],\n",
    "    [E_QL, E_M, E_QH],\n",
    "    [B_QL, B_M, B_QH],\n",
    "]\n",
    "\n",
    "negative_stats = [\n",
    "    [I_QL1, I_M1, I_QH1],\n",
    "    [N_QL1, N_M1, N_QH1],\n",
    "    [E_QL1, E_M1, E_QH1],\n",
    "    [B_QL1, B_M1, B_QH1],\n",
    "]\n",
    "\n",
    "x = np.arange(len(group_names))\n",
    "bar_width = 0.35\n",
    "\n",
    "fig, ax = plt.subplots(figsize=(8, 6))\n",
    "\n",
    "# Helper to draw each pseudo-box\n",
    "def draw_box(ax, x_pos, stats, color, label=None):\n",
    "    q1, median, q3 = stats\n",
    "    # Draw box\n",
    "    ax.add_patch(plt.Rectangle(\n",
    "        (x_pos - bar_width/2, q1), bar_width, q3 - q1,\n",
    "        facecolor=color, edgecolor='black', label=label if label else None\n",
    "    ))\n",
    "    # Draw median line\n",
    "    ax.plot([x_pos - bar_width/2, x_pos + bar_width/2], [median, median], color='black', linewidth=4)\n",
    "\n",
    "# Draw all boxes\n",
    "for i in range(len(group_names)):\n",
    "    draw_box(ax, x[i] - 0.2, stats=positive_stats[i], color='sandy', label='Positive' if i == 0 else None)\n",
    "    draw_box(ax, x[i] + 0.2, stats=negative_stats[i], color='cornflowerblue', label='Negative' if i == 0 else None)\n",
    "\n",
    "# Axis settings\n",
    "ax.set_ylim(0, 7)\n",
    "ax.set_xticks(x)\n",
    "ax.set_xticklabels(group_names)\n",
    "ax.set_ylabel('Response')\n",
    "ax.tick_params(axis='x', pad=8)\n",
    "ax.tick_params(axis='y', pad=8)\n",
    "ax.legend(loc=(0.72, 0.22))\n",
    "\n",
    "plt.tight_layout()\n",
    "plt.savefig('./plot/fig_05.png', dpi=300, bbox_inches='tight')\n",
    "plt.show()\n",
    "\n",
    "#Box chart of participants attribution style across all groups"
   ]
  },
  {
   "cell_type": "code",
   "execution_count": 200,
   "id": "03777dcd-6e26-4c73-b36b-03d76757e098",
   "metadata": {},
   "outputs": [
    {
     "data": {
      "text/html": [
       "<div>\n",
       "<style scoped>\n",
       "    .dataframe tbody tr th:only-of-type {\n",
       "        vertical-align: middle;\n",
       "    }\n",
       "\n",
       "    .dataframe tbody tr th {\n",
       "        vertical-align: top;\n",
       "    }\n",
       "\n",
       "    .dataframe thead th {\n",
       "        text-align: right;\n",
       "    }\n",
       "</style>\n",
       "<table border=\"1\" class=\"dataframe\">\n",
       "  <thead>\n",
       "    <tr style=\"text-align: right;\">\n",
       "      <th></th>\n",
       "      <th>3. 我能够感受到机器人把好的结果归因到了</th>\n",
       "      <th>5. 我能够感受到机器人把不好的结果归因到了</th>\n",
       "    </tr>\n",
       "  </thead>\n",
       "  <tbody>\n",
       "    <tr>\n",
       "      <th>0</th>\n",
       "      <td>3</td>\n",
       "      <td>3</td>\n",
       "    </tr>\n",
       "    <tr>\n",
       "      <th>1</th>\n",
       "      <td>2</td>\n",
       "      <td>6</td>\n",
       "    </tr>\n",
       "    <tr>\n",
       "      <th>2</th>\n",
       "      <td>3</td>\n",
       "      <td>2</td>\n",
       "    </tr>\n",
       "    <tr>\n",
       "      <th>3</th>\n",
       "      <td>5</td>\n",
       "      <td>4</td>\n",
       "    </tr>\n",
       "    <tr>\n",
       "      <th>4</th>\n",
       "      <td>6</td>\n",
       "      <td>6</td>\n",
       "    </tr>\n",
       "    <tr>\n",
       "      <th>...</th>\n",
       "      <td>...</td>\n",
       "      <td>...</td>\n",
       "    </tr>\n",
       "    <tr>\n",
       "      <th>59</th>\n",
       "      <td>1</td>\n",
       "      <td>1</td>\n",
       "    </tr>\n",
       "    <tr>\n",
       "      <th>60</th>\n",
       "      <td>5</td>\n",
       "      <td>3</td>\n",
       "    </tr>\n",
       "    <tr>\n",
       "      <th>61</th>\n",
       "      <td>2</td>\n",
       "      <td>7</td>\n",
       "    </tr>\n",
       "    <tr>\n",
       "      <th>62</th>\n",
       "      <td>3</td>\n",
       "      <td>4</td>\n",
       "    </tr>\n",
       "    <tr>\n",
       "      <th>63</th>\n",
       "      <td>3</td>\n",
       "      <td>6</td>\n",
       "    </tr>\n",
       "  </tbody>\n",
       "</table>\n",
       "<p>64 rows × 2 columns</p>\n",
       "</div>"
      ],
      "text/plain": [
       "    3. 我能够感受到机器人把好的结果归因到了  5. 我能够感受到机器人把不好的结果归因到了\n",
       "0                       3                       3\n",
       "1                       2                       6\n",
       "2                       3                       2\n",
       "3                       5                       4\n",
       "4                       6                       6\n",
       "..                    ...                     ...\n",
       "59                      1                       1\n",
       "60                      5                       3\n",
       "61                      2                       7\n",
       "62                      3                       4\n",
       "63                      3                       6\n",
       "\n",
       "[64 rows x 2 columns]"
      ]
     },
     "execution_count": 200,
     "metadata": {},
     "output_type": "execute_result"
    }
   ],
   "source": [
    "df[df.columns[[3, 5]]]"
   ]
  },
  {
   "cell_type": "code",
   "execution_count": 203,
   "id": "444efc84-67b8-4bce-abc8-25a453676f30",
   "metadata": {},
   "outputs": [
    {
     "name": "stdout",
     "output_type": "stream",
     "text": [
      "3. 我能够感受到机器人把好的结果归因到了    3.0\n",
      "dtype: float64 3. 我能够感受到机器人把好的结果归因到了    1.75\n",
      "Name: 0.25, dtype: float64 3. 我能够感受到机器人把好的结果归因到了    4.0\n",
      "Name: 0.75, dtype: float64\n"
     ]
    }
   ],
   "source": [
    "temp_df = pd.concat([df[df.columns[[3]]].iloc[0:8,], df[df.columns[[3]]].iloc[32:40,]])\n",
    "print(temp_df.median(), temp_df.quantile(0.25), temp_df.quantile(0.75))"
   ]
  },
  {
   "cell_type": "code",
   "execution_count": 204,
   "id": "ac6be066-3b07-4340-b822-dff845c27ccf",
   "metadata": {},
   "outputs": [
    {
     "name": "stdout",
     "output_type": "stream",
     "text": [
      "3. 我能够感受到机器人把好的结果归因到了    3.0\n",
      "dtype: float64 3. 我能够感受到机器人把好的结果归因到了    2.0\n",
      "Name: 0.25, dtype: float64 3. 我能够感受到机器人把好的结果归因到了    5.25\n",
      "Name: 0.75, dtype: float64\n"
     ]
    }
   ],
   "source": [
    "temp_df = pd.concat([df[df.columns[[3]]].iloc[8:16,], df[df.columns[[3]]].iloc[40:48,]])\n",
    "print(temp_df.median(), temp_df.quantile(0.25), temp_df.quantile(0.75))"
   ]
  },
  {
   "cell_type": "code",
   "execution_count": 205,
   "id": "3841c38d-39e7-4c43-8ea6-906f2becaf8a",
   "metadata": {},
   "outputs": [
    {
     "name": "stdout",
     "output_type": "stream",
     "text": [
      "3. 我能够感受到机器人把好的结果归因到了    4.5\n",
      "dtype: float64 3. 我能够感受到机器人把好的结果归因到了    3.0\n",
      "Name: 0.25, dtype: float64 3. 我能够感受到机器人把好的结果归因到了    6.25\n",
      "Name: 0.75, dtype: float64\n"
     ]
    }
   ],
   "source": [
    "temp_df = pd.concat([df[df.columns[[3]]].iloc[16:24,], df[df.columns[[3]]].iloc[48:56,]])\n",
    "print(temp_df.median(), temp_df.quantile(0.25), temp_df.quantile(0.75))"
   ]
  },
  {
   "cell_type": "code",
   "execution_count": 202,
   "id": "21fc3a54-5a4a-4611-8836-3ed5af64d8e2",
   "metadata": {},
   "outputs": [
    {
     "name": "stdout",
     "output_type": "stream",
     "text": [
      "3. 我能够感受到机器人把好的结果归因到了    3.0\n",
      "dtype: float64 3. 我能够感受到机器人把好的结果归因到了    2.0\n",
      "Name: 0.25, dtype: float64 3. 我能够感受到机器人把好的结果归因到了    3.5\n",
      "Name: 0.75, dtype: float64\n"
     ]
    }
   ],
   "source": [
    "temp_df = pd.concat([df[df.columns[[3]]].iloc[24:32,], df[df.columns[[3]]].iloc[56:64,]])\n",
    "print(temp_df.median(), temp_df.quantile(0.25), temp_df.quantile(0.75))"
   ]
  },
  {
   "cell_type": "code",
   "execution_count": 207,
   "id": "db277383-cbf1-4952-ba46-69cd8ee7b883",
   "metadata": {},
   "outputs": [
    {
     "name": "stdout",
     "output_type": "stream",
     "text": [
      "5. 我能够感受到机器人把不好的结果归因到了    5.0\n",
      "dtype: float64 5. 我能够感受到机器人把不好的结果归因到了    3.75\n",
      "Name: 0.25, dtype: float64 5. 我能够感受到机器人把不好的结果归因到了    6.0\n",
      "Name: 0.75, dtype: float64\n"
     ]
    }
   ],
   "source": [
    "temp_df = pd.concat([df[df.columns[[5]]].iloc[0:8,], df[df.columns[[5]]].iloc[32:40,]])\n",
    "print(temp_df.median(), temp_df.quantile(0.25), temp_df.quantile(0.75))"
   ]
  },
  {
   "cell_type": "code",
   "execution_count": 208,
   "id": "24c8f4ab-14aa-4a73-b8d2-421b66eb7efb",
   "metadata": {},
   "outputs": [
    {
     "name": "stdout",
     "output_type": "stream",
     "text": [
      "5. 我能够感受到机器人把不好的结果归因到了    4.5\n",
      "dtype: float64 5. 我能够感受到机器人把不好的结果归因到了    2.0\n",
      "Name: 0.25, dtype: float64 5. 我能够感受到机器人把不好的结果归因到了    6.0\n",
      "Name: 0.75, dtype: float64\n"
     ]
    }
   ],
   "source": [
    "temp_df = pd.concat([df[df.columns[[5]]].iloc[8:16,], df[df.columns[[5]]].iloc[40:48,]])\n",
    "print(temp_df.median(), temp_df.quantile(0.25), temp_df.quantile(0.75))"
   ]
  },
  {
   "cell_type": "code",
   "execution_count": 209,
   "id": "5dd5cc17-d8b2-4a4c-aff6-de2d03da85b1",
   "metadata": {},
   "outputs": [
    {
     "name": "stdout",
     "output_type": "stream",
     "text": [
      "5. 我能够感受到机器人把不好的结果归因到了    3.0\n",
      "dtype: float64 5. 我能够感受到机器人把不好的结果归因到了    2.0\n",
      "Name: 0.25, dtype: float64 5. 我能够感受到机器人把不好的结果归因到了    6.0\n",
      "Name: 0.75, dtype: float64\n"
     ]
    }
   ],
   "source": [
    "temp_df = pd.concat([df[df.columns[[5]]].iloc[16:24,], df[df.columns[[5]]].iloc[48:56,]])\n",
    "print(temp_df.median(), temp_df.quantile(0.25), temp_df.quantile(0.75))"
   ]
  },
  {
   "cell_type": "code",
   "execution_count": 210,
   "id": "c37e11cb-e7de-4e03-8fe8-b2f3ea8ec8fa",
   "metadata": {},
   "outputs": [
    {
     "name": "stdout",
     "output_type": "stream",
     "text": [
      "5. 我能够感受到机器人把不好的结果归因到了    3.0\n",
      "dtype: float64 5. 我能够感受到机器人把不好的结果归因到了    2.0\n",
      "Name: 0.25, dtype: float64 5. 我能够感受到机器人把不好的结果归因到了    5.25\n",
      "Name: 0.75, dtype: float64\n"
     ]
    }
   ],
   "source": [
    "temp_df = pd.concat([df[df.columns[[5]]].iloc[24:32,], df[df.columns[[5]]].iloc[56:64,]])\n",
    "print(temp_df.median(), temp_df.quantile(0.25), temp_df.quantile(0.75))"
   ]
  },
  {
   "cell_type": "code",
   "execution_count": 213,
   "id": "fad3b5e7-d0a6-4b55-b46b-04ee04dcabf7",
   "metadata": {},
   "outputs": [],
   "source": [
    "temp_df = pd.concat([df[df.columns[[3]]].iloc[24:32,], df[df.columns[[3]]].iloc[56:64,]])"
   ]
  },
  {
   "cell_type": "code",
   "execution_count": 219,
   "id": "4d989041-105b-4fd6-b92b-75bea9d498b9",
   "metadata": {},
   "outputs": [
    {
     "data": {
      "text/plain": [
       "5. 我能够感受到机器人把不好的结果归因到了    3.625\n",
       "dtype: float64"
      ]
     },
     "execution_count": 219,
     "metadata": {},
     "output_type": "execute_result"
    }
   ],
   "source": [
    "pd.concat([df[df.columns[[5]]].iloc[16:24,], df[df.columns[[5]]].iloc[48:56,]]).mean()"
   ]
  },
  {
   "cell_type": "code",
   "execution_count": 290,
   "id": "399b4248-e7e7-4864-9cfd-b84bb26a4f82",
   "metadata": {},
   "outputs": [
    {
     "data": {
      "image/png": "[encoded data removed]",
      "text/plain": [
       "<Figure size 800x600 with 1 Axes>"
      ]
     },
     "metadata": {},
     "output_type": "display_data"
    }
   ],
   "source": [
    "group_names = ['Internal', 'Narcissistic', 'External', 'Benevolent']\n",
    "\n",
    "positive_stats = [\n",
    "    [1.75, 3.0, 4.0],\n",
    "    [2.0, 3.0, 5.25],\n",
    "    [3.0, 4.5, 6.25],\n",
    "    [2.5, 3.0, 3.5],\n",
    "]\n",
    "\n",
    "negative_stats = [\n",
    "    [3.75, 5.0, 6.0],\n",
    "    [2.0, 4.5, 6.0],\n",
    "    [2.0, 3.0, 6.0],\n",
    "    [2.0, 3.0, 5.25],\n",
    "]\n",
    "\n",
    "x = np.arange(len(group_names))\n",
    "bar_width = 0.35\n",
    "\n",
    "fig, ax = plt.subplots(figsize=(8, 6))\n",
    "\n",
    "# Helper to draw each pseudo-box\n",
    "def draw_box(ax, x_pos, stats, color, label=None):\n",
    "    q1, median, q3 = stats\n",
    "    # Draw box\n",
    "    ax.add_patch(plt.Rectangle(\n",
    "        (x_pos - bar_width/2, q1), bar_width, q3 - q1,\n",
    "        facecolor=color, edgecolor='black', label=label if label else None\n",
    "    ))\n",
    "    # Draw median line\n",
    "    ax.plot([x_pos - bar_width/2, x_pos + bar_width/2], [median, median], color='black', linewidth=4)\n",
    "\n",
    "# Draw all boxes\n",
    "for i in range(len(group_names)):\n",
    "    draw_box(ax, x[i] - 0.2, positive_stats[i], color='sandybrown', label='Positive' if i == 0 else None)\n",
    "    draw_box(ax, x[i] + 0.2, negative_stats[i], color='cornflowerblue', label='Negative' if i == 0 else None)\n",
    "\n",
    "# Axis settings\n",
    "ax.set_ylim(0, 7)\n",
    "ax.set_xticks(x)\n",
    "ax.set_xticklabels(group_names)\n",
    "ax.set_ylabel('Response')\n",
    "ax.tick_params(axis='x', pad=8)\n",
    "ax.tick_params(axis='y', pad=8)\n",
    "ax.legend(loc=(0.78, 0.83))\n",
    "\n",
    "plt.tight_layout()\n",
    "plt.savefig('./plot/fig_06.png', dpi=300, bbox_inches='tight')\n",
    "plt.show\n",
    "#Box chart of attribution styles across all groups for manipulation check"
   ]
  },
  {
   "cell_type": "code",
   "execution_count": 228,
   "id": "f98f4776-bfce-430a-a282-2ff042eba189",
   "metadata": {},
   "outputs": [
    {
     "data": {
      "text/plain": [
       "6. 我能够感受到机器人给我的评价\n",
       "正面评价和负面评价相当          39\n",
       "正面评价更多               24\n",
       "负面评价更多                1\n",
       "Name: count, dtype: int64"
      ]
     },
     "execution_count": 228,
     "metadata": {},
     "output_type": "execute_result"
    }
   ],
   "source": [
    "df[df.columns[[6]]].value_counts()"
   ]
  },
  {
   "cell_type": "code",
   "execution_count": 51,
   "id": "aeac14ae-0218-458e-9d0a-fcb0305ed9a8",
   "metadata": {},
   "outputs": [
    {
     "data": {
      "text/html": [
       "<div>\n",
       "<style scoped>\n",
       "    .dataframe tbody tr th:only-of-type {\n",
       "        vertical-align: middle;\n",
       "    }\n",
       "\n",
       "    .dataframe tbody tr th {\n",
       "        vertical-align: top;\n",
       "    }\n",
       "\n",
       "    .dataframe thead th {\n",
       "        text-align: right;\n",
       "    }\n",
       "</style>\n",
       "<table border=\"1\" class=\"dataframe\">\n",
       "  <thead>\n",
       "    <tr style=\"text-align: right;\">\n",
       "      <th></th>\n",
       "      <th>4. 我能够感受到机器人的负面评价，如「做得不对」、「完成得不好」</th>\n",
       "    </tr>\n",
       "  </thead>\n",
       "  <tbody>\n",
       "    <tr>\n",
       "      <th>24</th>\n",
       "      <td>6</td>\n",
       "    </tr>\n",
       "    <tr>\n",
       "      <th>25</th>\n",
       "      <td>7</td>\n",
       "    </tr>\n",
       "    <tr>\n",
       "      <th>26</th>\n",
       "      <td>5</td>\n",
       "    </tr>\n",
       "    <tr>\n",
       "      <th>27</th>\n",
       "      <td>5</td>\n",
       "    </tr>\n",
       "    <tr>\n",
       "      <th>28</th>\n",
       "      <td>5</td>\n",
       "    </tr>\n",
       "    <tr>\n",
       "      <th>29</th>\n",
       "      <td>7</td>\n",
       "    </tr>\n",
       "    <tr>\n",
       "      <th>30</th>\n",
       "      <td>7</td>\n",
       "    </tr>\n",
       "    <tr>\n",
       "      <th>31</th>\n",
       "      <td>6</td>\n",
       "    </tr>\n",
       "    <tr>\n",
       "      <th>56</th>\n",
       "      <td>7</td>\n",
       "    </tr>\n",
       "    <tr>\n",
       "      <th>57</th>\n",
       "      <td>7</td>\n",
       "    </tr>\n",
       "    <tr>\n",
       "      <th>58</th>\n",
       "      <td>6</td>\n",
       "    </tr>\n",
       "    <tr>\n",
       "      <th>59</th>\n",
       "      <td>7</td>\n",
       "    </tr>\n",
       "    <tr>\n",
       "      <th>60</th>\n",
       "      <td>6</td>\n",
       "    </tr>\n",
       "    <tr>\n",
       "      <th>61</th>\n",
       "      <td>5</td>\n",
       "    </tr>\n",
       "    <tr>\n",
       "      <th>62</th>\n",
       "      <td>5</td>\n",
       "    </tr>\n",
       "    <tr>\n",
       "      <th>63</th>\n",
       "      <td>5</td>\n",
       "    </tr>\n",
       "  </tbody>\n",
       "</table>\n",
       "</div>"
      ],
      "text/plain": [
       "    4. 我能够感受到机器人的负面评价，如「做得不对」、「完成得不好」\n",
       "24                                  6\n",
       "25                                  7\n",
       "26                                  5\n",
       "27                                  5\n",
       "28                                  5\n",
       "29                                  7\n",
       "30                                  7\n",
       "31                                  6\n",
       "56                                  7\n",
       "57                                  7\n",
       "58                                  6\n",
       "59                                  7\n",
       "60                                  6\n",
       "61                                  5\n",
       "62                                  5\n",
       "63                                  5"
      ]
     },
     "execution_count": 51,
     "metadata": {},
     "output_type": "execute_result"
    }
   ],
   "source": [
    "pd.concat([df[df.columns[[4]]].iloc[24:32,], df[df.columns[[4]]].iloc[56:64,]])"
   ]
  },
  {
   "cell_type": "code",
   "execution_count": 52,
   "id": "8e890bb6-9528-42b6-ac10-59d14e08f69a",
   "metadata": {},
   "outputs": [
    {
     "data": {
      "image/png": "[encoded data removed]",
      "text/plain": [
       "<Figure size 800x600 with 1 Axes>"
      ]
     },
     "metadata": {},
     "output_type": "display_data"
    }
   ],
   "source": [
    "temp_df = pd.concat([df[df.columns[[2]]].iloc[0:8,], df[df.columns[[2]]].iloc[32:40,]])\n",
    "I_M, I_QL, I_QH = temp_df.median().iloc[0], temp_df.quantile(0.25).iloc[0], temp_df.quantile(0.75).iloc[0]\n",
    "\n",
    "temp_df = pd.concat([df[df.columns[[2]]].iloc[8:16,], df[df.columns[[2]]].iloc[40:48,]])\n",
    "N_M, N_QL, N_QH = temp_df.median().iloc[0], temp_df.quantile(0.25).iloc[0], temp_df.quantile(0.75).iloc[0]\n",
    "\n",
    "temp_df = pd.concat([df[df.columns[[2]]].iloc[16:24,], df[df.columns[[2]]].iloc[48:56,]])\n",
    "E_M, E_QL, E_QH = temp_df.median().iloc[0], temp_df.quantile(0.25).iloc[0], temp_df.quantile(0.75).iloc[0]\n",
    "\n",
    "temp_df = pd.concat([df[df.columns[[2]]].iloc[24:32,], df[df.columns[[2]]].iloc[56:64,]])\n",
    "B_M, B_QL, B_QH = temp_df.median().iloc[0], temp_df.quantile(0.25).iloc[0], temp_df.quantile(0.75).iloc[0]\n",
    "\n",
    "temp_df = pd.concat([df[df.columns[[4]]].iloc[0:8,], df[df.columns[[4]]].iloc[32:40,]])\n",
    "I_M1, I_QL1, I_QH1 = temp_df.median().iloc[0], temp_df.quantile(0.25).iloc[0], temp_df.quantile(0.75).iloc[0]\n",
    "\n",
    "temp_df = pd.concat([df[df.columns[[4]]].iloc[8:16,], df[df.columns[[4]]].iloc[40:48,]])\n",
    "N_M1, N_QL1, N_QH1 = temp_df.median().iloc[0], temp_df.quantile(0.25).iloc[0], temp_df.quantile(0.75).iloc[0]\n",
    "\n",
    "temp_df = pd.concat([df[df.columns[[4]]].iloc[16:24,], df[df.columns[[4]]].iloc[48:56,]])\n",
    "E_M1, E_QL1, E_QH1 = temp_df.median().iloc[0], temp_df.quantile(0.25).iloc[0], temp_df.quantile(0.75).iloc[0]\n",
    "\n",
    "temp_df = pd.concat([df[df.columns[[4]]].iloc[24:32,], df[df.columns[[4]]].iloc[56:64,]])\n",
    "B_M1, B_QL1, B_QH1 = temp_df.median().iloc[0], temp_df.quantile(0.25).iloc[0], temp_df.quantile(0.75).iloc[0]\n",
    "\n",
    "group_names = ['Internal', 'Narcissistic', 'External', 'Benevolent']\n",
    "\n",
    "positive_stats = [\n",
    "    [I_QL, I_M, I_QH],\n",
    "    [N_QL, N_M, N_QH],\n",
    "    [E_QL, E_M, E_QH],\n",
    "    [B_QL, B_M, B_QH],\n",
    "]\n",
    "\n",
    "negative_stats = [\n",
    "    [I_QL1, I_M1, I_QH1],\n",
    "    [N_QL1, N_M1, N_QH1],\n",
    "    [E_QL1, E_M1, E_QH1],\n",
    "    [B_QL1, B_M1, B_QH1],\n",
    "]\n",
    "\n",
    "x = np.arange(len(group_names))\n",
    "bar_width = 0.35\n",
    "\n",
    "fig, ax = plt.subplots(figsize=(8, 6))\n",
    "\n",
    "# Helper to draw each pseudo-box\n",
    "def draw_box(ax, x_pos, stats, color, label=None):\n",
    "    q1, median, q3 = stats\n",
    "    # Draw box\n",
    "    ax.add_patch(plt.Rectangle(\n",
    "        (x_pos - bar_width/2, q1), bar_width, q3 - q1,\n",
    "        facecolor=color, edgecolor='black', label=label if label else None\n",
    "    ))\n",
    "    # Draw median line\n",
    "    ax.plot([x_pos - bar_width/2, x_pos + bar_width/2], [median, median], color='black', linewidth=4)\n",
    "\n",
    "# Draw all boxes\n",
    "for i in range(len(group_names)):\n",
    "    draw_box(ax, x[i] - 0.2, stats=positive_stats[i], color='sandybrown', label='Positive' if i == 0 else None)\n",
    "    draw_box(ax, x[i] + 0.2, stats=negative_stats[i], color='cornflowerblue', label='Negative' if i == 0 else None)\n",
    "\n",
    "# Axis settings\n",
    "ax.set_ylim(4, 7)\n",
    "ax.set_xticks(x)\n",
    "ax.set_xticklabels(group_names)\n",
    "ax.set_ylabel('Response')\n",
    "ax.tick_params(axis='x', pad=8)\n",
    "ax.tick_params(axis='y', pad=8)\n",
    "ax.legend(loc=(0.72, 0.12))\n",
    "\n",
    "plt.tight_layout()\n",
    "plt.savefig('./plot/fig_07.png', dpi=300, bbox_inches='tight')\n",
    "plt.show()\n",
    "\n",
    "#Box chart of feedback valence across attribution styles for manipulation check"
   ]
  },
  {
   "cell_type": "code",
   "execution_count": 53,
   "id": "f278bcc3-3a52-4c05-81fa-c606484470ce",
   "metadata": {},
   "outputs": [
    {
     "data": {
      "image/png": "[encoded data removed]",
      "text/plain": [
       "<Figure size 800x600 with 1 Axes>"
      ]
     },
     "metadata": {},
     "output_type": "display_data"
    }
   ],
   "source": [
    "temp_df = pd.concat([df[df.columns[[15, 18, 21]]].iloc[0:8,], df[df.columns[[15, 18, 21]]].iloc[32:40,]])\n",
    "I_M, I_QL, I_QH = temp_df.median().iloc[0], temp_df.quantile(0.25).iloc[0], temp_df.quantile(0.75).iloc[0]\n",
    "\n",
    "temp_df = pd.concat([df[df.columns[[15, 18, 21]]].iloc[8:16,], df[df.columns[[15, 18, 21]]].iloc[40:48,]])\n",
    "N_M, N_QL, N_QH = temp_df.median().iloc[0], temp_df.quantile(0.25).iloc[0], temp_df.quantile(0.75).iloc[0]\n",
    "\n",
    "temp_df = pd.concat([df[df.columns[[15, 18, 21]]].iloc[16:24,], df[df.columns[[15, 18, 21]]].iloc[48:56,]])\n",
    "E_M, E_QL, E_QH = temp_df.median().iloc[0], temp_df.quantile(0.25).iloc[0], temp_df.quantile(0.75).iloc[0]\n",
    "\n",
    "temp_df = pd.concat([df[df.columns[[15, 18, 21]]].iloc[24:32,], df[df.columns[[15, 18, 21]]].iloc[56:64,]])\n",
    "B_M, B_QL, B_QH = temp_df.median().iloc[0], temp_df.quantile(0.25).iloc[0], temp_df.quantile(0.75).iloc[0]\n",
    "\n",
    "temp_df = pd.concat([df[df.columns[[16, 19, 22]]].iloc[0:8,], df[df.columns[[16, 19, 22]]].iloc[32:40,]])\n",
    "I_M1, I_QL1, I_QH1 = temp_df.median().iloc[0], temp_df.quantile(0.25).iloc[0], temp_df.quantile(0.75).iloc[0]\n",
    "\n",
    "temp_df = pd.concat([df[df.columns[[16, 19, 22]]].iloc[8:16,], df[df.columns[[16, 19, 22]]].iloc[40:48,]])\n",
    "N_M1, N_QL1, N_QH1 = temp_df.median().iloc[0], temp_df.quantile(0.25).iloc[0], temp_df.quantile(0.75).iloc[0]\n",
    "\n",
    "temp_df = pd.concat([df[df.columns[[16, 19, 22]]].iloc[16:24,], df[df.columns[[16, 19, 22]]].iloc[48:56,]])\n",
    "E_M1, E_QL1, E_QH1 = temp_df.median().iloc[0], temp_df.quantile(0.25).iloc[0], temp_df.quantile(0.75).iloc[0]\n",
    "\n",
    "temp_df = pd.concat([df[df.columns[[16, 19, 22]]].iloc[24:32,], df[df.columns[[16, 19, 22]]].iloc[56:64,]])\n",
    "B_M1, B_QL1, B_QH1 = temp_df.median().iloc[0], temp_df.quantile(0.25).iloc[0], temp_df.quantile(0.75).iloc[0]\n",
    "\n",
    "group_names = ['Internal', 'Narcissistic', 'External', 'Benevolent']\n",
    "\n",
    "robot_stats = [\n",
    "    [I_QL, I_M, I_QH],\n",
    "    [N_QL, N_M, N_QH],\n",
    "    [E_QL, E_M, E_QH],\n",
    "    [B_QL, B_M, B_QH],\n",
    "]\n",
    "\n",
    "learner_stats = [\n",
    "    [I_QL1, I_M1, I_QH1],\n",
    "    [N_QL1, N_M1, N_QH1],\n",
    "    [E_QL1, E_M1, E_QH1],\n",
    "    [B_QL1, B_M1, B_QH1],\n",
    "]\n",
    "\n",
    "x = np.arange(len(group_names))\n",
    "bar_width = 0.35\n",
    "\n",
    "fig, ax = plt.subplots(figsize=(8, 6))\n",
    "\n",
    "# Helper to draw each pseudo-box\n",
    "def draw_box(ax, x_pos, stats, color, label=None):\n",
    "    q1, median, q3 = stats\n",
    "    # Draw box\n",
    "    ax.add_patch(plt.Rectangle(\n",
    "        (x_pos - bar_width/2, q1), bar_width, q3 - q1,\n",
    "        facecolor=color, edgecolor='black', label=label if label else None\n",
    "    ))\n",
    "    # Draw median line\n",
    "    ax.plot([x_pos - bar_width/2, x_pos + bar_width/2], [median, median], color='black', linewidth=4)\n",
    "\n",
    "# Draw all boxes\n",
    "for i in range(len(group_names)):\n",
    "    draw_box(ax, x[i] - 0.2, stats=robot_stats[i], color='darkseagreen', label='Robot' if i == 0 else None)\n",
    "    draw_box(ax, x[i] + 0.2, stats=learner_stats[i], color='purple', label='Learner' if i == 0 else None)\n",
    "\n",
    "# Axis settings\n",
    "ax.set_ylim(0, 7)\n",
    "ax.set_xticks(x)\n",
    "ax.set_xticklabels(group_names)\n",
    "ax.set_ylabel('Response')\n",
    "ax.tick_params(axis='x', pad=8)\n",
    "ax.tick_params(axis='y', pad=8)\n",
    "ax.legend(loc=(0.72, 0.1))\n",
    "\n",
    "plt.tight_layout()\n",
    "plt.savefig('./plot/fig_08.png', dpi=300, bbox_inches='tight')\n",
    "plt.show()\n",
    "\n",
    "#Box chart of credit attribution between attribution styles for robot/learner"
   ]
  },
  {
   "cell_type": "code",
   "execution_count": 42,
   "id": "bd1d7478-5a97-42f1-83d1-c370bb17dae1",
   "metadata": {},
   "outputs": [
    {
     "name": "stdout",
     "output_type": "stream",
     "text": [
      "Kruskal-Wallis H Test Statistic: 7.427480064442854\n",
      "P-value: 0.05945137154373239\n"
     ]
    }
   ],
   "source": [
    "#H5a: Participants would attribute more credit to the robot when attribution styles are more considerate of the learner’s effort and avoid self-serving explanations.\n",
    "\n",
    "i_df = pd.concat([df[df.columns[[15, 18, 21]]].iloc[0:8,], df[df.columns[[15, 18, 21]]].iloc[32:40,]])\n",
    "n_df = pd.concat([df[df.columns[[15, 18, 21]]].iloc[8:16,], df[df.columns[[15, 18, 21]]].iloc[40:48,]])\n",
    "e_df = pd.concat([df[df.columns[[15, 18, 21]]].iloc[16:24,], df[df.columns[[15, 18, 21]]].iloc[48:56,]])\n",
    "b_df = pd.concat([df[df.columns[[15, 18, 21]]].iloc[24:32,], df[df.columns[[15, 18, 21]]].iloc[56:64,]])\n",
    "\n",
    "temp_data, tracker = [], 0\n",
    "\n",
    "for i in range(len(i_df)):\n",
    "    tracker = (i_df.iloc[i, 0] + i_df.iloc[i, 1] + i_df.iloc[i, 2]) / 3\n",
    "    temp_data.append(tracker)\n",
    "\n",
    "i_data = temp_data\n",
    "temp_data, tracker = [], 0\n",
    "\n",
    "for i in range(len(n_df)):\n",
    "    tracker = (n_df.iloc[i, 0] + n_df.iloc[i, 1] + n_df.iloc[i, 2]) / 3\n",
    "    temp_data.append(tracker)\n",
    "\n",
    "n_data = temp_data\n",
    "temp_data, tracker = [], 0\n",
    "\n",
    "for i in range(len(e_df)):\n",
    "    tracker = (e_df.iloc[i, 0] + e_df.iloc[i, 1] + e_df.iloc[i, 2]) / 3\n",
    "    temp_data.append(tracker)\n",
    "\n",
    "e_data = temp_data\n",
    "temp_data, tracker = [], 0\n",
    "\n",
    "for i in range(len(b_df)):\n",
    "    tracker = (b_df.iloc[i, 0] + b_df.iloc[i, 1] + b_df.iloc[i, 2]) / 3\n",
    "    temp_data.append(tracker)\n",
    "\n",
    "b_data = temp_data\n",
    "\n",
    "# Kruskal-Wallis H Test\n",
    "stat, p = kruskal(i_data, n_data, e_data, b_data)\n",
    "print(f\"Kruskal-Wallis H Test Statistic: {stat}\")\n",
    "print(f\"P-value: {p}\")"
   ]
  },
  {
   "cell_type": "code",
   "execution_count": 43,
   "id": "a1f832e7-167c-4531-b076-f6cc367f65ae",
   "metadata": {},
   "outputs": [
    {
     "name": "stdout",
     "output_type": "stream",
     "text": [
      "              Internal  Narcissistic  External  Benevolent\n",
      "Internal      1.000000      0.016701  0.660318    0.082916\n",
      "Narcissistic  0.016701      1.000000  0.050731    0.509760\n",
      "External      0.660318      0.050731  1.000000    0.195480\n",
      "Benevolent    0.082916      0.509760  0.195480    1.000000\n"
     ]
    }
   ],
   "source": [
    "dunn_data = {\n",
    "    'Data': i_data + n_data + e_data + b_data,\n",
    "    'Group': ['Internal'] * 16 + ['Narcissistic'] * 16 + ['External'] * 16 + ['Benevolent'] * 16\n",
    "}\n",
    "\n",
    "dunn_df = pd.DataFrame(dunn_data)\n",
    "dunn_df['Group'] = dunn_df['Group'].astype(cat_type)\n",
    "\n",
    "# Perform Dunn's Test\n",
    "posthoc = posthoc_dunn(dunn_df, val_col='Data', group_col='Group', p_adjust=None)\n",
    "print(posthoc)"
   ]
  },
  {
   "cell_type": "code",
   "execution_count": 40,
   "id": "31f86d4d-afc9-4ba1-9133-3a6c7cdc2234",
   "metadata": {},
   "outputs": [
    {
     "name": "stdout",
     "output_type": "stream",
     "text": [
      "Kruskal-Wallis H Test Statistic: 4.507519354163771\n",
      "P-value: 0.21162055797815782\n"
     ]
    }
   ],
   "source": [
    "#H5b: Participants would attribute less credit to themselves when attribution styles are more considerate of the learner’s effort and avoid self-serving explanations.\n",
    "\n",
    "i_df = pd.concat([df[df.columns[[16, 19, 22]]].iloc[0:8,], df[df.columns[[16, 19, 22]]].iloc[32:40,]])\n",
    "n_df = pd.concat([df[df.columns[[16, 19, 22]]].iloc[8:16,], df[df.columns[[16, 19, 22]]].iloc[40:48,]])\n",
    "e_df = pd.concat([df[df.columns[[16, 19, 22]]].iloc[16:24,], df[df.columns[[16, 19, 22]]].iloc[48:56,]])\n",
    "b_df = pd.concat([df[df.columns[[16, 19, 22]]].iloc[24:32,], df[df.columns[[16, 19, 22]]].iloc[56:64,]])\n",
    "\n",
    "temp_data, tracker = [], 0\n",
    "\n",
    "for i in range(len(i_df)):\n",
    "    tracker = (i_df.iloc[i, 0] + i_df.iloc[i, 1] + i_df.iloc[i, 2]) / 3\n",
    "    temp_data.append(tracker)\n",
    "\n",
    "i_data = temp_data\n",
    "temp_data, tracker = [], 0\n",
    "\n",
    "for i in range(len(n_df)):\n",
    "    tracker = (n_df.iloc[i, 0] + n_df.iloc[i, 1] + n_df.iloc[i, 2]) / 3\n",
    "    temp_data.append(tracker)\n",
    "\n",
    "n_data = temp_data\n",
    "temp_data, tracker = [], 0\n",
    "\n",
    "for i in range(len(e_df)):\n",
    "    tracker = (e_df.iloc[i, 0] + e_df.iloc[i, 1] + e_df.iloc[i, 2]) / 3\n",
    "    temp_data.append(tracker)\n",
    "\n",
    "e_data = temp_data\n",
    "temp_data, tracker = [], 0\n",
    "\n",
    "for i in range(len(b_df)):\n",
    "    tracker = (b_df.iloc[i, 0] + b_df.iloc[i, 1] + b_df.iloc[i, 2]) / 3\n",
    "    temp_data.append(tracker)\n",
    "\n",
    "b_data = temp_data\n",
    "\n",
    "# Kruskal-Wallis H Test\n",
    "stat, p = kruskal(i_data, n_data, e_data, b_data)\n",
    "print(f\"Kruskal-Wallis H Test Statistic: {stat}\")\n",
    "print(f\"P-value: {p}\")"
   ]
  },
  {
   "cell_type": "code",
   "execution_count": 41,
   "id": "77e78634-647b-43ff-9515-fa217591c24f",
   "metadata": {},
   "outputs": [
    {
     "name": "stdout",
     "output_type": "stream",
     "text": [
      "              Internal  Narcissistic  External  Benevolent\n",
      "Internal      1.000000      0.755840  0.378738    0.222512\n",
      "Narcissistic  0.755840      1.000000  0.233586    0.363389\n",
      "External      0.378738      0.233586  1.000000    0.035720\n",
      "Benevolent    0.222512      0.363389  0.035720    1.000000\n"
     ]
    }
   ],
   "source": [
    "dunn_data = {\n",
    "    'Data': i_data + n_data + e_data + b_data,\n",
    "    'Group': ['Internal'] * 16 + ['Narcissistic'] * 16 + ['External'] * 16 + ['Benevolent'] * 16\n",
    "}\n",
    "\n",
    "dunn_df = pd.DataFrame(dunn_data)\n",
    "dunn_df['Group'] = dunn_df['Group'].astype(cat_type)\n",
    "\n",
    "# Perform Dunn's Test\n",
    "posthoc = posthoc_dunn(dunn_df, val_col='Data', group_col='Group', p_adjust=None)\n",
    "print(posthoc)"
   ]
  },
  {
   "cell_type": "code",
   "execution_count": 54,
   "id": "726d8348-ae11-4c7a-8d9a-1d998318e699",
   "metadata": {},
   "outputs": [
    {
     "data": {
      "image/png": "[encoded data removed]",
      "text/plain": [
       "<Figure size 800x600 with 1 Axes>"
      ]
     },
     "metadata": {},
     "output_type": "display_data"
    }
   ],
   "source": [
    "temp_df = pd.concat([df[df.columns[[24, 27, 30]]].iloc[0:8,], df[df.columns[[24, 27, 30]]].iloc[32:40,]])\n",
    "I_M, I_QL, I_QH = temp_df.median().iloc[0], temp_df.quantile(0.25).iloc[0], temp_df.quantile(0.75).iloc[0]\n",
    "\n",
    "temp_df = pd.concat([df[df.columns[[24, 27, 30]]].iloc[8:16,], df[df.columns[[24, 27, 30]]].iloc[40:48,]])\n",
    "N_M, N_QL, N_QH = temp_df.median().iloc[0], temp_df.quantile(0.25).iloc[0], temp_df.quantile(0.75).iloc[0]\n",
    "\n",
    "temp_df = pd.concat([df[df.columns[[24, 27, 30]]].iloc[16:24,], df[df.columns[[24, 27, 30]]].iloc[48:56,]])\n",
    "E_M, E_QL, E_QH = temp_df.median().iloc[0], temp_df.quantile(0.25).iloc[0], temp_df.quantile(0.75).iloc[0]\n",
    "\n",
    "temp_df = pd.concat([df[df.columns[[24, 27, 30]]].iloc[24:32,], df[df.columns[[24, 27, 30]]].iloc[56:64,]])\n",
    "B_M, B_QL, B_QH = temp_df.median().iloc[0], temp_df.quantile(0.25).iloc[0], temp_df.quantile(0.75).iloc[0]\n",
    "\n",
    "temp_df = pd.concat([df[df.columns[[25, 28, 31]]].iloc[0:8,], df[df.columns[[25, 28, 31]]].iloc[32:40,]])\n",
    "I_M1, I_QL1, I_QH1 = temp_df.median().iloc[0], temp_df.quantile(0.25).iloc[0], temp_df.quantile(0.75).iloc[0]\n",
    "\n",
    "temp_df = pd.concat([df[df.columns[[25, 28, 31]]].iloc[8:16,], df[df.columns[[25, 28, 31]]].iloc[40:48,]])\n",
    "N_M1, N_QL1, N_QH1 = temp_df.median().iloc[0], temp_df.quantile(0.25).iloc[0], temp_df.quantile(0.75).iloc[0]\n",
    "\n",
    "temp_df = pd.concat([df[df.columns[[25, 28, 31]]].iloc[16:24,], df[df.columns[[25, 28, 31]]].iloc[48:56,]])\n",
    "E_M1, E_QL1, E_QH1 = temp_df.median().iloc[0], temp_df.quantile(0.25).iloc[0], temp_df.quantile(0.75).iloc[0]\n",
    "\n",
    "temp_df = pd.concat([df[df.columns[[25, 28, 31]]].iloc[24:32,], df[df.columns[[25, 28, 31]]].iloc[56:64,]])\n",
    "B_M1, B_QL1, B_QH1 = temp_df.median().iloc[0], temp_df.quantile(0.25).iloc[0], temp_df.quantile(0.75).iloc[0]\n",
    "\n",
    "group_names = ['Internal', 'Narcissistic', 'External', 'Benevolent']\n",
    "\n",
    "robot_stats = [\n",
    "    [I_QL, I_M, I_QH],\n",
    "    [N_QL, N_M, N_QH],\n",
    "    [E_QL, E_M, E_QH],\n",
    "    [B_QL, B_M, B_QH],\n",
    "]\n",
    "\n",
    "learner_stats = [\n",
    "    [I_QL1, I_M1, I_QH1],\n",
    "    [N_QL1, N_M1, N_QH1],\n",
    "    [E_QL1, E_M1, E_QH1],\n",
    "    [B_QL1, B_M1, B_QH1],\n",
    "]\n",
    "\n",
    "x = np.arange(len(group_names))\n",
    "bar_width = 0.35\n",
    "\n",
    "fig, ax = plt.subplots(figsize=(8, 6))\n",
    "\n",
    "# Helper to draw each pseudo-box\n",
    "def draw_box(ax, x_pos, stats, color, label=None):\n",
    "    q1, median, q3 = stats\n",
    "    # Draw box\n",
    "    ax.add_patch(plt.Rectangle(\n",
    "        (x_pos - bar_width/2, q1), bar_width, q3 - q1,\n",
    "        facecolor=color, edgecolor='black', label=label if label else None\n",
    "    ))\n",
    "    # Draw median line\n",
    "    ax.plot([x_pos - bar_width/2, x_pos + bar_width/2], [median, median], color='black', linewidth=4)\n",
    "\n",
    "# Draw all boxes\n",
    "for i in range(len(group_names)):\n",
    "    draw_box(ax, x[i] - 0.2, stats=robot_stats[i], color='darkseagreen', label='Robot' if i == 0 else None)\n",
    "    draw_box(ax, x[i] + 0.2, stats=learner_stats[i], color='purple', label='Learner' if i == 0 else None)\n",
    "\n",
    "# Axis settings\n",
    "ax.set_ylim(0, 7)\n",
    "ax.set_xticks(x)\n",
    "ax.set_xticklabels(group_names)\n",
    "ax.set_ylabel('Response')\n",
    "ax.tick_params(axis='x', pad=8)\n",
    "ax.tick_params(axis='y', pad=8)\n",
    "ax.legend(loc=(0.72, 0.1))\n",
    "\n",
    "plt.tight_layout()\n",
    "plt.savefig('./plot/fig_09.png', dpi=300, bbox_inches='tight')\n",
    "plt.show()\n",
    "\n",
    "#Box chart of blame attribution between attribution styles for robot/learner"
   ]
  },
  {
   "cell_type": "code",
   "execution_count": 44,
   "id": "14ed9b0b-91d4-4c0a-a9d4-6ed764e5aeac",
   "metadata": {},
   "outputs": [
    {
     "name": "stdout",
     "output_type": "stream",
     "text": [
      "Kruskal-Wallis H Test Statistic: 2.1166960060025484\n",
      "P-value: 0.5485424394734348\n"
     ]
    }
   ],
   "source": [
    "#H6a: Participants would attribute more blame to the robot when attribution styles are less considerate of the learner’s effort and emphasize self-serving explanations.\n",
    "\n",
    "i_df = pd.concat([df[df.columns[[24, 27, 30]]].iloc[0:8,], df[df.columns[[24, 27, 30]]].iloc[32:40,]])\n",
    "n_df = pd.concat([df[df.columns[[24, 27, 30]]].iloc[8:16,], df[df.columns[[24, 27, 30]]].iloc[40:48,]])\n",
    "e_df = pd.concat([df[df.columns[[24, 27, 30]]].iloc[16:24,], df[df.columns[[24, 27, 30]]].iloc[48:56,]])\n",
    "b_df = pd.concat([df[df.columns[[24, 27, 30]]].iloc[24:32,], df[df.columns[[24, 27, 30]]].iloc[56:64,]])\n",
    "\n",
    "temp_data, tracker = [], 0\n",
    "\n",
    "for i in range(len(i_df)):\n",
    "    tracker = (i_df.iloc[i, 0] + i_df.iloc[i, 1] + i_df.iloc[i, 2]) / 3\n",
    "    temp_data.append(tracker)\n",
    "\n",
    "i_data = temp_data\n",
    "temp_data, tracker = [], 0\n",
    "\n",
    "for i in range(len(n_df)):\n",
    "    tracker = (n_df.iloc[i, 0] + n_df.iloc[i, 1] + n_df.iloc[i, 2]) / 3\n",
    "    temp_data.append(tracker)\n",
    "\n",
    "n_data = temp_data\n",
    "temp_data, tracker = [], 0\n",
    "\n",
    "for i in range(len(e_df)):\n",
    "    tracker = (e_df.iloc[i, 0] + e_df.iloc[i, 1] + e_df.iloc[i, 2]) / 3\n",
    "    temp_data.append(tracker)\n",
    "\n",
    "e_data = temp_data\n",
    "temp_data, tracker = [], 0\n",
    "\n",
    "for i in range(len(b_df)):\n",
    "    tracker = (b_df.iloc[i, 0] + b_df.iloc[i, 1] + b_df.iloc[i, 2]) / 3\n",
    "    temp_data.append(tracker)\n",
    "\n",
    "b_data = temp_data\n",
    "\n",
    "# Kruskal-Wallis H Test\n",
    "stat, p = kruskal(i_data, n_data, e_data, b_data)\n",
    "print(f\"Kruskal-Wallis H Test Statistic: {stat}\")\n",
    "print(f\"P-value: {p}\")"
   ]
  },
  {
   "cell_type": "code",
   "execution_count": 45,
   "id": "308c7118-b2d0-4f00-9acc-3d8a2a61fa7f",
   "metadata": {},
   "outputs": [
    {
     "name": "stdout",
     "output_type": "stream",
     "text": [
      "              Internal  Narcissistic  External  Benevolent\n",
      "Internal      1.000000      0.388215  0.498445    0.678329\n",
      "Narcissistic  0.388215      1.000000  0.852508    0.201389\n",
      "External      0.498445      0.852508  1.000000    0.274972\n",
      "Benevolent    0.678329      0.201389  0.274972    1.000000\n"
     ]
    }
   ],
   "source": [
    "dunn_data = {\n",
    "    'Data': i_data + n_data + e_data + b_data,\n",
    "    'Group': ['Internal'] * 16 + ['Narcissistic'] * 16 + ['External'] * 16 + ['Benevolent'] * 16\n",
    "}\n",
    "\n",
    "dunn_df = pd.DataFrame(dunn_data)\n",
    "dunn_df['Group'] = dunn_df['Group'].astype(cat_type)\n",
    "\n",
    "# Perform Dunn's Test\n",
    "posthoc = posthoc_dunn(dunn_df, val_col='Data', group_col='Group', p_adjust=None)\n",
    "print(posthoc)"
   ]
  },
  {
   "cell_type": "code",
   "execution_count": 46,
   "id": "281cad31-b803-48e0-a76a-94c70a68c457",
   "metadata": {},
   "outputs": [
    {
     "name": "stdout",
     "output_type": "stream",
     "text": [
      "Kruskal-Wallis H Test Statistic: 2.69692910499862\n",
      "P-value: 0.4407494130804871\n"
     ]
    }
   ],
   "source": [
    "#H6a: Participants would attribute more blame to the robot when attribution styles are less considerate of the learner’s effort and emphasize self-serving explanations.\n",
    "\n",
    "i_df = pd.concat([df[df.columns[[25, 28, 31]]].iloc[0:8,], df[df.columns[[25, 28, 31]]].iloc[32:40,]])\n",
    "n_df = pd.concat([df[df.columns[[25, 28, 31]]].iloc[8:16,], df[df.columns[[25, 28, 31]]].iloc[40:48,]])\n",
    "e_df = pd.concat([df[df.columns[[25, 28, 31]]].iloc[16:24,], df[df.columns[[25, 28, 31]]].iloc[48:56,]])\n",
    "b_df = pd.concat([df[df.columns[[25, 28, 31]]].iloc[24:32,], df[df.columns[[25, 28, 31]]].iloc[56:64,]])\n",
    "\n",
    "temp_data, tracker = [], 0\n",
    "\n",
    "for i in range(len(i_df)):\n",
    "    tracker = (i_df.iloc[i, 0] + i_df.iloc[i, 1] + i_df.iloc[i, 2]) / 3\n",
    "    temp_data.append(tracker)\n",
    "\n",
    "i_data = temp_data\n",
    "temp_data, tracker = [], 0\n",
    "\n",
    "for i in range(len(n_df)):\n",
    "    tracker = (n_df.iloc[i, 0] + n_df.iloc[i, 1] + n_df.iloc[i, 2]) / 3\n",
    "    temp_data.append(tracker)\n",
    "\n",
    "n_data = temp_data\n",
    "temp_data, tracker = [], 0\n",
    "\n",
    "for i in range(len(e_df)):\n",
    "    tracker = (e_df.iloc[i, 0] + e_df.iloc[i, 1] + e_df.iloc[i, 2]) / 3\n",
    "    temp_data.append(tracker)\n",
    "\n",
    "e_data = temp_data\n",
    "temp_data, tracker = [], 0\n",
    "\n",
    "for i in range(len(b_df)):\n",
    "    tracker = (b_df.iloc[i, 0] + b_df.iloc[i, 1] + b_df.iloc[i, 2]) / 3\n",
    "    temp_data.append(tracker)\n",
    "\n",
    "b_data = temp_data\n",
    "\n",
    "# Kruskal-Wallis H Test\n",
    "stat, p = kruskal(i_data, n_data, e_data, b_data)\n",
    "print(f\"Kruskal-Wallis H Test Statistic: {stat}\")\n",
    "print(f\"P-value: {p}\")"
   ]
  },
  {
   "cell_type": "code",
   "execution_count": 47,
   "id": "0ea27849-1786-4275-9b68-7ba9ab33a51f",
   "metadata": {},
   "outputs": [
    {
     "name": "stdout",
     "output_type": "stream",
     "text": [
      "              Internal  Narcissistic  External  Benevolent\n",
      "Internal      1.000000      0.171048  0.268898    0.147001\n",
      "Narcissistic  0.171048      1.000000  0.792366    0.935152\n",
      "External      0.268898      0.792366  1.000000    0.730392\n",
      "Benevolent    0.147001      0.935152  0.730392    1.000000\n"
     ]
    }
   ],
   "source": [
    "dunn_data = {\n",
    "    'Data': i_data + n_data + e_data + b_data,\n",
    "    'Group': ['Internal'] * 16 + ['Narcissistic'] * 16 + ['External'] * 16 + ['Benevolent'] * 16\n",
    "}\n",
    "\n",
    "dunn_df = pd.DataFrame(dunn_data)\n",
    "dunn_df['Group'] = dunn_df['Group'].astype(cat_type)\n",
    "\n",
    "# Perform Dunn's Test\n",
    "posthoc = posthoc_dunn(dunn_df, val_col='Data', group_col='Group', p_adjust=None)\n",
    "print(posthoc)"
   ]
  }
 ],
 "metadata": {
  "kernelspec": {
   "display_name": "Python 3 (ipykernel)",
   "language": "python",
   "name": "python3"
  },
  "language_info": {
   "codemirror_mode": {
    "name": "ipython",
    "version": 3
   },
   "file_extension": ".py",
   "mimetype": "text/x-python",
   "name": "python",
   "nbconvert_exporter": "python",
   "pygments_lexer": "ipython3",
   "version": "3.10.16"
  }
 },
 "nbformat": 4,
 "nbformat_minor": 5
}
