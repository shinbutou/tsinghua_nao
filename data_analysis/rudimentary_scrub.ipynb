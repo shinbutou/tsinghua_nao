{
 "cells": [
  {
   "cell_type": "code",
   "execution_count": 2,
   "id": "381115f5-0be8-451d-a8ed-a1e71377c375",
   "metadata": {},
   "outputs": [],
   "source": [
    "import numpy as np\n",
    "import pandas as pd\n",
    "import matplotlib.pyplot as plt"
   ]
  },
  {
   "cell_type": "code",
   "execution_count": null,
   "id": "0f89e21d-fc8c-40e2-b5c9-d67a0187d4c0",
   "metadata": {},
   "outputs": [],
   "source": [
    "df = pd.read_excel(\"./data/before_raw.xlsx\")\n",
    "df"
   ]
  },
  {
   "cell_type": "code",
   "execution_count": 98,
   "id": "53fd1102-f4b7-4c3b-b657-d400078cd0b8",
   "metadata": {},
   "outputs": [],
   "source": [
    "full_list = set(range(1, 64))\n",
    "data_list = set(list(df['1. 您的实验编号是？'][0:72]))"
   ]
  },
  {
   "cell_type": "code",
   "execution_count": 61,
   "id": "3dafb7e3-846a-48a9-a794-cc7998552366",
   "metadata": {},
   "outputs": [
    {
     "data": {
      "text/plain": [
       "set()"
      ]
     },
     "execution_count": 61,
     "metadata": {},
     "output_type": "execute_result"
    }
   ],
   "source": [
    "full_list - data_list"
   ]
  },
  {
   "cell_type": "code",
   "execution_count": 235,
   "id": "df0c8a32-0c2c-4c0d-96f8-240b471b284e",
   "metadata": {},
   "outputs": [
    {
     "data": {
      "text/plain": [
       "[50, 34, 12, 20, 6, 53, 40, 14]"
      ]
     },
     "execution_count": 235,
     "metadata": {},
     "output_type": "execute_result"
    }
   ],
   "source": [
    "data_list = list(df['1. 您的实验编号是？'][0:72])\n",
    "seen, duplication = list(), list()\n",
    "\n",
    "for i in range(len(data_list)):\n",
    "    if data_list[i] in seen:\n",
    "        duplication.append(data_list[i])\n",
    "    else:\n",
    "        seen.append(data_list[i])\n",
    "        \n",
    "duplication"
   ]
  },
  {
   "cell_type": "code",
   "execution_count": 238,
   "id": "b673dc5a-e512-498a-a212-0cf8430a9215",
   "metadata": {},
   "outputs": [],
   "source": [
    "before, after = pd.read_excel(\"./data/before.xlsx\"), pd.read_excel(\"./data/after.xlsx\")\n",
    "\n",
    "exception_index = before[before['1. 您的实验编号是？'] == 53].index[0]\n",
    "before = before.drop(exception_index)\n",
    "before.reset_index(drop=True, inplace=True)\n",
    "\n",
    "duplication.remove(53)"
   ]
  },
  {
   "cell_type": "code",
   "execution_count": 240,
   "id": "488fec56-20f0-4a77-a029-e97133dea3d7",
   "metadata": {},
   "outputs": [
    {
     "data": {
      "text/plain": [
       "[7, 6, 25, 26, 39, 63, 44]"
      ]
     },
     "execution_count": 240,
     "metadata": {},
     "output_type": "execute_result"
    }
   ],
   "source": [
    "deletion_list = list()\n",
    "\n",
    "for i in range(len(duplication)):\n",
    "    deletion_indexes = deletion_list.append(before[before['1. 您的实验编号是？'] == duplication[i]].index[0])\n",
    "    \n",
    "deletion_list"
   ]
  },
  {
   "cell_type": "code",
   "execution_count": 243,
   "id": "c314d004-91e4-4b5a-80a3-72f13f9fdb86",
   "metadata": {},
   "outputs": [],
   "source": [
    "for i in range(len(deletion_list)):\n",
    "    before = before.drop(deletion_list[i])\n",
    "\n",
    "before.reset_index(drop=True, inplace=True)\n",
    "before = before.drop(64)"
   ]
  },
  {
   "cell_type": "code",
   "execution_count": 246,
   "id": "3e243791-d780-4302-8b20-3a10f492b777",
   "metadata": {},
   "outputs": [],
   "source": [
    "after = after.drop(71)\n",
    "\n",
    "for i in range(len(deletion_list)):\n",
    "    after = after.drop(deletion_list[i])\n",
    "\n",
    "after.reset_index(drop=True, inplace=True)"
   ]
  },
  {
   "cell_type": "code",
   "execution_count": 255,
   "id": "b2438ab4-e673-47d3-86dd-a2a191c5c7e2",
   "metadata": {},
   "outputs": [],
   "source": [
    "before.to_csv(\"./data/before.csv\")\n",
    "after.to_csv(\"./data/after.csv\")"
   ]
  }
 ],
 "metadata": {
  "kernelspec": {
   "display_name": "Python 3 (ipykernel)",
   "language": "python",
   "name": "python3"
  },
  "language_info": {
   "codemirror_mode": {
    "name": "ipython",
    "version": 3
   },
   "file_extension": ".py",
   "mimetype": "text/x-python",
   "name": "python",
   "nbconvert_exporter": "python",
   "pygments_lexer": "ipython3",
   "version": "3.10.16"
  }
 },
 "nbformat": 4,
 "nbformat_minor": 5
}
